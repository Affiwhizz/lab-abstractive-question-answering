{
  "cells": [
    {
      "cell_type": "markdown",
      "metadata": {
        "id": "view-in-github",
        "colab_type": "text"
      },
      "source": [
        "<a href=\"https://colab.research.google.com/github/Affiwhizz/lab-abstractive-question-answering/blob/main/lab-abstractive-question-answering.ipynb\" target=\"_parent\"><img src=\"https://colab.research.google.com/assets/colab-badge.svg\" alt=\"Open In Colab\"/></a>"
      ]
    },
    {
      "cell_type": "markdown",
      "metadata": {
        "id": "O7KBOS0yO_mi"
      },
      "source": [
        "# LAB | Abstractive Question Answering"
      ]
    },
    {
      "cell_type": "markdown",
      "metadata": {
        "id": "WL4goh8fPC5l"
      },
      "source": [
        "Abstractive question-answering focuses on the generation of multi-sentence answers to open-ended questions. It usually works by searching massive document stores for relevant information and then using this information to synthetically generate answers. This notebook demonstrates how Pinecone helps you build an abstractive question-answering system. We need three main components:\n",
        "\n",
        "- A vector index to store and run semantic search\n",
        "- A retriever model for embedding context passages\n",
        "- A generator model to generate answers"
      ]
    },
    {
      "cell_type": "markdown",
      "metadata": {
        "id": "n6uNNJmuPIVT"
      },
      "source": [
        "# Install Dependencies"
      ]
    },
    {
      "cell_type": "code",
      "source": [
        "!pip install -qU datasets pinecone-client==3.1.0 sentence-transformers torch"
      ],
      "metadata": {
        "collapsed": true,
        "colab": {
          "base_uri": "https://localhost:8080/"
        },
        "id": "R1p-5izMJHe6",
        "outputId": "29be080f-e262-4025-b70f-8669b8254aa7"
      },
      "execution_count": 1,
      "outputs": [
        {
          "output_type": "stream",
          "name": "stdout",
          "text": [
            "\u001b[?25l   \u001b[90m━━━━━━━━━━━━━━━━━━━━━━━━━━━━━━━━━━━━━━━━\u001b[0m \u001b[32m0.0/211.0 kB\u001b[0m \u001b[31m?\u001b[0m eta \u001b[36m-:--:--\u001b[0m\r\u001b[2K   \u001b[90m━━━━━━━━━━━━━━━━━━━━━━━━━━━━━━━━━━━━━━━━\u001b[0m \u001b[32m211.0/211.0 kB\u001b[0m \u001b[31m8.5 MB/s\u001b[0m eta \u001b[36m0:00:00\u001b[0m\n",
            "\u001b[2K   \u001b[90m━━━━━━━━━━━━━━━━━━━━━━━━━━━━━━━━━━━━━━━━\u001b[0m \u001b[32m506.3/506.3 kB\u001b[0m \u001b[31m28.7 MB/s\u001b[0m eta \u001b[36m0:00:00\u001b[0m\n",
            "\u001b[2K   \u001b[90m━━━━━━━━━━━━━━━━━━━━━━━━━━━━━━━━━━━━━━━━\u001b[0m \u001b[32m42.8/42.8 MB\u001b[0m \u001b[31m21.4 MB/s\u001b[0m eta \u001b[36m0:00:00\u001b[0m\n",
            "\u001b[?25h\u001b[31mERROR: pip's dependency resolver does not currently take into account all the packages that are installed. This behaviour is the source of the following dependency conflicts.\n",
            "pylibcudf-cu12 25.6.0 requires pyarrow<20.0.0a0,>=14.0.0; platform_machine == \"x86_64\", but you have pyarrow 21.0.0 which is incompatible.\n",
            "cudf-cu12 25.6.0 requires pyarrow<20.0.0a0,>=14.0.0; platform_machine == \"x86_64\", but you have pyarrow 21.0.0 which is incompatible.\u001b[0m\u001b[31m\n",
            "\u001b[0m"
          ]
        }
      ]
    },
    {
      "cell_type": "markdown",
      "metadata": {
        "id": "y0EU4eIbPTTL"
      },
      "source": [
        "# Load and Prepare Dataset"
      ]
    },
    {
      "cell_type": "markdown",
      "metadata": {
        "id": "USvwSnsDvrdz"
      },
      "source": [
        "Our source data will be taken from the Wiki Snippets dataset, which contains over 17 million passages from Wikipedia. But, since indexing the entire dataset may take some time, we will only utilize 50,000 passages in this demo that include \"History\" in the \"section title\" column. If you want, you may utilize the complete dataset. Pinecone vector database can effortlessly manage millions of documents for you."
      ]
    },
    {
      "cell_type": "code",
      "source": [
        "from datasets import load_dataset\n",
        "from itertools import islice\n",
        "\n",
        "wiki_stream = load_dataset(\n",
        "    \"wikimedia/wikipedia\",\n",
        "    \"20231101.en\",\n",
        "    split=\"train\",\n",
        "    streaming=True\n",
        ").shuffle(buffer_size=10_000, seed=960)\n",
        "\n",
        "sample_size = 5000\n",
        "wiki_small_iter = islice(wiki_stream, sample_size)\n",
        "\n",
        "wiki_small = list(wiki_small_iter)\n",
        "len(wiki_small)"
      ],
      "metadata": {
        "colab": {
          "base_uri": "https://localhost:8080/",
          "height": 67,
          "referenced_widgets": [
            "3f85b9b9cbb04ea8b091a5690c094dd7",
            "94202915edff45ec8030839594d9d27e",
            "fbd285a42cc44199b5ea49d79999570a",
            "ed61a4bd780e418eb97980dd88834bd9",
            "7636479ef1ac4f7bad28a1f6698f11d7",
            "d58f2c154192478c8815165b77ed8a97",
            "dd62cf82321e495f871c2e424a9c1236",
            "d3f2e209e5614a58aafd046190f37323",
            "9fc6071d793c455da2e07fc875b6c5ad",
            "337c120a3a0646738446907274e8855f",
            "f71b361c40a7451ea398567e5814e40a"
          ]
        },
        "id": "61tJ9ehqJMJ3",
        "outputId": "446ff1c7-b9b8-4e14-b5b4-4da5c25cb6d9"
      },
      "execution_count": 8,
      "outputs": [
        {
          "output_type": "display_data",
          "data": {
            "text/plain": [
              "Resolving data files:   0%|          | 0/41 [00:00<?, ?it/s]"
            ],
            "application/vnd.jupyter.widget-view+json": {
              "version_major": 2,
              "version_minor": 0,
              "model_id": "3f85b9b9cbb04ea8b091a5690c094dd7"
            }
          },
          "metadata": {}
        },
        {
          "output_type": "execute_result",
          "data": {
            "text/plain": [
              "5000"
            ]
          },
          "metadata": {},
          "execution_count": 8
        }
      ]
    },
    {
      "cell_type": "markdown",
      "metadata": {
        "id": "MoPdaLFAvvci"
      },
      "source": [
        "We are loading the dataset in the streaming mode so that we don't have to wait for the whole dataset to download (which is over 9GB). Instead, we iteratively download records one at a time."
      ]
    },
    {
      "cell_type": "code",
      "execution_count": 9,
      "metadata": {
        "colab": {
          "base_uri": "https://localhost:8080/"
        },
        "id": "VLjXCwKevy4K",
        "outputId": "6947ece8-edb0-486a-dd77-9a3dd1a00f9b"
      },
      "outputs": [
        {
          "output_type": "execute_result",
          "data": {
            "text/plain": [
              "{'id': '2117822',\n",
              " 'url': 'https://en.wikipedia.org/wiki/57th%20United%20States%20Congress',\n",
              " 'title': '57th United States Congress',\n",
              " 'text': 'The 57th United States Congress was a meeting of the legislative branch of the United States federal government, composed of the United States Senate and the United States House of Representatives. It met in Washington, DC from March 4, 1901, to March 4, 1903, during the final six months of William McKinley\\'s presidency, and the first year and a half of the first administration of his successor, Theodore Roosevelt. The apportionment of seats in the House of Representatives was based on the 1890 United States census. Both chambers had a Republican majority.\\n\\nMajor events\\n\\n September 6, 1901: Leon Czolgosz shot President William McKinley at the Pan-American Exposition in Buffalo, New York\\n September 14, 1901: President William McKinley died. Vice President Theodore Roosevelt became President of the United States\\n October 16, 1901: President Roosevelt invited African American leader Booker T. Washington to the White House. The American South reacted angrily to the visit, and racial violence increased in the region.\\n December 3, 1901: President Roosevelt delivered a 20,000-word speech to the House of Representatives, asking Congress to curb the power of trusts \"within reasonable limits.\"\\n February 22, 1902: Senators Benjamin Tillman and John L. McLaurin, both of South Carolina, have a fist fight while Congress is in session. Both Tillman and McLaurin were later censured by the Senate on February 28.\\n June 2, 1902: The Anthracite Coal Strike by the United Mine Workers began, continuing until October 21, 1902.\\n July 4, 1902: The Philippine–American War ended.\\n\\nMajor legislation\\n\\n June 17, 1902: Newlands Reclamation Act\\n June 28, 1902: Isthmian Canal Act (Panama Canal), Sess. 1, ch. 1302, \\n January 21, 1903: Militia Act of 1903 (Dick Act), \\n February 11, 1903: Expediting Act, Sess. 2, ch. 544, \\n February 19, 1903: Elkins Act\\n March 3, 1903: Immigration Act of 1903, including §39, the Anarchist Exclusion Act\\n\\nParty summary\\n\\nSenate \\n\\n Note: Fred T. Dubois (Idaho) was elected as a Silver Republican, but changed parties to Democratic after this Congress began.\\n\\nHouse of Representatives\\n\\nLeadership\\n\\nSenate leadership\\n\\nPresiding\\n President: Theodore Roosevelt (R), until September 14, 1901; vacant thereafter.\\nPresident pro tempore: William P. Frye (R)\\nDemocratic Caucus Chairman: James K. Jones \\nRepublican Conference Chairman: William B. Allison\\n\\nHouse leadership\\n\\nPresiding\\nSpeaker: David B. Henderson (R)\\nDemocratic Caucus Chairman: James Hay \\nRepublican Conference Chairman: Joseph G. Cannon \\nRepublican Campaign Committee Chairman: Joseph W. Babcock\\n\\nMajority (Republican) leadership\\nMajority Leader: Sereno E. Payne\\nMajority Whip: James A. Tawney\\n\\nMinority (Democratic) leadership\\nMinority Leader: James D. Richardson\\nMinority Whip: James T. Lloyd\\n\\nMembers\\nThis list is arranged by chamber, then by state. Senators are listed by class, and representatives are listed by district.\\nSkip to House of Representatives, below\\n\\nSenate\\nAt this time, Senators were elected by the state legislatures every two years, with one-third beginning new six-year terms with each Congress. The Senate class numbers, which indicate the cycle of their election, precede the names in the list below. In this Congress, Class 1 meant their term began in the last Congress, requiring reelection in 1904; Class 2 meant their term began with this Congress, requiring reelection in 1906; and Class 3 meant their term ended with this Congress, requiring reelection in 1902.\\n\\nAlabama \\n 2. John T. Morgan (D)\\n 3. Edmund W. Pettus (D)\\n\\nArkansas \\n 2. James H. Berry (D)\\n 3. James K. Jones (D)\\n\\nCalifornia \\n 1. Thomas R. Bard (R)\\n 3. George C. Perkins (R)\\n\\nColorado \\n 2. Thomas M. Patterson (D)\\n 3. Henry M. Teller (SR)\\n\\nConnecticut \\n 1. Joseph R. Hawley (R)\\n 3. Orville H. Platt (R)\\n\\nDelaware \\n 1. L. Heisler Ball (R), from March 2, 1903\\n 2. J. Frank Allee (R), from March 2, 1903\\n\\nFlorida \\n 1. James P. Taliaferro (D)\\n 3. Stephen Mallory (D)\\n\\nGeorgia \\n 2. Augustus O. Bacon (D)\\n 3. Alexander S. Clay (D)\\n\\nIdaho \\n 2. Fred T. Dubois (D)\\n 3. Henry Heitfeld (P)\\n\\nIllinois \\n 2. Shelby M. Cullom (R)\\n 3. William E. Mason (R)\\n\\nIndiana \\n 1. Albert J. Beveridge (R)\\n 3. Charles W. Fairbanks (R)\\n\\nIowa \\n 2. Jonathan P. Dolliver (R)\\n 3. William B. Allison (R)\\n\\nKansas \\n 2. Joseph R. Burton (R)\\n 3. William A. Harris (P)\\n\\nKentucky \\n 2. Joseph C. S. Blackburn (D)\\n 3. William J. Deboe (R)\\n\\nLouisiana \\n 2. Murphy J. Foster (D)\\n 3. Samuel D. McEnery (D)\\n\\nMaine \\n 1. Eugene Hale (R)\\n 2. William P. Frye (R)\\n\\nMaryland \\n 1. Louis E. McComas (R)\\n 3. George L. Wellington (R)\\n\\nMassachusetts \\n 1. Henry Cabot Lodge (R)\\n 2. George Frisbie Hoar (R)\\n\\nMichigan \\n 1. Julius C. Burrows (R)\\n 2. James McMillan (R), until August 10, 1902\\n Russell A. Alger (R), from September 27, 1902\\n\\nMinnesota \\n 1. Moses E. Clapp (R)\\n 2. Knute Nelson (R)\\n\\nMississippi \\n 1. Hernando D. Money (D)\\n 2. Anselm J. McLaurin (D)\\n\\nMissouri \\n 1. Francis M. Cockrell (D)\\n 3. George G. Vest (D)\\n\\nMontana \\n 1. Paris Gibson (D), from March 7, 1901\\n 2. William A. Clark (D)\\n\\nNebraska \\n 1. William V. Allen (P), until March 28, 1901\\n Charles H. Dietrich (R), from March 28, 1901\\n 2. Joseph H. Millard (R), from March 28, 1901\\n\\nNevada \\n 1. William M. Stewart (R)\\n 3. John P. Jones (R)\\n\\nNew Hampshire \\n 2. Henry E. Burnham (R)\\n 3. Jacob H. Gallinger (R)\\n\\nNew Jersey \\n 1. John Kean (R)\\n 2. William J. Sewell (R), until December 27, 1901\\n John F. Dryden (R), from January 29, 1902\\n\\nNew York \\n 1. Chauncey M. Depew (R)\\n 3. Thomas C. Platt (R)\\n\\nNorth Carolina \\n 2. Furnifold M. Simmons (D)\\n 3. Jeter C. Pritchard (R)\\n\\nNorth Dakota \\n 1. Porter J. McCumber (R)\\n 3. Henry C. Hansbrough (R)\\n\\nOhio \\n 1. Marcus A. Hanna (R)\\n 3. Joseph B. Foraker (R)\\n\\nOregon \\n 2. John H. Mitchell (R)\\n 3. Joseph Simon (R)\\n\\nPennsylvania \\n 1. Matthew S. Quay (R)\\n 3. Boies Penrose (R)\\n\\nRhode Island \\n 1. Nelson W. Aldrich (R)\\n 2. George P. Wetmore (R)\\n\\nSouth Carolina \\n 2. Benjamin R. Tillman (D)\\n 3. John L. McLaurin (D)\\n\\nSouth Dakota \\n 2. Robert J. Gamble (R)\\n 3. James H. Kyle (R), until July 1, 1901\\n Alfred B. Kittredge (R), from July 11, 1901\\n\\nTennessee \\n 1. William B. Bate (D)\\n 2. Edward W. Carmack (D)\\n\\nTexas \\n 1. Charles A. Culberson (D)\\n 2. Joseph W. Bailey (D)\\n\\nUtah \\n 1. Thomas Kearns (R)\\n 3. Joseph L. Rawlins (D)\\n\\nVermont \\n 1. Redfield Proctor (R)\\n 3. William P. Dillingham (R)\\n\\nVirginia \\n 1. John W. Daniel (D)\\n 2. Thomas S. Martin (D)\\n\\nWashington \\n 1. Addison G. Foster (R)\\n 3. George Turner (SR)\\n\\nWest Virginia \\n 1. Nathan B. Scott (R)\\n 2. Stephen B. Elkins (R)\\n\\nWisconsin \\n 1. Joseph V. Quarles (R)\\n 3. John C. Spooner (R)\\n\\nWyoming \\n 1. Clarence D. Clark (R)\\n 2. Francis E. Warren (R)\\n\\nHouse of Representatives\\n\\nAlabama \\n . George W. Taylor (D)\\n . Ariosto A. Wiley (D)\\n . Henry D. Clayton (D)\\n . Sydney J. Bowie (D)\\n . Charles Winston Thompson (D)\\n . John H. Bankhead (D)\\n . John L. Burnett (D)\\n . William N. Richardson (D)\\n . Oscar Underwood (D)\\n\\nArkansas \\n . Philip D. McCulloch Jr. (D)\\n . John S. Little (D)\\n . Thomas C. McRae (D)\\n . Charles C. Reid (D)\\n . Hugh A. Dinsmore (D)\\n . Stephen Brundidge Jr. (D)\\n\\nCalifornia \\n . Frank Coombs (R)\\n . Samuel D. Woods (R)\\n . Victor H. Metcalf (R)\\n . Julius Kahn (R)\\n . Eugene F. Loud (R)\\n . James McLachlan (R)\\n . James C. Needham (R)\\n\\nColorado \\n . John F. Shafroth (SR)\\n . John C. Bell (P)\\n\\nConnecticut \\n . E. Stevens Henry (R)\\n . Nehemiah D. Sperry (R)\\n . Charles A. Russell (R), until October 23, 1902\\n Frank B. Brandegee (R), from November 4, 1902\\n . Ebenezer J. Hill (R)\\n\\nDelaware \\n . L. Heisler Ball (R)\\n\\nFlorida \\n . Stephen M. Sparkman (D)\\n . Robert W. Davis (D)\\n\\nGeorgia \\n . Rufus E. Lester (D)\\n . James M. Griggs (D)\\n . Elijah B. Lewis (D)\\n . William C. Adamson (D)\\n . Leonidas F. Livingston (D)\\n . Charles L. Bartlett (D)\\n . John W. Maddox (D)\\n . William M. Howard (D)\\n . Farish C. Tate (D)\\n . William H. Fleming (D)\\n . William G. Brantley (D)\\n\\nIdaho \\n . Thomas L. Glenn (P)\\n\\nIllinois \\n . James R. Mann (R)\\n . John J. Feely (D)\\n . George P. Foster (D)\\n . James McAndrews (D)\\n . William Frank Mahoney (D)\\n . Henry S. Boutell (R)\\n . George E. Foss (R)\\n . Albert J. Hopkins (R)\\n . Robert R. Hitt (R)\\n . George W. Prince (R)\\n . Walter Reeves (R)\\n . Joseph G. Cannon (R)\\n . Vespasian Warner (R)\\n . Joseph V. Graff (R)\\n . J. Ross Mickey (D)\\n . Thomas J. Selby (D)\\n . Ben F. Caldwell (D)\\n . Thomas M. Jett (D)\\n . Joseph B. Crowley (D)\\n . James R. Williams (D)\\n . Fred J. Kern (D)\\n . George Washington Smith (R)\\n\\nIndiana \\n . James A. Hemenway (R)\\n . Robert W. Miers (D)\\n . William T. Zenor (D)\\n . Francis M. Griffith (D)\\n . Elias S. Holliday (R)\\n . James E. Watson (R)\\n . Jesse Overstreet (R)\\n . George W. Cromer (R)\\n . Charles B. Landis (R)\\n . Edgar D. Crumpacker (R)\\n . George W. Steele (R)\\n . James M. Robinson (D)\\n . Abraham L. Brick (R)\\n\\nIowa \\n . Thomas Hedge (R)\\n . John N. W. Rumple (R), until January 31, 1903\\n . David B. Henderson (R)\\n . Gilbert N. Haugen (R)\\n . Robert G. Cousins (R)\\n . John F. Lacey (R)\\n . John A. T. Hull (R)\\n . William P. Hepburn (R)\\n . Walter I. Smith (R)\\n . James P. Conner (R)\\n . Lot Thomas (R)\\n\\nKansas \\n . Charles Curtis (R)\\n . Justin De Witt Bowersock (R)\\n . Alfred Metcalf Jackson (D)\\n . James Monroe Miller (R)\\n . William A. Calderhead (R)\\n . William A. Reeder (R)\\n . Chester I. Long (R), until March 4, 1903\\n . Charles Frederick Scott (R)\\n\\nKentucky \\n . Charles K. Wheeler (D)\\n . Henry Dixon Allen (D)\\n . John S. Rhea (D), until March 25, 1902\\n J. McKenzie Moss (R), from March 25, 1902\\n . David Highbaugh Smith (D)\\n . Harvey Samuel Irwin (R)\\n . Daniel Linn Gooch (D)\\n . South Trimble (D)\\n . George G. Gilbert (D)\\n . James Nicholas Kehoe (D)\\n . James Bramford White (D)\\n . Vincent Boreing (R)\\n\\nLouisiana \\n . Adolph Meyer (D)\\n . Robert C. Davey (D)\\n . Robert F. Broussard (D)\\n . Phanor Breazeale (D)\\n . Joseph E. Ransdell (D)\\n . Samuel M. Robertson (D)\\n\\nMaine \\n . Amos L. Allen (R)\\n . Charles E. Littlefield (R)\\n . Edwin C. Burleigh (R)\\n . Llewellyn Powers (R), from April 8, 1901\\n\\nMaryland \\n . William Humphreys Jackson (R)\\n . Albert Blakeney (R)\\n . Frank C. Wachter (R)\\n . Charles R. Schirm (R)\\n . Sydney E. Mudd (R)\\n . George A. Pearre (R)\\n\\nMassachusetts \\n . George P. Lawrence (R)\\n . Frederick H. Gillett (R)\\n . John R. Thayer (D)\\n . Charles Q. Tirrell (R)\\n . William S. Knox (R)\\n . William H. Moody (R), until May 1, 1902\\n Augustus P. Gardner (R), from November 4, 1902\\n . Ernest W. Roberts (R)\\n . Samuel W. McCall (R)\\n . Joseph A. Conry (D)\\n . Henry F. Naphen (D)\\n . Samuel L. Powers (R)\\n . William C. Lovering (R)\\n . William S. Greene (R)\\n\\nMichigan \\n . John B. Corliss (R)\\n . Henry C. Smith (R)\\n . Washington Gardner (R)\\n . Edward L. Hamilton (R)\\n . William Alden Smith (R)\\n . Samuel W. Smith (R)\\n . Edgar Weeks (R)\\n . Joseph W. Fordney (R)\\n . Roswell P. Bishop (R)\\n . Rousseau O. Crump (R), until May 1, 1901\\n Henry H. Aplin (R), from October 15, 1901\\n . Archibald B. Darragh (R)\\n . Carlos D. Shelden (R)\\n\\nMinnesota \\n . James Albertus Tawney (R)\\n . James T. McCleary (R)\\n . Joel Heatwole (R)\\n . Frederick C. Stevens (R)\\n . Loren Fletcher (R)\\n . R. Page W. Morris (R)\\n . Frank Eddy (R)\\n\\nMississippi \\n . Ezekiel S. Candler Jr. (D)\\n . Thomas Spight (D)\\n . Patrick Stevens Henry (D)\\n . Andrew F. Fox (D)\\n . John Sharp Williams (D)\\n . Frank A. McLain (D)\\n . Charles E. Hooker (D)\\n\\nMissouri \\n . James T. Lloyd (D)\\n . William W. Rucker (D)\\n . John Dougherty (D)\\n . Charles F. Cochran (D)\\n . William S. Cowherd (D)\\n . David A. De Armond (D)\\n . James Cooney (D)\\n . Dorsey W. Shackleford (D)\\n . James Beauchamp Clark (D)\\n . Richard Bartholdt (R)\\n . Charles F. Joy (R)\\n . James Joseph Butler (D), until June 28, 1902, then November 4, 1902 – February 26, 1903\\n George Wagoner (R), from February 26, 1903\\n . Edward Robb (D)\\n . Willard D. Vandiver (D)\\n . Maecenas E. Benton (D)\\n\\nMontana \\n . Caldwell Edwards (P)\\n\\nNebraska \\n . Elmer J. Burkett (R)\\n . David H. Mercer (R)\\n . John S. Robinson (D)\\n . William L. Stark (P)\\n . Ashton C. Shallenberger (D)\\n . William Neville (P)\\n\\nNevada \\n . Francis G. Newlands (D)\\n\\nNew Hampshire \\n . Cyrus A. Sulloway (R)\\n . Frank Dunklee Currier (R)\\n\\nNew Jersey \\n . Henry C. Loudenslager (R)\\n . John J. Gardner (R)\\n . Benjamin F. Howell (R)\\n . Joshua S. Salmon (D), until May 6, 1902\\n De Witt C. Flanagan (D), from June 18, 1902\\n . James F. Stewart (R)\\n . Richard Wayne Parker (R)\\n . Allan L. McDermott (D)\\n . Charles N. Fowler (R)\\n\\nNew York \\n . Frederic Storm (R)\\n . John J. Fitzgerald (D)\\n . Henry Bristow (R)\\n . Harry A. Hanbury (R)\\n . Frank E. Wilson (D)\\n . George H. Lindsay (D)\\n . Nicholas Muller (D), until November 22, 1901\\n Montague Lessler (R), from January 7, 1902\\n . Thomas J. Creamer (D)\\n . Henry M. Goldfogle (D)\\n . Amos J. Cummings (D), until May 2, 1902\\n Edward Swann (D), from November 4, 1902\\n . William Sulzer (D)\\n . George B. McClellan Jr. (D)\\n . Oliver Belmont (D)\\n . William H. Douglas (R)\\n . Jacob Ruppert (D)\\n . Cornelius A. Pugsley (D)\\n . Arthur S. Tompkins (R)\\n . John H. Ketcham (R)\\n . William H. Draper (R)\\n . George N. Southwick (R)\\n . John Knox Stewart (R)\\n . Lucius N. Littauer (R)\\n . Louis W. Emerson (R)\\n . Charles L. Knapp (R), from November 5, 1901\\n . James S. Sherman (R)\\n . George W. Ray (R), until September 11, 1902\\n John W. Dwight (R), from November 4, 1902\\n . Michael E. Driscoll (R)\\n . Sereno E. Payne (R)\\n . Charles W. Gillet (R)\\n . James W. Wadsworth (R)\\n . James B. Perkins (R)\\n . William H. Ryan (D)\\n . De Alva S. Alexander (R)\\n . Edward B. Vreeland (R)\\n\\nNorth Carolina \\n . John Humphrey Small (D)\\n . Claude Kitchin (D)\\n . Charles R. Thomas (D)\\n . Edward W. Pou (D)\\n . William W. Kitchin (D)\\n . John D. Bellamy (D)\\n . Theodore F. Kluttz (D)\\n . E. Spencer Blackburn (R)\\n . James M. Moody (R), until February 5, 1903\\n\\nNorth Dakota \\n . Thomas Frank Marshall (R)\\n\\nOhio \\n . William B. Shattuc (R)\\n . Jacob H. Bromwell (R)\\n . Robert M. Nevin (R)\\n . Robert B. Gordon (D)\\n . John S. Snook (D)\\n . Charles Q. Hildebrant (R)\\n . Thomas B. Kyle (R)\\n . William R. Warnock (R)\\n . James H. Southard (R)\\n . Stephen Morgan (R)\\n . Charles H. Grosvenor (R)\\n . Emmett Tompkins (R)\\n . James A. Norton (D)\\n . William W. Skiles (R)\\n . Henry C. Van Voorhis (R)\\n . John J. Gill (R)\\n . John W. Cassingham (D)\\n . Robert W. Tayler (R)\\n . Charles W. F. Dick (R)\\n . Jacob A. Beidler (R)\\n . Theodore E. Burton (R)\\n\\nOregon \\n . Thomas H. Tongue (R), until January 11, 1903\\n . Malcolm A. Moody (R)\\n\\nPennsylvania \\n . Henry H. Bingham (R)\\n . Robert Adams Jr. (R)\\n . Henry Burk (R)\\n . James R. Young (R)\\n . Edward D. Morrell (R)\\n . Thomas S. Butler (R)\\n . Irving P. Wanger (R)\\n . Howard Mutchler (D)\\n . Henry D. Green (D)\\n . Marriott Brosius (R), until March 16, 1901\\n Henry B. Cassel (R), from November 5, 1901\\n . William Connell (R)\\n . Henry W. Palmer (R)\\n . George R. Patterson (R)\\n . Marlin E. Olmsted (R)\\n . Charles F. Wright (R)\\n . Elias Deemer (R)\\n . Rufus K. Polk (D), until March 5, 1902\\n Alexander Billmeyer (D), from November 4, 1902\\n . Thaddeus M. Mahon (R)\\n . Robert Jacob Lewis (R)\\n . Alvin Evans (R)\\n . Summers M. Jack (R)\\n . John Dalzell (R)\\n . William H. Graham (R)\\n . Ernest F. Acheson (R)\\n . Joseph B. Showalter (R)\\n . Arthur L. Bates (R)\\n . Joseph C. Sibley (R)\\n . James K. P. Hall (D), until November 29, 1902\\n . Galusha A. Grow (R)\\n . Robert H. Foerderer (R)\\n\\nRhode Island \\n . Melville Bull (R)\\n . Adin B. Capron (R)\\n\\nSouth Carolina \\n . William Elliott (D)\\n . William J. Talbert (D)\\n . Asbury C. Latimer (D)\\n . Joseph T. Johnson (D)\\n . David E. Finley (D)\\n . Robert B. Scarborough (D)\\n . J. William Stokes (D), until July 6, 1901\\n Asbury F. Lever (D), from November 5, 1901\\n\\nSouth Dakota \\n . Charles H. Burke (R)\\n . Eben W. Martin (R)\\n\\nTennessee \\n . Walter P. Brownlow (R)\\n . Henry R. Gibson (R)\\n . John A. Moon (D)\\n . Charles E. Snodgrass (D)\\n . James D. Richardson (D)\\n . John W. Gaines (D)\\n . Lemuel P. Padgett (D)\\n . Thetus W. Sims (D)\\n . Rice A. Pierce (D)\\n . Malcolm R. Patterson (D)\\n\\nTexas \\n . Thomas H. Ball (D)\\n . Samuel B. Cooper (D)\\n . Reese C. De Graffenreid (D), until August 29, 1902\\n Gordon J. Russell (D), from November 4, 1902\\n . John L. Sheppard (D), until October 11, 1902\\n Morris Sheppard (D), from November 15, 1902\\n . Choice B. Randell (D)\\n . Robert E. Burke (D), until June 5, 1901\\n Dudley G. Wooten (D), from July 13, 1901\\n . Robert L. Henry (D)\\n . Samuel W. T. Lanham (D), until January 15, 1903\\n . Albert S. Burleson (D)\\n . George Farmer Burgess (D)\\n . Rudolph Kleberg (D)\\n . James L. Slayden (D)\\n . John H. Stephens (D)\\n\\nUtah \\n . George Sutherland (R)\\n\\nVermont \\n . David J. Foster (R)\\n . Kittredge Haskins (R)\\n\\nVirginia \\n . William A. Jones (D)\\n . Harry L. Maynard (D)\\n . John Lamb (D)\\n . Francis R. Lassiter (D)\\n . Claude A. Swanson (D)\\n . Peter J. Otey (D), until May 4, 1902\\n Carter Glass (D), from November 4, 1902\\n . James Hay (D)\\n . John F. Rixey (D)\\n . William F. Rhea (D)\\n . Henry D. Flood (D)\\n\\nWashington \\n . Francis W. Cushman (R)\\n . Wesley L. Jones (R)\\n\\nWest Virginia \\n . Blackburn B. Dovener (R)\\n . Alston G. Dayton (R)\\n . Joseph Holt Gaines (R)\\n . James Anthony Hughes (R)\\n\\nWisconsin \\n . Henry Allen Cooper (R)\\n . Herman B. Dahle (R)\\n . Joseph W. Babcock (R)\\n . Theobald Otjen (R)\\n . Samuel S. Barney (R)\\n . James H. Davidson (R)\\n . John J. Esch (R)\\n . Edward S. Minor (R)\\n . Webster E. Brown (R)\\n . John J. Jenkins (R)\\n\\nWyoming \\n . Frank W. Mondell (R)\\n\\nNon-voting members \\n . Marcus Aurelius Smith (D)\\n . Robert W. Wilcox (I)\\n . Bernard Shandon Rodey (R)\\n . Dennis T. Flynn (R)\\n . Federico Degetau (Resident Commissioner) (R)\\n\\nChanges in membership\\nThe count below reflects changes from the beginning of the first session of this Congress.\\n\\nSenate\\nNote:Delaware\\'s Class 1 Senate seat remained vacant for entire Congress due to the legislature\\'s failure to elect.\\n\\n Replacements: 4\\n Democratic: 1 seat gain\\n Republican: 3 seat gain\\n Populist: 1 seat loss\\n Deaths: 3\\n Resignations: 0\\n Vacancy: 1\\n Total seats with changes:  6\\n\\nHouse of Representatives\\n Replacements: 17\\n Democratic: 3 seat loss\\n Republican: 3 seat gain\\n Deaths: 14\\n Resignations: 5\\n Contested elections: 2\\n Total seats with changes: 24\\n\\nCommittees\\n\\nSenate\\n\\n Additional Accommodations for the Library of Congress (Select) (Chairman: James H. Berry; Ranking Member: Shelby M. Cullom)\\n Agriculture and Forestry (Chairman: Redfield Proctor; Ranking Member: William B. Bate)\\n Appropriations (Chairman: William B. Allison; Ranking Member: Francis M. Cockrell)\\n Audit and Control the Contingent Expenses of the Senate (Chairman: John P. Jones; Ranking Member: Hernando D. Money)\\n Canadian Relations (Chairman: John F. Dryden)\\n Census (Chairman: Joseph V. Quarles; Ranking Member: Samuel D. McEnery)\\n Civil Service and Retrenchment (Chairman: George C. Perkins; Ranking Member: William A. Harris)\\n Claims (Chairman: Francis E. Warren; Ranking Member: Henry M. Teller)\\n Coast and Insular Survey (Chairman: Addison G. Foster; Ranking Member: John Tyler Morgan)\\n Coast Defenses (Chairman: John H. Mitchell; Ranking Member: George Turner)\\n Commerce (Chairman: William P. Frye; Ranking Member: John P. Jones)\\n Corporations Organized in the District of Columbia (Chairman: Thomas S. Martin; Ranking Member: Nelson W. Aldrich)\\n Cuban Relations (Chairman: Orville H. Platt; Ranking Member: Henry M. Teller)\\n Distributing Public Revenue Among the States (Select)\\n District of Columbia (Chairman: James McMillan; Ranking Member: Thomas S. Martin)\\n Education and Labor (Chairman: Louis E. McComas; Ranking Member: John W. Daniel)\\n Engrossed Bills (Chairman: Francis M. Cockrell; Ranking Member: George F. Hoar)\\n Enrolled Bills (Chairman: Mark Hanna; Ranking Member: Murphy J. Foster)\\n Establish a University in the United States (Select) (Chairman: William J. Deboe; Ranking Member: James K. Jones)\\n Examination and Disposition of Documents (Select) (Chairman: Russell A. Alger)\\n Examine the Several Branches in the Civil Service (Chairman: Moses E. Clapp; Ranking Member: Henry Heitfeld)\\n Expenditures in Executive Departments\\n Finance (Chairman: Nelson W. Aldrich; Ranking Member: George G. Vest)\\n Fisheries (Chairman: Thomas R. Bard; Ranking Member: George Turner)\\n Five Civilized Tribes of Indians (Select) (Chairman: William B. Bate; Ranking Member: Joseph R. Burton)\\n Foreign Relations (Chairman: Shelby M. Cullom; Ranking Member: John T. Morgan)\\n Forest Reservations and the Protection of Game (Chairman: Joseph R. Burton; Ranking Member: John T. Morgan)\\n Geological Survey (Chairman: John Kean; Ranking Member: Hernando D. Money)\\n Immigration (Chairman: Boies Penrose; Ranking Member: Joseph L. Rawlins)\\n Indian Affairs (Chairman: William M. Stewart; Ranking Member: John L. McLaurin)\\n Indian Depredations (Chairman: Robert J. Gamble; Ranking Member: Augustus O. Bacon)\\n Industrial Expositions (Chairman: Henry E. Burnham; Ranking Member: John L. McLaurin)\\n Investigate the Condition of the Potomac River Front at Washington (Select) (Chairman: Joseph H. Millard)\\n Indian Territory (Select) \\n Interoceanic Canals (Chairman: John Tyler Morgan; Ranking Member: Joseph R. Hawley)\\n Interstate Commerce (Chairman: Stephen B. Elkins; Ranking Member: Benjamin R. Tillman)  \\n Irrigation and Reclamation of Arid Lands (Chairman: Joseph Simon; Ranking Member: William A. Harris)\\n Judiciary (Chairman: George F. Hoar; Ranking Member: Augustus O. Bacon) \\n Library (Chairman: George P. Wetmore; Ranking Member: George G. Vest)\\n Manufactures (Chairman: Porter J. McCumber; Ranking Member: John L. McLaurin)\\n Military Affairs (Chairman: Joseph R. Hawley; Ranking Member: William B. Bate)\\n Mines and Mining (Chairman: Nathan B. Scott; Ranking Member: Benjamin R. Tillman)\\n Mississippi River and its Tributaries (Select) (Chairman: Knute Nelson)\\n National Banks (Select) (Chairman: Thomas Kearns; Ranking Member: Samuel D. McEnery)\\n Naval Affairs (Chairman: Eugene Hale; Ranking Member: Benjamin R. Tillman)\\n Organization, Conduct and Expenditures of the Executive Departments (Chairman: Matthew S. Quay; Ranking Member: John L. McLaurin) \\n Pacific Islands and Puerto Rico (Chairman: Joseph B. Foraker; Ranking Member: Francis M. Cockrell)\\n Pacific Railroads (Chairman: Jonathan P. Dolliver; Ranking Member: John T. Morgan)\\n Patents (Chairman: Jeter C. Pritchard; Ranking Member: Stephen R. Mallory)\\n Pensions (Chairman: Jacob H. Gallinger; Ranking Member: George Turner)\\n Philippines (Chairman: Henry Cabot Lodge; Ranking Member: Joseph L. Rawlins)\\n Post Office and Post Roads (Chairman: William E. Mason; Ranking Member: Alexander S. Clay)\\n Potomac River Front (Select) \\n Printing (Chairman: Thomas C. Platt; Ranking Member: James K. Jones)\\n Private Land Claims (Chairman: Henry M. Teller; Ranking Member: Eugene Hale)\\n Privileges and Elections (Chairman: Julius C. Burrows; Ranking Member: Edmund W. Pettus)\\n Public Buildings and Grounds (Chairman: Charles W. Fairbanks; Ranking Member: George G. Vest)\\n Public Health and National Quarantine (Chairman: George G. Vest; Ranking Member: John P. Jones)\\n Public Lands (Chairman: Henry C. Hansbrough; Ranking Member: James H. Berry)\\n Railroads (Chairman: Clarence D. Clark; Ranking Member: Augustus O. Bacon)\\n Revision of the Laws (Chairman: Chauncey M. Depew; Ranking Member: John W. Daniel)\\n Revolutionary Claims (Chairman: Benjamin R. Tillman; Ranking Member: Joseph Simon)\\n Rules (Chairman: John C. Spooner; Ranking Member: Henry M. Teller)\\n Standards, Weights and Measures (Select) (Chairman: Alfred B. Kittredge; Ranking Member: Henry M. Teller)\\n Tariff Regulation (Select)\\n Territories (Chairman: Albert J. Beveridge; Ranking Member: William B. Bate)\\n Transportation and Sale of Meat Products (Select) (Chairman: John W. Daniel; Ranking Member: Porter J. McCumber)\\n Transportation Routes to the Seaboard (Chairman: William P. Dillingham; Ranking Member: John L. McLaurin)\\n Trespassers upon Indian Lands (Select) (Chairman: Charles H. Dietrich; Ranking Member: John T. Morgan)\\n Ventilation and Acoustics (Select) (Chairman: L. Heisler Ball)\\n Whole\\n Woman Suffrage (Select) (Chairman: Augustus O. Bacon; Ranking Member: George P. Wetmore)\\n\\nHouse of Representatives\\n\\n Accounts (Chairman: Melville Bull; Ranking Member: Charles L. Bartlett)\\n Agriculture (Chairman: James W. Wadsworth; Ranking Member: John S. Williams)\\n Alcoholic Liquor Traffic (Chairman: Nehemiah D. Sperry; Ranking Member: John L. Burnett)\\n Appropriations (Chairman: Joseph G. Cannon; Ranking Member: Leonidas F. Livingston)\\n Banking and Currency (Chairman: Charles N. Fowler; Ranking Member: W. Jasper Talbert)  \\n Census (Chairman: Albert J. Hopkins; Ranking Member: Francis M. Griffith)\\n Claims (Chairman: Joseph V. Graff; Ranking Member: Peter J. Otey)\\n Coinage, Weights and Measures (Chairman: James H. Southard; Ranking Member: Charles F. Cochran)\\n Disposition of Executive Papers (Chairman: Edward S. Minor; Ranking Member: Charles F. Cochran)\\n District of Columbia (Chairman: Joseph W. Babcock; Ranking Member: Adolph Meyer)\\n Education (Chairman: Galusha A. Grow; Ranking Member: David A. De Armond)\\n Election of the President, Vice President and Representatives in Congress (Chairman: John B. Corliss; Ranking Member: William W. Rucker)\\n Elections No.#1 (Chairman: Robert W. Tayler; Ranking Member: Andrew F. Fox)\\n Elections No.#2 (Chairman: Marlin E. Olmsted; Ranking Member: James M. Robinson)\\n Elections No.#3 (Chairman: Edgar Weeks; Ranking Member: Frank A. McLain)\\n Enrolled Bills (Chairman: Frank C. Wachter; Ranking Member: James T. Lloyd)\\n Expenditures in the Agriculture Department (Chairman: Charles W. Gillet; Ranking Member: Henry D. Flood)\\n Expenditures in the Commerce and Labor Departments (Chairman: David J. Foster; Ranking Member: N/A)\\n Expenditures in the Interior Department (Chairman: Charles Curtis; Ranking Member: Henry D. Green)\\n Expenditures in the Justice Department (Chairman: Jesse Overstreet; Ranking Member: Henry M. Goldfogle)\\n Expenditures in the Navy Department (Chairman: James F. Stewart; Ranking Member: Charles W. Thompson)\\n Expenditures in the Post Office Department (Chairman: Irving P. Wanger; Ranking Member: Edward Robb)\\n Expenditures in the State Department (Chairman: John H. Ketcham; Ranking Member: Rufus E. Lester)\\n Expenditures in the Treasury Department (Chairman: Robert G. Cousins; Ranking Member: John Lamb)\\n Expenditures in the War Department (Chairman: Charles A. Russell; Ranking Member: William L. Stark)\\n Expenditures on Public Buildings (Chairman: Loren Fletcher; Ranking Member: John H. Small)\\n Foreign Affairs (Chairman: Robert R. Hitt; Ranking Member: Hugh A. Dinsmore)\\n Immigration and Naturalization (Chairman: William B. Shattuc; Ranking Member: Peter J. Otey)\\n Indian Affairs (Chairman: James S. Sherman; Ranking Member: John S. Little)\\n Industrial Arts and Expositions (Chairman: James A. Tawney; Ranking Member: Charles L. Bartlett)\\n Insular Affairs (Chairman: Henry Allen Cooper; Ranking Member: William A. Jones)\\n Interstate and Foreign Commerce (Chairman: William P. Hepburn; Ranking Member: Robert C. Davey)\\n Invalid Pensions (Chairman: Cyrus A. Sulloway; Ranking Member: Robert W. Miers)\\n Irrigation of Arid Lands (Chairman: Thomas H. Tongue; Ranking Member: Francis G. Newlands)\\n Judiciary (Chairman: George W. Ray; Ranking Member: David A. De Armond) \\n Labor (Chairman: John J. Gardner; Ranking Member: W. Jasper Talbert)\\n Levees and Improvements of the Mississippi River (Chairman: Richard Bartholdt; Ranking Member: Robert F. Broussard)\\n Library (Chairman: James T. McCleary; Ranking Member: Amos J. Cummings then Dudley G. Wooten)\\n Manufactures (Chairman: George W. Steele; Ranking Member: Willard D. Vandiver)\\n Merchant Marine and Fisheries (Chairman: Charles H. Grosvenor; Ranking Member: Thomas Spight)\\n Mileage (Chairman: William A. Reeder; Ranking Member: Elijah B. Lewis)\\n Military Affairs (Chairman: John A.T. Hull; Ranking Member: William Sulzer)\\n Militia (Chairman: Charles Dick; Ranking Member: William L. Stark)\\n Mines and Mining (Chairman: Frank M. Eddy; Ranking Member: Farish Carter Tate)\\n Naval Affairs (Chairman: George E. Foss; Ranking Member: Amos J. Cummings)\\n Pacific Railroads (Chairman: William A. Smith; Ranking Member: James L. Slayden)\\n Patents (Chairman: Walter Reeves; Ranking Member: William Sulzer)\\n Pensions (Chairman: Henry C. Loudenslager; Ranking Member: Reese C. De Graffenreid)\\n Post Office and Post Roads (Chairman: Eugene F. Loud; Ranking Member: Claude A. Swanson)\\n Printing (Chairman: Joel P. Heatwole; Ranking Member: Farish Carter Tate)\\n Private Land Claims (Chairman: George W. Smith; Ranking Member: William A. Jones)\\n Public Buildings and Grounds (Chairman: David H. Mercer; Ranking Member: John H. Bankhead)\\n Public Lands (Chairman: John F. Lacey; Ranking Member: John F. Shafroth)\\n Railways and Canals (Chairman: James H. Davidson; Ranking Member: Reese C. De Graffenreid)\\n Reform in the Civil Service (Chairman: Frederick H. Gillett; Ranking Member: William Elliott)\\n Revision of Laws (Chairman: Vespasian Warner; Ranking Member: John S. Robinson)\\n Rivers and Harbors (Chairman: Theodore E. Burton; Ranking Member: Rufus E. Lester)\\n Rules (Chairman: John Dalzell; Ranking Member: James D. Richardson) \\n Standards of Official Conduct\\n Territories (Chairman: William S. Knox; Ranking Member: John A. Moon)\\n Ventilation and Acoustics (Chairman: Roswell P. Bishop; Ranking Member: David H. Smith)\\n War Claims (Chairman: Thaddeus M. Mahon; Ranking Member: Thetus W. Sims)\\n Ways and Means (Chairman: Sereno E. Payne; Ranking Member: James D. Richardson)\\n Whole\\n\\nJoint committees\\n\\n Conditions of Indian Tribes (Special)\\n Disposition of (Useless) Executive Papers\\n The Library\\n Printing\\n\\nCaucuses\\n Democratic (House)\\n Democratic (Senate)\\n\\nEmployees\\n\\nLegislative branch agency directors\\nArchitect of the Capitol: Edward Clark, died January 6, 1902.\\nElliott Woods, appointed February 19, 1902.\\n Librarian of Congress: Herbert Putnam \\n Public Printer of the United States: Francis W. Palmer\\n\\nSenate\\nSecretary: Charles G. Bennett\\nSergeant at Arms: Daniel M. Ransdell\\nLibrarian: Cliff Warden\\nChaplain: William H. Millburn, Methodist, until December 2, 1902.\\nF.J. Prettyman, Methodist, elected December 2, 1902.\\n\\nHouse of Representatives\\nClerk: Alexander McDowell\\nSergeant at Arms: Henry Casson\\nDoorkeeper: William J. Glenn, until March 12, 1902\\n Frank B. Lyon, elected March 18, 1902\\nPostmaster: Joseph C. McElroy\\nReading Clerks: E.L. Sampson (D) and Dennis E. Alward (R)\\nClerk at the Speaker\\'s Table: Asher C. Hinds\\nChaplain: Henry N. Couden, Universalist\\n\\nSee also \\n 1900 United States elections (elections leading to this Congress)\\n 1900 United States presidential election\\n 1900–01 United States Senate elections\\n 1900 United States House of Representatives elections\\n 1902 United States elections (elections during this Congress, leading to the next Congress)\\n 1902–03 United States Senate elections\\n 1902 United States House of Representatives elections\\n\\nNotes\\n\\nReferences'}"
            ]
          },
          "metadata": {},
          "execution_count": 9
        }
      ],
      "source": [
        "# show the contents of a single document in the dataset\n",
        "next(iter(wiki_small))"
      ]
    },
    {
      "cell_type": "code",
      "execution_count": 10,
      "metadata": {
        "id": "yHYNM6VXv1MJ"
      },
      "outputs": [],
      "source": [
        "# filter only documents with History as section_title\n",
        "history = [d for d in wiki_small if d.get(\"section_title\") == \"History\"]"
      ]
    },
    {
      "cell_type": "markdown",
      "metadata": {
        "id": "_8sTBqS0v4RM"
      },
      "source": [
        "Let's iterate through the dataset and apply our filter to select the 50,000 historical passages. We will extract `article_title`, `section_title` and `passage_text` from each document."
      ]
    },
    {
      "cell_type": "code",
      "execution_count": 11,
      "metadata": {
        "colab": {
          "base_uri": "https://localhost:8080/",
          "height": 49,
          "referenced_widgets": [
            "1ba6226eecc540efae97f1d749b3dab6",
            "2b72224480da43bca6687649c6c4f23d",
            "b317dabc5ee04bffb546efc5e2599b68",
            "b6bd054d48c244a08c40014a2b7b12b4",
            "e16da492aba040d6866c94f3d55fd9bb",
            "b8804c9a693b44f1a89758a64158e9af",
            "84fb8c0c26cb484fba5c9da25cc1286c",
            "c8bae10026984903bdacb27194ca2e93",
            "a3062ddac98c4d8293a39e3c3ce089ce",
            "adea05f832b248febefba1521c75cd47",
            "646ac1dfa8e84e44b4b8eec38b3d9ce5"
          ]
        },
        "id": "Ob0prowIzjJ9",
        "outputId": "36e82bd6-0239-4394-cc75-593115398f36"
      },
      "outputs": [
        {
          "output_type": "display_data",
          "data": {
            "text/plain": [
              "  0%|          | 0/5000 [00:00<?, ?it/s]"
            ],
            "application/vnd.jupyter.widget-view+json": {
              "version_major": 2,
              "version_minor": 0,
              "model_id": "1ba6226eecc540efae97f1d749b3dab6"
            }
          },
          "metadata": {}
        }
      ],
      "source": [
        "from tqdm.auto import tqdm  # progress bar\n",
        "\n",
        "total_doc_count = 50000\n",
        "\n",
        "counter = 0\n",
        "docs = []\n",
        "# iterate through the dataset and apply our filter\n",
        "for d in tqdm(wiki_small, total=len(wiki_small)):\n",
        "    # extract the fields we need - article, section, and passage\n",
        "   docs.append({\n",
        "        \"article_title\": d.get(\"title\"),\n",
        "        \"section_title\": None,  # not present in this dataset\n",
        "        \"passage_text\": d.get(\"text\")\n",
        "    })"
      ]
    },
    {
      "cell_type": "code",
      "source": [
        "len(docs)"
      ],
      "metadata": {
        "id": "Y0c9khpUC_SB",
        "outputId": "cb68102a-76be-49d1-f655-0870ca482c9b",
        "colab": {
          "base_uri": "https://localhost:8080/"
        }
      },
      "execution_count": 12,
      "outputs": [
        {
          "output_type": "execute_result",
          "data": {
            "text/plain": [
              "5000"
            ]
          },
          "metadata": {},
          "execution_count": 12
        }
      ]
    },
    {
      "cell_type": "code",
      "execution_count": 13,
      "metadata": {
        "colab": {
          "base_uri": "https://localhost:8080/",
          "height": 293
        },
        "id": "RvTA40mq5FKj",
        "outputId": "ca265506-ea77-4290-c5e5-17be843cce78",
        "collapsed": true
      },
      "outputs": [
        {
          "output_type": "execute_result",
          "data": {
            "text/plain": [
              "                 article_title section_title  \\\n",
              "0  57th United States Congress          None   \n",
              "1       Augustin-Norbert Morin          None   \n",
              "2                OK Go (album)          None   \n",
              "3                    Shree 420          None   \n",
              "4                 Débora Sulca          None   \n",
              "\n",
              "                                        passage_text  \n",
              "0  The 57th United States Congress was a meeting ...  \n",
              "1  Augustin-Norbert Morin (October 13, 1803 – Jul...  \n",
              "2  OK Go is the debut studio album by American ro...  \n",
              "3  Shree 420 (also spelled as Shri 420; ) is a 19...  \n",
              "4  Débora Susan Sulca Cravero (born 1986 in Lima,...  "
            ],
            "text/html": [
              "\n",
              "  <div id=\"df-6d7bcd38-b0a5-44b5-9dd5-64dd0f9cab52\" class=\"colab-df-container\">\n",
              "    <div>\n",
              "<style scoped>\n",
              "    .dataframe tbody tr th:only-of-type {\n",
              "        vertical-align: middle;\n",
              "    }\n",
              "\n",
              "    .dataframe tbody tr th {\n",
              "        vertical-align: top;\n",
              "    }\n",
              "\n",
              "    .dataframe thead th {\n",
              "        text-align: right;\n",
              "    }\n",
              "</style>\n",
              "<table border=\"1\" class=\"dataframe\">\n",
              "  <thead>\n",
              "    <tr style=\"text-align: right;\">\n",
              "      <th></th>\n",
              "      <th>article_title</th>\n",
              "      <th>section_title</th>\n",
              "      <th>passage_text</th>\n",
              "    </tr>\n",
              "  </thead>\n",
              "  <tbody>\n",
              "    <tr>\n",
              "      <th>0</th>\n",
              "      <td>57th United States Congress</td>\n",
              "      <td>None</td>\n",
              "      <td>The 57th United States Congress was a meeting ...</td>\n",
              "    </tr>\n",
              "    <tr>\n",
              "      <th>1</th>\n",
              "      <td>Augustin-Norbert Morin</td>\n",
              "      <td>None</td>\n",
              "      <td>Augustin-Norbert Morin (October 13, 1803 – Jul...</td>\n",
              "    </tr>\n",
              "    <tr>\n",
              "      <th>2</th>\n",
              "      <td>OK Go (album)</td>\n",
              "      <td>None</td>\n",
              "      <td>OK Go is the debut studio album by American ro...</td>\n",
              "    </tr>\n",
              "    <tr>\n",
              "      <th>3</th>\n",
              "      <td>Shree 420</td>\n",
              "      <td>None</td>\n",
              "      <td>Shree 420 (also spelled as Shri 420; ) is a 19...</td>\n",
              "    </tr>\n",
              "    <tr>\n",
              "      <th>4</th>\n",
              "      <td>Débora Sulca</td>\n",
              "      <td>None</td>\n",
              "      <td>Débora Susan Sulca Cravero (born 1986 in Lima,...</td>\n",
              "    </tr>\n",
              "  </tbody>\n",
              "</table>\n",
              "</div>\n",
              "    <div class=\"colab-df-buttons\">\n",
              "\n",
              "  <div class=\"colab-df-container\">\n",
              "    <button class=\"colab-df-convert\" onclick=\"convertToInteractive('df-6d7bcd38-b0a5-44b5-9dd5-64dd0f9cab52')\"\n",
              "            title=\"Convert this dataframe to an interactive table.\"\n",
              "            style=\"display:none;\">\n",
              "\n",
              "  <svg xmlns=\"http://www.w3.org/2000/svg\" height=\"24px\" viewBox=\"0 -960 960 960\">\n",
              "    <path d=\"M120-120v-720h720v720H120Zm60-500h600v-160H180v160Zm220 220h160v-160H400v160Zm0 220h160v-160H400v160ZM180-400h160v-160H180v160Zm440 0h160v-160H620v160ZM180-180h160v-160H180v160Zm440 0h160v-160H620v160Z\"/>\n",
              "  </svg>\n",
              "    </button>\n",
              "\n",
              "  <style>\n",
              "    .colab-df-container {\n",
              "      display:flex;\n",
              "      gap: 12px;\n",
              "    }\n",
              "\n",
              "    .colab-df-convert {\n",
              "      background-color: #E8F0FE;\n",
              "      border: none;\n",
              "      border-radius: 50%;\n",
              "      cursor: pointer;\n",
              "      display: none;\n",
              "      fill: #1967D2;\n",
              "      height: 32px;\n",
              "      padding: 0 0 0 0;\n",
              "      width: 32px;\n",
              "    }\n",
              "\n",
              "    .colab-df-convert:hover {\n",
              "      background-color: #E2EBFA;\n",
              "      box-shadow: 0px 1px 2px rgba(60, 64, 67, 0.3), 0px 1px 3px 1px rgba(60, 64, 67, 0.15);\n",
              "      fill: #174EA6;\n",
              "    }\n",
              "\n",
              "    .colab-df-buttons div {\n",
              "      margin-bottom: 4px;\n",
              "    }\n",
              "\n",
              "    [theme=dark] .colab-df-convert {\n",
              "      background-color: #3B4455;\n",
              "      fill: #D2E3FC;\n",
              "    }\n",
              "\n",
              "    [theme=dark] .colab-df-convert:hover {\n",
              "      background-color: #434B5C;\n",
              "      box-shadow: 0px 1px 3px 1px rgba(0, 0, 0, 0.15);\n",
              "      filter: drop-shadow(0px 1px 2px rgba(0, 0, 0, 0.3));\n",
              "      fill: #FFFFFF;\n",
              "    }\n",
              "  </style>\n",
              "\n",
              "    <script>\n",
              "      const buttonEl =\n",
              "        document.querySelector('#df-6d7bcd38-b0a5-44b5-9dd5-64dd0f9cab52 button.colab-df-convert');\n",
              "      buttonEl.style.display =\n",
              "        google.colab.kernel.accessAllowed ? 'block' : 'none';\n",
              "\n",
              "      async function convertToInteractive(key) {\n",
              "        const element = document.querySelector('#df-6d7bcd38-b0a5-44b5-9dd5-64dd0f9cab52');\n",
              "        const dataTable =\n",
              "          await google.colab.kernel.invokeFunction('convertToInteractive',\n",
              "                                                    [key], {});\n",
              "        if (!dataTable) return;\n",
              "\n",
              "        const docLinkHtml = 'Like what you see? Visit the ' +\n",
              "          '<a target=\"_blank\" href=https://colab.research.google.com/notebooks/data_table.ipynb>data table notebook</a>'\n",
              "          + ' to learn more about interactive tables.';\n",
              "        element.innerHTML = '';\n",
              "        dataTable['output_type'] = 'display_data';\n",
              "        await google.colab.output.renderOutput(dataTable, element);\n",
              "        const docLink = document.createElement('div');\n",
              "        docLink.innerHTML = docLinkHtml;\n",
              "        element.appendChild(docLink);\n",
              "      }\n",
              "    </script>\n",
              "  </div>\n",
              "\n",
              "\n",
              "    <div id=\"df-fe2336aa-41a8-4b22-a9e4-4d201cd55461\">\n",
              "      <button class=\"colab-df-quickchart\" onclick=\"quickchart('df-fe2336aa-41a8-4b22-a9e4-4d201cd55461')\"\n",
              "                title=\"Suggest charts\"\n",
              "                style=\"display:none;\">\n",
              "\n",
              "<svg xmlns=\"http://www.w3.org/2000/svg\" height=\"24px\"viewBox=\"0 0 24 24\"\n",
              "     width=\"24px\">\n",
              "    <g>\n",
              "        <path d=\"M19 3H5c-1.1 0-2 .9-2 2v14c0 1.1.9 2 2 2h14c1.1 0 2-.9 2-2V5c0-1.1-.9-2-2-2zM9 17H7v-7h2v7zm4 0h-2V7h2v10zm4 0h-2v-4h2v4z\"/>\n",
              "    </g>\n",
              "</svg>\n",
              "      </button>\n",
              "\n",
              "<style>\n",
              "  .colab-df-quickchart {\n",
              "      --bg-color: #E8F0FE;\n",
              "      --fill-color: #1967D2;\n",
              "      --hover-bg-color: #E2EBFA;\n",
              "      --hover-fill-color: #174EA6;\n",
              "      --disabled-fill-color: #AAA;\n",
              "      --disabled-bg-color: #DDD;\n",
              "  }\n",
              "\n",
              "  [theme=dark] .colab-df-quickchart {\n",
              "      --bg-color: #3B4455;\n",
              "      --fill-color: #D2E3FC;\n",
              "      --hover-bg-color: #434B5C;\n",
              "      --hover-fill-color: #FFFFFF;\n",
              "      --disabled-bg-color: #3B4455;\n",
              "      --disabled-fill-color: #666;\n",
              "  }\n",
              "\n",
              "  .colab-df-quickchart {\n",
              "    background-color: var(--bg-color);\n",
              "    border: none;\n",
              "    border-radius: 50%;\n",
              "    cursor: pointer;\n",
              "    display: none;\n",
              "    fill: var(--fill-color);\n",
              "    height: 32px;\n",
              "    padding: 0;\n",
              "    width: 32px;\n",
              "  }\n",
              "\n",
              "  .colab-df-quickchart:hover {\n",
              "    background-color: var(--hover-bg-color);\n",
              "    box-shadow: 0 1px 2px rgba(60, 64, 67, 0.3), 0 1px 3px 1px rgba(60, 64, 67, 0.15);\n",
              "    fill: var(--button-hover-fill-color);\n",
              "  }\n",
              "\n",
              "  .colab-df-quickchart-complete:disabled,\n",
              "  .colab-df-quickchart-complete:disabled:hover {\n",
              "    background-color: var(--disabled-bg-color);\n",
              "    fill: var(--disabled-fill-color);\n",
              "    box-shadow: none;\n",
              "  }\n",
              "\n",
              "  .colab-df-spinner {\n",
              "    border: 2px solid var(--fill-color);\n",
              "    border-color: transparent;\n",
              "    border-bottom-color: var(--fill-color);\n",
              "    animation:\n",
              "      spin 1s steps(1) infinite;\n",
              "  }\n",
              "\n",
              "  @keyframes spin {\n",
              "    0% {\n",
              "      border-color: transparent;\n",
              "      border-bottom-color: var(--fill-color);\n",
              "      border-left-color: var(--fill-color);\n",
              "    }\n",
              "    20% {\n",
              "      border-color: transparent;\n",
              "      border-left-color: var(--fill-color);\n",
              "      border-top-color: var(--fill-color);\n",
              "    }\n",
              "    30% {\n",
              "      border-color: transparent;\n",
              "      border-left-color: var(--fill-color);\n",
              "      border-top-color: var(--fill-color);\n",
              "      border-right-color: var(--fill-color);\n",
              "    }\n",
              "    40% {\n",
              "      border-color: transparent;\n",
              "      border-right-color: var(--fill-color);\n",
              "      border-top-color: var(--fill-color);\n",
              "    }\n",
              "    60% {\n",
              "      border-color: transparent;\n",
              "      border-right-color: var(--fill-color);\n",
              "    }\n",
              "    80% {\n",
              "      border-color: transparent;\n",
              "      border-right-color: var(--fill-color);\n",
              "      border-bottom-color: var(--fill-color);\n",
              "    }\n",
              "    90% {\n",
              "      border-color: transparent;\n",
              "      border-bottom-color: var(--fill-color);\n",
              "    }\n",
              "  }\n",
              "</style>\n",
              "\n",
              "      <script>\n",
              "        async function quickchart(key) {\n",
              "          const quickchartButtonEl =\n",
              "            document.querySelector('#' + key + ' button');\n",
              "          quickchartButtonEl.disabled = true;  // To prevent multiple clicks.\n",
              "          quickchartButtonEl.classList.add('colab-df-spinner');\n",
              "          try {\n",
              "            const charts = await google.colab.kernel.invokeFunction(\n",
              "                'suggestCharts', [key], {});\n",
              "          } catch (error) {\n",
              "            console.error('Error during call to suggestCharts:', error);\n",
              "          }\n",
              "          quickchartButtonEl.classList.remove('colab-df-spinner');\n",
              "          quickchartButtonEl.classList.add('colab-df-quickchart-complete');\n",
              "        }\n",
              "        (() => {\n",
              "          let quickchartButtonEl =\n",
              "            document.querySelector('#df-fe2336aa-41a8-4b22-a9e4-4d201cd55461 button');\n",
              "          quickchartButtonEl.style.display =\n",
              "            google.colab.kernel.accessAllowed ? 'block' : 'none';\n",
              "        })();\n",
              "      </script>\n",
              "    </div>\n",
              "\n",
              "    </div>\n",
              "  </div>\n"
            ],
            "application/vnd.google.colaboratory.intrinsic+json": {
              "type": "dataframe",
              "variable_name": "df",
              "repr_error": "Out of range float values are not JSON compliant: nan"
            }
          },
          "metadata": {},
          "execution_count": 13
        }
      ],
      "source": [
        "import pandas as pd\n",
        "\n",
        "# create a pandas dataframe with the documents we extracted\n",
        "df = pd.DataFrame(docs)\n",
        "df.head()"
      ]
    },
    {
      "cell_type": "markdown",
      "source": [
        "## Data Cleaning"
      ],
      "metadata": {
        "id": "BBROVHWwGbaq"
      }
    },
    {
      "cell_type": "code",
      "source": [
        "import re\n",
        "def clean_text(text):\n",
        "    if not isinstance(text, str):\n",
        "        return \"\"\n",
        "    text = re.sub(r\"\\[\\d+\\]\", \"\", text)   # remove citation markers\n",
        "    text = re.sub(r\"\\s+\", \" \", text)      # normalize whitespace\n",
        "    text = re.sub(r\"\\(.*?\\)\", \"\", text)   # remove text in parentheses\n",
        "    text = text.strip()\n",
        "    return text\n",
        "\n",
        "# Apply cleaning\n",
        "df[\"clean_text\"] = df[\"passage_text\"].apply(clean_text)\n",
        "\n",
        "# Truncation function\n",
        "def truncate_text(text, max_words=500):\n",
        "    words = text.split()\n",
        "    return \" \".join(words[:max_words])\n",
        "\n",
        "# Apply truncation\n",
        "df[\"clean_text\"] = df[\"clean_text\"].apply(truncate_text)\n",
        "\n",
        "df.head()"
      ],
      "metadata": {
        "id": "xFwu4U0aGTO6",
        "outputId": "bbce2995-05e3-4163-9ac6-977189e188df",
        "colab": {
          "base_uri": "https://localhost:8080/",
          "height": 414
        }
      },
      "execution_count": 14,
      "outputs": [
        {
          "output_type": "execute_result",
          "data": {
            "text/plain": [
              "                 article_title section_title  \\\n",
              "0  57th United States Congress          None   \n",
              "1       Augustin-Norbert Morin          None   \n",
              "2                OK Go (album)          None   \n",
              "3                    Shree 420          None   \n",
              "4                 Débora Sulca          None   \n",
              "\n",
              "                                        passage_text  \\\n",
              "0  The 57th United States Congress was a meeting ...   \n",
              "1  Augustin-Norbert Morin (October 13, 1803 – Jul...   \n",
              "2  OK Go is the debut studio album by American ro...   \n",
              "3  Shree 420 (also spelled as Shri 420; ) is a 19...   \n",
              "4  Débora Susan Sulca Cravero (born 1986 in Lima,...   \n",
              "\n",
              "                                          clean_text  \n",
              "0  The 57th United States Congress was a meeting ...  \n",
              "1  Augustin-Norbert Morin was a Canadien journali...  \n",
              "2  OK Go is the debut studio album by American ro...  \n",
              "3  Shree 420 is a 1955 Indian Hindi comedy-drama ...  \n",
              "4  Débora Susan Sulca Cravero is a Peruvian model...  "
            ],
            "text/html": [
              "\n",
              "  <div id=\"df-48a2a0f8-38e7-446c-8cb8-2be5e89ce7a6\" class=\"colab-df-container\">\n",
              "    <div>\n",
              "<style scoped>\n",
              "    .dataframe tbody tr th:only-of-type {\n",
              "        vertical-align: middle;\n",
              "    }\n",
              "\n",
              "    .dataframe tbody tr th {\n",
              "        vertical-align: top;\n",
              "    }\n",
              "\n",
              "    .dataframe thead th {\n",
              "        text-align: right;\n",
              "    }\n",
              "</style>\n",
              "<table border=\"1\" class=\"dataframe\">\n",
              "  <thead>\n",
              "    <tr style=\"text-align: right;\">\n",
              "      <th></th>\n",
              "      <th>article_title</th>\n",
              "      <th>section_title</th>\n",
              "      <th>passage_text</th>\n",
              "      <th>clean_text</th>\n",
              "    </tr>\n",
              "  </thead>\n",
              "  <tbody>\n",
              "    <tr>\n",
              "      <th>0</th>\n",
              "      <td>57th United States Congress</td>\n",
              "      <td>None</td>\n",
              "      <td>The 57th United States Congress was a meeting ...</td>\n",
              "      <td>The 57th United States Congress was a meeting ...</td>\n",
              "    </tr>\n",
              "    <tr>\n",
              "      <th>1</th>\n",
              "      <td>Augustin-Norbert Morin</td>\n",
              "      <td>None</td>\n",
              "      <td>Augustin-Norbert Morin (October 13, 1803 – Jul...</td>\n",
              "      <td>Augustin-Norbert Morin was a Canadien journali...</td>\n",
              "    </tr>\n",
              "    <tr>\n",
              "      <th>2</th>\n",
              "      <td>OK Go (album)</td>\n",
              "      <td>None</td>\n",
              "      <td>OK Go is the debut studio album by American ro...</td>\n",
              "      <td>OK Go is the debut studio album by American ro...</td>\n",
              "    </tr>\n",
              "    <tr>\n",
              "      <th>3</th>\n",
              "      <td>Shree 420</td>\n",
              "      <td>None</td>\n",
              "      <td>Shree 420 (also spelled as Shri 420; ) is a 19...</td>\n",
              "      <td>Shree 420 is a 1955 Indian Hindi comedy-drama ...</td>\n",
              "    </tr>\n",
              "    <tr>\n",
              "      <th>4</th>\n",
              "      <td>Débora Sulca</td>\n",
              "      <td>None</td>\n",
              "      <td>Débora Susan Sulca Cravero (born 1986 in Lima,...</td>\n",
              "      <td>Débora Susan Sulca Cravero is a Peruvian model...</td>\n",
              "    </tr>\n",
              "  </tbody>\n",
              "</table>\n",
              "</div>\n",
              "    <div class=\"colab-df-buttons\">\n",
              "\n",
              "  <div class=\"colab-df-container\">\n",
              "    <button class=\"colab-df-convert\" onclick=\"convertToInteractive('df-48a2a0f8-38e7-446c-8cb8-2be5e89ce7a6')\"\n",
              "            title=\"Convert this dataframe to an interactive table.\"\n",
              "            style=\"display:none;\">\n",
              "\n",
              "  <svg xmlns=\"http://www.w3.org/2000/svg\" height=\"24px\" viewBox=\"0 -960 960 960\">\n",
              "    <path d=\"M120-120v-720h720v720H120Zm60-500h600v-160H180v160Zm220 220h160v-160H400v160Zm0 220h160v-160H400v160ZM180-400h160v-160H180v160Zm440 0h160v-160H620v160ZM180-180h160v-160H180v160Zm440 0h160v-160H620v160Z\"/>\n",
              "  </svg>\n",
              "    </button>\n",
              "\n",
              "  <style>\n",
              "    .colab-df-container {\n",
              "      display:flex;\n",
              "      gap: 12px;\n",
              "    }\n",
              "\n",
              "    .colab-df-convert {\n",
              "      background-color: #E8F0FE;\n",
              "      border: none;\n",
              "      border-radius: 50%;\n",
              "      cursor: pointer;\n",
              "      display: none;\n",
              "      fill: #1967D2;\n",
              "      height: 32px;\n",
              "      padding: 0 0 0 0;\n",
              "      width: 32px;\n",
              "    }\n",
              "\n",
              "    .colab-df-convert:hover {\n",
              "      background-color: #E2EBFA;\n",
              "      box-shadow: 0px 1px 2px rgba(60, 64, 67, 0.3), 0px 1px 3px 1px rgba(60, 64, 67, 0.15);\n",
              "      fill: #174EA6;\n",
              "    }\n",
              "\n",
              "    .colab-df-buttons div {\n",
              "      margin-bottom: 4px;\n",
              "    }\n",
              "\n",
              "    [theme=dark] .colab-df-convert {\n",
              "      background-color: #3B4455;\n",
              "      fill: #D2E3FC;\n",
              "    }\n",
              "\n",
              "    [theme=dark] .colab-df-convert:hover {\n",
              "      background-color: #434B5C;\n",
              "      box-shadow: 0px 1px 3px 1px rgba(0, 0, 0, 0.15);\n",
              "      filter: drop-shadow(0px 1px 2px rgba(0, 0, 0, 0.3));\n",
              "      fill: #FFFFFF;\n",
              "    }\n",
              "  </style>\n",
              "\n",
              "    <script>\n",
              "      const buttonEl =\n",
              "        document.querySelector('#df-48a2a0f8-38e7-446c-8cb8-2be5e89ce7a6 button.colab-df-convert');\n",
              "      buttonEl.style.display =\n",
              "        google.colab.kernel.accessAllowed ? 'block' : 'none';\n",
              "\n",
              "      async function convertToInteractive(key) {\n",
              "        const element = document.querySelector('#df-48a2a0f8-38e7-446c-8cb8-2be5e89ce7a6');\n",
              "        const dataTable =\n",
              "          await google.colab.kernel.invokeFunction('convertToInteractive',\n",
              "                                                    [key], {});\n",
              "        if (!dataTable) return;\n",
              "\n",
              "        const docLinkHtml = 'Like what you see? Visit the ' +\n",
              "          '<a target=\"_blank\" href=https://colab.research.google.com/notebooks/data_table.ipynb>data table notebook</a>'\n",
              "          + ' to learn more about interactive tables.';\n",
              "        element.innerHTML = '';\n",
              "        dataTable['output_type'] = 'display_data';\n",
              "        await google.colab.output.renderOutput(dataTable, element);\n",
              "        const docLink = document.createElement('div');\n",
              "        docLink.innerHTML = docLinkHtml;\n",
              "        element.appendChild(docLink);\n",
              "      }\n",
              "    </script>\n",
              "  </div>\n",
              "\n",
              "\n",
              "    <div id=\"df-e74d21e5-2f8b-4556-99cf-097debd7ff26\">\n",
              "      <button class=\"colab-df-quickchart\" onclick=\"quickchart('df-e74d21e5-2f8b-4556-99cf-097debd7ff26')\"\n",
              "                title=\"Suggest charts\"\n",
              "                style=\"display:none;\">\n",
              "\n",
              "<svg xmlns=\"http://www.w3.org/2000/svg\" height=\"24px\"viewBox=\"0 0 24 24\"\n",
              "     width=\"24px\">\n",
              "    <g>\n",
              "        <path d=\"M19 3H5c-1.1 0-2 .9-2 2v14c0 1.1.9 2 2 2h14c1.1 0 2-.9 2-2V5c0-1.1-.9-2-2-2zM9 17H7v-7h2v7zm4 0h-2V7h2v10zm4 0h-2v-4h2v4z\"/>\n",
              "    </g>\n",
              "</svg>\n",
              "      </button>\n",
              "\n",
              "<style>\n",
              "  .colab-df-quickchart {\n",
              "      --bg-color: #E8F0FE;\n",
              "      --fill-color: #1967D2;\n",
              "      --hover-bg-color: #E2EBFA;\n",
              "      --hover-fill-color: #174EA6;\n",
              "      --disabled-fill-color: #AAA;\n",
              "      --disabled-bg-color: #DDD;\n",
              "  }\n",
              "\n",
              "  [theme=dark] .colab-df-quickchart {\n",
              "      --bg-color: #3B4455;\n",
              "      --fill-color: #D2E3FC;\n",
              "      --hover-bg-color: #434B5C;\n",
              "      --hover-fill-color: #FFFFFF;\n",
              "      --disabled-bg-color: #3B4455;\n",
              "      --disabled-fill-color: #666;\n",
              "  }\n",
              "\n",
              "  .colab-df-quickchart {\n",
              "    background-color: var(--bg-color);\n",
              "    border: none;\n",
              "    border-radius: 50%;\n",
              "    cursor: pointer;\n",
              "    display: none;\n",
              "    fill: var(--fill-color);\n",
              "    height: 32px;\n",
              "    padding: 0;\n",
              "    width: 32px;\n",
              "  }\n",
              "\n",
              "  .colab-df-quickchart:hover {\n",
              "    background-color: var(--hover-bg-color);\n",
              "    box-shadow: 0 1px 2px rgba(60, 64, 67, 0.3), 0 1px 3px 1px rgba(60, 64, 67, 0.15);\n",
              "    fill: var(--button-hover-fill-color);\n",
              "  }\n",
              "\n",
              "  .colab-df-quickchart-complete:disabled,\n",
              "  .colab-df-quickchart-complete:disabled:hover {\n",
              "    background-color: var(--disabled-bg-color);\n",
              "    fill: var(--disabled-fill-color);\n",
              "    box-shadow: none;\n",
              "  }\n",
              "\n",
              "  .colab-df-spinner {\n",
              "    border: 2px solid var(--fill-color);\n",
              "    border-color: transparent;\n",
              "    border-bottom-color: var(--fill-color);\n",
              "    animation:\n",
              "      spin 1s steps(1) infinite;\n",
              "  }\n",
              "\n",
              "  @keyframes spin {\n",
              "    0% {\n",
              "      border-color: transparent;\n",
              "      border-bottom-color: var(--fill-color);\n",
              "      border-left-color: var(--fill-color);\n",
              "    }\n",
              "    20% {\n",
              "      border-color: transparent;\n",
              "      border-left-color: var(--fill-color);\n",
              "      border-top-color: var(--fill-color);\n",
              "    }\n",
              "    30% {\n",
              "      border-color: transparent;\n",
              "      border-left-color: var(--fill-color);\n",
              "      border-top-color: var(--fill-color);\n",
              "      border-right-color: var(--fill-color);\n",
              "    }\n",
              "    40% {\n",
              "      border-color: transparent;\n",
              "      border-right-color: var(--fill-color);\n",
              "      border-top-color: var(--fill-color);\n",
              "    }\n",
              "    60% {\n",
              "      border-color: transparent;\n",
              "      border-right-color: var(--fill-color);\n",
              "    }\n",
              "    80% {\n",
              "      border-color: transparent;\n",
              "      border-right-color: var(--fill-color);\n",
              "      border-bottom-color: var(--fill-color);\n",
              "    }\n",
              "    90% {\n",
              "      border-color: transparent;\n",
              "      border-bottom-color: var(--fill-color);\n",
              "    }\n",
              "  }\n",
              "</style>\n",
              "\n",
              "      <script>\n",
              "        async function quickchart(key) {\n",
              "          const quickchartButtonEl =\n",
              "            document.querySelector('#' + key + ' button');\n",
              "          quickchartButtonEl.disabled = true;  // To prevent multiple clicks.\n",
              "          quickchartButtonEl.classList.add('colab-df-spinner');\n",
              "          try {\n",
              "            const charts = await google.colab.kernel.invokeFunction(\n",
              "                'suggestCharts', [key], {});\n",
              "          } catch (error) {\n",
              "            console.error('Error during call to suggestCharts:', error);\n",
              "          }\n",
              "          quickchartButtonEl.classList.remove('colab-df-spinner');\n",
              "          quickchartButtonEl.classList.add('colab-df-quickchart-complete');\n",
              "        }\n",
              "        (() => {\n",
              "          let quickchartButtonEl =\n",
              "            document.querySelector('#df-e74d21e5-2f8b-4556-99cf-097debd7ff26 button');\n",
              "          quickchartButtonEl.style.display =\n",
              "            google.colab.kernel.accessAllowed ? 'block' : 'none';\n",
              "        })();\n",
              "      </script>\n",
              "    </div>\n",
              "\n",
              "    </div>\n",
              "  </div>\n"
            ],
            "application/vnd.google.colaboratory.intrinsic+json": {
              "type": "dataframe",
              "variable_name": "df",
              "repr_error": "Out of range float values are not JSON compliant: nan"
            }
          },
          "metadata": {},
          "execution_count": 14
        }
      ]
    },
    {
      "cell_type": "markdown",
      "metadata": {
        "id": "lDYP3RkcPYdf"
      },
      "source": [
        "# Initialize Pinecone Index"
      ]
    },
    {
      "cell_type": "markdown",
      "metadata": {
        "id": "A5m5HHVu4War"
      },
      "source": [
        "The Pinecone index stores vector representations of our historical passages which we can retrieve later using another vector (query vector). To build our vector index, we must first establish a connection with Pinecone. For this, we need an API from Pinecone. You can get one for free from [here](https://app.pinecone.io/), and after that, we initialize the connection as follows:"
      ]
    },
    {
      "cell_type": "code",
      "execution_count": 15,
      "metadata": {
        "id": "ys4egueZzod8"
      },
      "outputs": [],
      "source": [
        "import os\n",
        "from pinecone import Pinecone\n",
        "\n",
        "# initialize connection to pinecone (get API key at app.pinecone.io)\n",
        "api_key = os.environ.get('PINECONE_API_KEY') or 'PINECONE_API_KEY'\n",
        "\n",
        "# configure client\n",
        "pc = Pinecone(api_key=api_key)"
      ]
    },
    {
      "cell_type": "markdown",
      "metadata": {
        "id": "4FYh3ss7zod8"
      },
      "source": [
        "Now we setup our index specification, this allows us to define the cloud provider and region where we want to deploy our index. You can find a list of all [available providers and regions here](https://docs.pinecone.io/docs/projects)."
      ]
    },
    {
      "cell_type": "code",
      "source": [
        "from google.colab import userdata\n",
        "import os\n",
        "\n",
        "os.environ[\"PINECONE_API_KEY\"] = userdata.get(\"PINECONE_API_KEY\")\n",
        "\n",
        "print(\"PINECONE_API_KEY found:\", bool(os.environ.get(\"PINECONE_API_KEY\")))"
      ],
      "metadata": {
        "id": "LiPG-1cDK_iF",
        "outputId": "391659ac-cff0-48a8-bb70-3731f4a973a7",
        "colab": {
          "base_uri": "https://localhost:8080/"
        }
      },
      "execution_count": 19,
      "outputs": [
        {
          "output_type": "stream",
          "name": "stdout",
          "text": [
            "PINECONE_API_KEY found: True\n"
          ]
        }
      ]
    },
    {
      "cell_type": "code",
      "execution_count": 20,
      "metadata": {
        "id": "sd1LT60tzod8"
      },
      "outputs": [],
      "source": [
        "from pinecone import ServerlessSpec\n",
        "\n",
        "cloud = os.environ.get('PINECONE_CLOUD') or 'aws'\n",
        "region = os.environ.get('PINECONE_REGION') or 'us-east-1'\n",
        "\n",
        "spec = ServerlessSpec(cloud=cloud, region=region)"
      ]
    },
    {
      "cell_type": "markdown",
      "metadata": {
        "id": "7CPJmTIy4XsL"
      },
      "source": [
        "Now we create a new index. We will name it \"abstractive-question-answering\" — you can name it anything we want. We specify the metric type as \"cosine\" and dimension as 768 because the retriever we use to generate context embeddings is optimized for cosine similarity and outputs 768-dimension vectors."
      ]
    },
    {
      "cell_type": "code",
      "execution_count": 21,
      "metadata": {
        "id": "3p8xVvPjzod8"
      },
      "outputs": [],
      "source": [
        "index_name = \"abstractive-question-answering\" #give your index a meaningful name"
      ]
    },
    {
      "cell_type": "code",
      "execution_count": 23,
      "metadata": {
        "colab": {
          "base_uri": "https://localhost:8080/"
        },
        "id": "XmJqJw1tzod8",
        "outputId": "f4e7b14a-3bbb-4c41-a123-86ee6db429f8"
      },
      "outputs": [
        {
          "output_type": "stream",
          "name": "stdout",
          "text": [
            "{'dimension': 384,\n",
            " 'index_fullness': 0.0,\n",
            " 'namespaces': {'': {'vector_count': 18891}},\n",
            " 'total_vector_count': 18891}\n"
          ]
        }
      ],
      "source": [
        "from pinecone import Pinecone, ServerlessSpec\n",
        "import os, time\n",
        "\n",
        "# Initialize Pinecone client\n",
        "api_key = os.environ[\"PINECONE_API_KEY\"]\n",
        "pc = Pinecone(api_key=api_key)\n",
        "\n",
        "# Define your index details\n",
        "index_name = \"extractive-question-answering\"\n",
        "spec = ServerlessSpec(cloud=\"aws\", region=\"us-east-1\")\n",
        "\n",
        "# Check if index exists; create if not\n",
        "if index_name not in [i[\"name\"] for i in pc.list_indexes()]:\n",
        "    pc.create_index(\n",
        "        name=index_name,\n",
        "        dimension=384,       # match index dimension\n",
        "        metric=\"cosine\",\n",
        "        spec=spec\n",
        "    )\n",
        "    while not pc.describe_index(index_name).status[\"ready\"]:\n",
        "        time.sleep(1)\n",
        "\n",
        "# Connect to the index\n",
        "index = pc.Index(index_name)\n",
        "\n",
        "# View index stats to confirm it’s active\n",
        "print(index.describe_index_stats())"
      ]
    },
    {
      "cell_type": "markdown",
      "metadata": {
        "id": "WHcCQVi4PcmE"
      },
      "source": [
        "# Initialize Retriever"
      ]
    },
    {
      "cell_type": "markdown",
      "metadata": {
        "id": "udmF-qY24yQ1"
      },
      "source": [
        "Next, we need to initialize our retriever. The retriever will mainly do two things:\n",
        "\n",
        "- Generate embeddings for all historical passages (context vectors/embeddings)\n",
        "- Generate embeddings for our questions (query vector/embedding)\n",
        "\n",
        "The retriever will create embeddings such that the questions and passages that hold the answers to our queries are close to one another in the vector space. We will use a SentenceTransformer model based on Microsoft's MPNet as our retriever. This model performs quite well for comparing the similarity between queries and documents. We can use Cosine Similarity to compute the similarity between query and context vectors generated by this model (Pinecone automatically does this for us)."
      ]
    },
    {
      "cell_type": "code",
      "execution_count": 27,
      "metadata": {
        "id": "45dRrEZNPdXu"
      },
      "outputs": [],
      "source": [
        "import torch\n",
        "from sentence_transformers import SentenceTransformer\n",
        "\n",
        "# set device to GPU if available\n",
        "device = 'cuda' if torch.cuda.is_available() else 'cpu'\n",
        "\n",
        "# load the retriever model\n",
        "retriever = SentenceTransformer(\"sentence-transformers/all-MiniLM-L6-v2\", device=device)\n"
      ]
    },
    {
      "cell_type": "markdown",
      "metadata": {
        "id": "Jo5MN_GKPeDy"
      },
      "source": [
        "# Generate Embeddings and Upsert"
      ]
    },
    {
      "cell_type": "markdown",
      "metadata": {
        "id": "Hj0NdB-kU9Yt"
      },
      "source": [
        "Next, we need to generate embeddings for the context passages. We will do this in batches to help us more quickly generate embeddings and upload them to the Pinecone index. When passing the documents to Pinecone, we need an id (a unique value), context embedding, and metadata for each document representing context passages in the dataset. The metadata is a dictionary containing data relevant to our embeddings, such as the article title, section title, passage text, etc."
      ]
    },
    {
      "cell_type": "code",
      "execution_count": 28,
      "metadata": {
        "colab": {
          "base_uri": "https://localhost:8080/",
          "height": 158,
          "referenced_widgets": [
            "c7f60ca852184a91b1bd1828d3bf5ba9",
            "9c253e001098415d8da150280c72264b",
            "1cb250c15ea946eda136ea929f45593f",
            "c35d3f53f0834e959da81a4eedd8ac0c",
            "eda230dcf3f5462a8136830f82d0bc23",
            "b29a79ae93964e46b4b104bb001f126f",
            "471b73a1de124cd890af1846830fac1d",
            "b5014cc575a142509dc3b17bb3cfd57d",
            "78bec154663d4bc097c660884da60651",
            "43d4dc5383f14a46870aa9b02d87f30c",
            "7936fc9ff57c4efebd03dffde1f4b9a9"
          ]
        },
        "id": "4OqB7bBePia-",
        "outputId": "34c1a671-eba5-40d5-a58f-69a1a03792ec"
      },
      "outputs": [
        {
          "output_type": "display_data",
          "data": {
            "text/plain": [
              "  0%|          | 0/50 [00:00<?, ?it/s]"
            ],
            "application/vnd.jupyter.widget-view+json": {
              "version_major": 2,
              "version_minor": 0,
              "model_id": "c7f60ca852184a91b1bd1828d3bf5ba9"
            }
          },
          "metadata": {}
        },
        {
          "output_type": "stream",
          "name": "stdout",
          "text": [
            "Upsert complete!\n",
            "{'dimension': 384,\n",
            " 'index_fullness': 0.0,\n",
            " 'namespaces': {'': {'vector_count': 18891}, 'default': {'vector_count': 5000}},\n",
            " 'total_vector_count': 23891}\n"
          ]
        }
      ],
      "source": [
        "from tqdm.auto import tqdm\n",
        "\n",
        "# Upsert (insert) into Pinecone in batches\n",
        "batch_size = 100\n",
        "\n",
        "for i in tqdm(range(0, len(vectors), batch_size)):\n",
        "    batch = vectors[i:i+batch_size]\n",
        "\n",
        "    for v in batch:\n",
        "        v[\"metadata\"] = {k: str(v[\"metadata\"][k]) for k in v[\"metadata\"]}\n",
        "\n",
        "    try:\n",
        "        index.upsert(vectors=batch, namespace=\"default\")  # add namespace\n",
        "    except Exception as e:\n",
        "        print(f\"Error on batch {i//batch_size}: {e}\")\n",
        "        break\n",
        "\n",
        "print(\"Upsert complete!\")\n",
        "print(index.describe_index_stats())"
      ]
    },
    {
      "cell_type": "markdown",
      "metadata": {
        "id": "WFKPJ0WtPmAw"
      },
      "source": [
        "# Initialize Generator"
      ]
    },
    {
      "cell_type": "markdown",
      "metadata": {
        "id": "5RraVCG_hcv3"
      },
      "source": [
        "We will use ELI5 BART for the generator which is a Sequence-To-Sequence model trained using the ‘Explain Like I’m 5’ (ELI5) dataset. Sequence-To-Sequence models can take a text sequence as input and produce a different text sequence as output.\n",
        "\n",
        "The input to the ELI5 BART model is a single string which is a concatenation of the query and the relevant documents providing the context for the answer. The documents are separated by a special token &lt;P>, so the input string will look as follows:\n",
        "\n",
        ">question: What is a sonic boom? context: &lt;P> A sonic boom is a sound associated with shock waves created when an object travels through the air faster than the speed of sound. &lt;P> Sonic booms generate enormous amounts of sound energy, sounding similar to an explosion or a thunderclap to the human ear. &lt;P> Sonic booms due to large supersonic aircraft can be particularly loud and startling, tend to awaken people, and may cause minor damage to some structures. This led to prohibition of routine supersonic flight overland.\n",
        "\n",
        "More detail on how the ELI5 dataset was built is available [here](https://arxiv.org/abs/1907.09190) and how ELI5 BART model was trained is available [here](https://yjernite.github.io/lfqa.html).\n",
        "\n",
        "Let's initialize the BART model using transformers."
      ]
    },
    {
      "cell_type": "code",
      "execution_count": 29,
      "metadata": {
        "colab": {
          "base_uri": "https://localhost:8080/",
          "height": 209,
          "referenced_widgets": [
            "a76e032e3cc14ba4b362339790754b71",
            "1e704211a9f84eaa9b5a3eb70b79f27b",
            "b8fc773baee44cb5b4392d6285d4ec93",
            "61f4bc5ab16642e39329ab3c059e5a63",
            "cf33db5c0d5c4e1989886594caebd4b5",
            "92bf45f4ba7b4dd8944b1bc0db6468bd",
            "69754647f6f3483799573353dfe5dbdc",
            "a2262bd012fa4c178c963a265ae1b8c6",
            "62250a51b02b4d2cb8810f42a36a9eb9",
            "9998f7dd38f6405da3b23d1f41fe1c1b",
            "63e17f7a94174bb59e5150d6ac9468e6",
            "c8f4c78034094e83821934bbdf3604d8",
            "15b6510f9af9447ca308ddf3d8386f47",
            "3f2d197745b64b698f49b9ec4c184472",
            "4826615a6b9e4707a187d04fa7f3ac40",
            "1cf0eee2e78c4fcaae726fcb38b27dbe",
            "fb4493e0a31a41588f5218cc219016ed",
            "fd0e893e452a4e6b92a52382529782dd",
            "d10bbc4753d943c2890682dfdd636625",
            "2557cfd707de407e8d5499dc45b8fc1f",
            "796629fe035b4b16a5823623b8092695",
            "08bc1032070a4d0c8260a32c77840c72",
            "61e7888a6f874ecb801d6329d57c2228",
            "3011d9b48a2142759c3958237b2254cb",
            "bec79c0f20d9449c8215df5410735e31",
            "c3b949d2332e4099b2c15a11c10f21bf",
            "e88bbfcfdbcd4a6c81d1149f901075e2",
            "10a381dc2ec2472da12b849dbfbc101f",
            "e522f86d0b3846e798e0f37a50f8dc4c",
            "61663f7ff17a4db1b825adb8dc0a7cbc",
            "33e2d893adfb42dfa149ebaf0ecdf6dc",
            "d7276470f73d447d94dcaa5541c3994d",
            "83a61568087344c89aaf6c6b0b1c20cf",
            "0915e28209ad490e90893e9f9615314f",
            "db32a24d50dc44ecb9e0c9e3fd75736f",
            "a5451048b87249ae827b3f540101d2d3",
            "8eae5d5fea73490291999d225cc431a7",
            "2535b7d697c34c4584ebe77c8037dfe7",
            "eb6c06f991804a25a584c91353527bab",
            "3a5604cd08714467b20fb70d3f121470",
            "d3600fbf762a4953b23ce790772f8c8e",
            "6bf6215e04f445e3968a2bf9bb201a85",
            "59aea0355408465b921ef770c0a0621c",
            "2feae75227a247c3805b811b0c13b4c0",
            "9bae28f9a40e468cbb46367e793af5ea",
            "efbf91faf1c841c092b22b4dda1a58ff",
            "eebba4fd18984bf59829e7a61d94713a",
            "6ddb533627904f5f978c21d010ebf0b9",
            "a51fbb58410a4af1ae0e3461df736f1e",
            "0ac37ac2f82c4e2da04945688af41b0b",
            "53e5ecafee9247bf975f8cab8eb3380a",
            "701e98b2ea124b1b8084bdf58c598d3c",
            "4e52562cb74b4db78c66246c0d8b8a2e",
            "00acffa4113f456cbe32ab2941c9736b",
            "021c8036b76f4e4a8602aed8907b9a56",
            "144c79c244d44ebdbd5bda935458ad0c",
            "438f2ff2c1a0497d912ac19ac3416c49",
            "91e1f6a2aad24c23a38468c523a1dacb",
            "da64b0f5933247679f6fa2671a822a44",
            "9e08a14044d84a98af4751a5366ac517",
            "7c2f31af7a0c483ab50eb3d91778d151",
            "16d55203dc5b4fc498d687a694622012",
            "0c9d88051cc84c6ab074f12d39eb0b0d",
            "8e28a71b1ace4250a2d9dac1771d9ce3",
            "e2b9b153982f4193b757d9a8e0c6f1ad",
            "61ce99b2fe00403695ab1ac178b1a6cb"
          ]
        },
        "id": "76QyADZ0Pqki",
        "outputId": "8d7f496b-ba8a-403b-d38a-395a45114a38"
      },
      "outputs": [
        {
          "output_type": "display_data",
          "data": {
            "text/plain": [
              "tokenizer_config.json:   0%|          | 0.00/27.0 [00:00<?, ?B/s]"
            ],
            "application/vnd.jupyter.widget-view+json": {
              "version_major": 2,
              "version_minor": 0,
              "model_id": "a76e032e3cc14ba4b362339790754b71"
            }
          },
          "metadata": {}
        },
        {
          "output_type": "display_data",
          "data": {
            "text/plain": [
              "vocab.json: 0.00B [00:00, ?B/s]"
            ],
            "application/vnd.jupyter.widget-view+json": {
              "version_major": 2,
              "version_minor": 0,
              "model_id": "c8f4c78034094e83821934bbdf3604d8"
            }
          },
          "metadata": {}
        },
        {
          "output_type": "display_data",
          "data": {
            "text/plain": [
              "merges.txt: 0.00B [00:00, ?B/s]"
            ],
            "application/vnd.jupyter.widget-view+json": {
              "version_major": 2,
              "version_minor": 0,
              "model_id": "61e7888a6f874ecb801d6329d57c2228"
            }
          },
          "metadata": {}
        },
        {
          "output_type": "display_data",
          "data": {
            "text/plain": [
              "tokenizer.json: 0.00B [00:00, ?B/s]"
            ],
            "application/vnd.jupyter.widget-view+json": {
              "version_major": 2,
              "version_minor": 0,
              "model_id": "0915e28209ad490e90893e9f9615314f"
            }
          },
          "metadata": {}
        },
        {
          "output_type": "display_data",
          "data": {
            "text/plain": [
              "config.json: 0.00B [00:00, ?B/s]"
            ],
            "application/vnd.jupyter.widget-view+json": {
              "version_major": 2,
              "version_minor": 0,
              "model_id": "9bae28f9a40e468cbb46367e793af5ea"
            }
          },
          "metadata": {}
        },
        {
          "output_type": "display_data",
          "data": {
            "text/plain": [
              "model.safetensors:   0%|          | 0.00/1.63G [00:00<?, ?B/s]"
            ],
            "application/vnd.jupyter.widget-view+json": {
              "version_major": 2,
              "version_minor": 0,
              "model_id": "144c79c244d44ebdbd5bda935458ad0c"
            }
          },
          "metadata": {}
        }
      ],
      "source": [
        "from transformers import BartTokenizer, BartForConditionalGeneration\n",
        "\n",
        "# load bart tokenizer and model from huggingface\n",
        "tokenizer = BartTokenizer.from_pretrained('vblagoje/bart_lfqa')\n",
        "generator = BartForConditionalGeneration.from_pretrained('vblagoje/bart_lfqa').to(device)"
      ]
    },
    {
      "cell_type": "markdown",
      "metadata": {
        "id": "RBr1GqvwkI3W"
      },
      "source": [
        "All the components of our abstract QA system are complete and ready to be queried. But first, let's write some helper functions to retrieve context passages from Pinecone index and to format the query in the way the generator expects the input."
      ]
    },
    {
      "cell_type": "code",
      "execution_count": 30,
      "metadata": {
        "id": "mJfIe7CtlsWo"
      },
      "outputs": [],
      "source": [
        "def query_pinecone(query, top_k=3):\n",
        "    # Generate embeddings for the query using the retriever model\n",
        "    xq = retriever.encode([query]).tolist()\n",
        "\n",
        "    # Search Pinecone for similar passages\n",
        "    search_results = index.query(vector=xq, top_k=top_k, include_metadata=True, namespace=\"default\")\n",
        "\n",
        "    # Extract matches\n",
        "    matches = search_results[\"matches\"]\n",
        "    return matches"
      ]
    },
    {
      "cell_type": "code",
      "execution_count": 31,
      "metadata": {
        "id": "wiOZ2yWDHI8p"
      },
      "outputs": [],
      "source": [
        "def format_query(query, context):\n",
        "    # Extract passage text from Pinecone results and wrap them in <P> tags\n",
        "    context_texts = [f\"<P> {m['metadata']['text']}\" for m in context if 'metadata' in m and 'text' in m['metadata']]\n",
        "\n",
        "    # Concatenate all context passages\n",
        "    combined_context = \" \".join(context_texts)\n",
        "\n",
        "    # Combine query with the retrieved context\n",
        "    final_input = f\"question: {query} context: {combined_context}\"\n",
        "\n",
        "    return final_input"
      ]
    },
    {
      "cell_type": "markdown",
      "metadata": {
        "id": "yA0f1Xyxq-Fp"
      },
      "source": [
        "Let's test the helper functions. We will query the Pinecone index function we created earlier with the `query_pinecone` to get context passages and pass them to the `format_query` function."
      ]
    },
    {
      "cell_type": "code",
      "execution_count": 35,
      "metadata": {
        "colab": {
          "base_uri": "https://localhost:8080/"
        },
        "id": "NSm2nj11mR87",
        "outputId": "66312f1b-3c39-4eca-ee39-6b3b83991c20"
      },
      "outputs": [
        {
          "output_type": "execute_result",
          "data": {
            "text/plain": [
              "[{'id': '1791',\n",
              "  'metadata': {'article_title': 'State electrician',\n",
              "               'section_title': 'None',\n",
              "               'text': 'The official title of \"state electrician\" was given to '\n",
              "                       'some American state executioners in states using the '\n",
              "                       'electric chair during the early 20th century, including '\n",
              "                       'the New York State electrician. Hangings had usually '\n",
              "                       'been carried out by untrained county sheriffs, but when '\n",
              "                       'electrocution was introduced in New York, the first in '\n",
              "                       'the world ever to adopt it, it was felt that a trained '\n",
              "                       'electrician should be hired to operate the chair. Edwin '\n",
              "                       \"Davis was New York's first state electrician. He \"\n",
              "                       'carried out the execution of William Kemmler, the first '\n",
              "                       'man executed with the electric chair, and that of '\n",
              "                       'Martha M. Place, the first woman to be legally '\n",
              "                       'electrocuted. Davis also held patents on certain '\n",
              "                       'features of the electric chair and trained two of his '\n",
              "                       'successors, Robert G. Elliott and John Hulbert, who '\n",
              "                       'served as his assistants during executions. In New '\n",
              "                       'York, state electricians were not full-time employees, '\n",
              "                       'but they were hired specifically for each execution or '\n",
              "                       'set of executions. Since Sing Sing became the only '\n",
              "                       'prison in the state to house a death row and execution '\n",
              "                       'chamber, about a week before an electrocution was '\n",
              "                       'scheduled to be carried out, the warden would send a '\n",
              "                       'letter to the state electrician to notify him. The '\n",
              "                       'executioner would report in a few hours before the '\n",
              "                       'execution in order to test his equipment. He would also '\n",
              "                       'usually be the one securing the head electrode in place '\n",
              "                       'while prison guards adjusted the straps and placed the '\n",
              "                       \"leg electrode on the prisoner's calf. State electrician \"\n",
              "                       'Robert G. Elliott, who executed nearly 400 inmates in '\n",
              "                       'six states, including New York, developed an '\n",
              "                       'electrocution technique that came to be known as the '\n",
              "                       '\"Elliott method\" and was subsequently used by all of '\n",
              "                       'his successors in Sing Sing. After an execution, the '\n",
              "                       'state electrician was required to fill in a form '\n",
              "                       'containing the name and number of the executed '\n",
              "                       'prisoner, the time at which he had entered the chamber, '\n",
              "                       'the time at which he or she was brought out of it and '\n",
              "                       'the number of amperes administered to him or her. Some '\n",
              "                       \"of this executioner's report cards still exist, and one \"\n",
              "                       'was published by Scott Christianson in his book about '\n",
              "                       'the death house in Sing Sing. State electricians by '\n",
              "                       'state In brackets is the time period during which each '\n",
              "                       'state electrician, when his name is known, actively '\n",
              "                       'performed executions. New York Edwin Davis . Davis was '\n",
              "                       \"New York's first state electrician and carried out the \"\n",
              "                       'first electrocution in the world, that of William '\n",
              "                       'Kemmler. John Hulbert Robert Green Elliott Joseph '\n",
              "                       'Francel Dow Hover Ohio State law in Ohio, which was the '\n",
              "                       'second state to adopt the electric chair as a method of '\n",
              "                       'execution, required the warden at the Ohio Penitentiary '\n",
              "                       'to throw the switch at electrocutions. Oklahoma Rich '\n",
              "                       'Owens Florida Until 1941, the sheriff of the county in '\n",
              "                       'which the condemned was convicted had to throw the '\n",
              "                       'switch at electrocutions. In 1941, a new law was passed '\n",
              "                       'requiring a specifically hired executioner that wore a '\n",
              "                       'hood to conceal his identity.'},\n",
              "  'score': 0.421320915,\n",
              "  'values': []}]"
            ]
          },
          "metadata": {},
          "execution_count": 35
        }
      ],
      "source": [
        "query = \"when was the first electric power system built?\"\n",
        "result = query_pinecone(query, top_k=1)\n",
        "result"
      ]
    },
    {
      "cell_type": "code",
      "execution_count": 36,
      "metadata": {
        "id": "6yoylQFO4joX"
      },
      "outputs": [],
      "source": [
        "from pprint import pprint"
      ]
    },
    {
      "cell_type": "code",
      "execution_count": 38,
      "metadata": {
        "colab": {
          "base_uri": "https://localhost:8080/"
        },
        "id": "tPxVoo6am8ls",
        "outputId": "f4fc90cc-f72f-4c5d-d643-73469af40c97",
        "collapsed": true
      },
      "outputs": [
        {
          "output_type": "stream",
          "name": "stdout",
          "text": [
            "('question: when was the first electric power system built? context: <P> The '\n",
            " 'official title of \"state electrician\" was given to some American state '\n",
            " 'executioners in states using the electric chair during the early 20th '\n",
            " 'century, including the New York State electrician. Hangings had usually been '\n",
            " 'carried out by untrained county sheriffs, but when electrocution was '\n",
            " 'introduced in New York, the first in the world ever to adopt it, it was felt '\n",
            " 'that a trained electrician should be hired to operate the chair. Edwin Davis '\n",
            " \"was New York's first state electrician. He carried out the execution of \"\n",
            " 'William Kemmler, the first man executed with the electric chair, and that of '\n",
            " 'Martha M. Place, the first woman to be legally electrocuted. Davis also held '\n",
            " 'patents on certain features of the electric chair and trained two of his '\n",
            " 'successors, Robert G. Elliott and John Hulbert, who served as his assistants '\n",
            " 'during executions. In New York, state electricians were not full-time '\n",
            " 'employees, but they were hired specifically for each execution or set of '\n",
            " 'executions. Since Sing Sing became the only prison in the state to house a '\n",
            " 'death row and execution chamber, about a week before an electrocution was '\n",
            " 'scheduled to be carried out, the warden would send a letter to the state '\n",
            " 'electrician to notify him. The executioner would report in a few hours '\n",
            " 'before the execution in order to test his equipment. He would also usually '\n",
            " 'be the one securing the head electrode in place while prison guards adjusted '\n",
            " \"the straps and placed the leg electrode on the prisoner's calf. State \"\n",
            " 'electrician Robert G. Elliott, who executed nearly 400 inmates in six '\n",
            " 'states, including New York, developed an electrocution technique that came '\n",
            " 'to be known as the \"Elliott method\" and was subsequently used by all of his '\n",
            " 'successors in Sing Sing. After an execution, the state electrician was '\n",
            " 'required to fill in a form containing the name and number of the executed '\n",
            " 'prisoner, the time at which he had entered the chamber, the time at which he '\n",
            " 'or she was brought out of it and the number of amperes administered to him '\n",
            " \"or her. Some of this executioner's report cards still exist, and one was \"\n",
            " 'published by Scott Christianson in his book about the death house in Sing '\n",
            " 'Sing. State electricians by state In brackets is the time period during '\n",
            " 'which each state electrician, when his name is known, actively performed '\n",
            " \"executions. New York Edwin Davis . Davis was New York's first state \"\n",
            " 'electrician and carried out the first electrocution in the world, that of '\n",
            " 'William Kemmler. John Hulbert Robert Green Elliott Joseph Francel Dow Hover '\n",
            " 'Ohio State law in Ohio, which was the second state to adopt the electric '\n",
            " 'chair as a method of execution, required the warden at the Ohio Penitentiary '\n",
            " 'to throw the switch at electrocutions. Oklahoma Rich Owens Florida Until '\n",
            " '1941, the sheriff of the county in which the condemned was convicted had to '\n",
            " 'throw the switch at electrocutions. In 1941, a new law was passed requiring '\n",
            " 'a specifically hired executioner that wore a hood to conceal his identity.')\n"
          ]
        }
      ],
      "source": [
        "# format the query in the form generator expects the input\n",
        "query = format_query(query, result)\n",
        "pprint(query)"
      ]
    },
    {
      "cell_type": "markdown",
      "metadata": {
        "id": "OY8LSqk7rdPS"
      },
      "source": [
        "The output looks great. Now let's write a function to generate answers."
      ]
    },
    {
      "cell_type": "code",
      "execution_count": 42,
      "metadata": {
        "id": "2fxIoNqeoEPD"
      },
      "outputs": [],
      "source": [
        "def generate_answer(query):\n",
        "    # tokenize the query to get input_ids\n",
        "    inputs = tokenizer([query], max_length=1024, truncation=True, return_tensors=\"pt\").to(device)\n",
        "    # use generator to predict output ids\n",
        "    ids = generator.generate(inputs[\"input_ids\"], num_beams=2, min_length=20, max_length=40)\n",
        "    # use tokenizer to decode the output ids\n",
        "    answer = tokenizer.batch_decode(ids, skip_special_tokens=True, clean_up_tokenization_spaces=False)[0]\n",
        "    return pprint(answer)"
      ]
    },
    {
      "cell_type": "code",
      "execution_count": 43,
      "metadata": {
        "colab": {
          "base_uri": "https://localhost:8080/"
        },
        "id": "cYXFSBqSsZMx",
        "outputId": "5473517d-7e70-4241-cff5-9327e9ca5e2b",
        "collapsed": true
      },
      "outputs": [
        {
          "output_type": "stream",
          "name": "stdout",
          "text": [
            "('The first wireless message was sent by a telegraph. It was sent by a '\n",
            " 'telegraph operator.')\n"
          ]
        }
      ],
      "source": [
        "generate_answer(query)"
      ]
    },
    {
      "cell_type": "markdown",
      "metadata": {
        "id": "gYWACzIotWQY"
      },
      "source": [
        "As we can see, the generator used the provided context to answer our question. Let's run some more queries."
      ]
    },
    {
      "cell_type": "code",
      "execution_count": 45,
      "metadata": {
        "colab": {
          "base_uri": "https://localhost:8080/"
        },
        "id": "6iFLxPPvx2Tm",
        "outputId": "2908f56a-6869-4a6d-edae-74afc85dfa64"
      },
      "outputs": [
        {
          "output_type": "stream",
          "name": "stdout",
          "text": [
            "('The first wireless message was sent in the early 1900s. The first wireless '\n",
            " 'message was sent in the early 1900s. The first wireless message was sent in '\n",
            " 'the early 1900s. The first')\n"
          ]
        }
      ],
      "source": [
        "query = \"How was the first wireless message sent?\"\n",
        "context = query_pinecone(query, top_k=5)\n",
        "query = format_query(query, context)\n",
        "generate_answer(query)"
      ]
    },
    {
      "cell_type": "markdown",
      "metadata": {
        "id": "BI2fTt_A5Ozf"
      },
      "source": [
        "To confirm that this answer is correct, we can check the contexts used to generate the answer."
      ]
    },
    {
      "cell_type": "code",
      "execution_count": 48,
      "metadata": {
        "colab": {
          "base_uri": "https://localhost:8080/"
        },
        "id": "15WZSeZw3mNY",
        "outputId": "ae2b80d9-0c49-426f-cdf8-f263337c6474"
      },
      "outputs": [
        {
          "output_type": "stream",
          "name": "stdout",
          "text": [
            "William \"Bill\" Yeager is an American engineer. He is best known for being the inventor of a packet-switched, \"Ships in the Night\", multiple-protocol router in 1981, during his 20-year tenure at Stanford's Knowledge Systems Laboratory as well as the Stanford University Computer Science department. Biography The code routed PARC Universal Packet , Xerox Network Systems , Internet Protocol and Chaosnet. The router used Bill's Network Operating System . The NOS also supported the EtherTIPS that were used throughout the Stanford LAN for terminal access to both the LAN and the Internet. This code was licensed by Cisco Systems in 1987 and comprised the core of the first Cisco IOS. This provided the groundwork for a new, global communications approach. He is also known for his role in the creation of the Internet Message Access Protocol mail protocol. In 1984 he conceived of a client/server protocol, designed its functionality, applied for and received the grant money for its implementation. In 1985 Mark Crispin was hired to work with Bill on what became the IMAP protocol. Along with Mark, who implemented the protocols details and wrote the first client, MMD, Bill wrote the first Unix IMAP server. Bill later implemented MacMM which was the first Macintosh IMAP client. Frank Gilmurray assisted with the initial part of this implementation. At Stanford in 1979 Bill wrote the ttyftp serial line file transfer program, which was developed into the Macintosh version of the Kermit protocol at Columbia University. He was initially hired in August 1975 as a member of Dr. Elliott Levanthal's Instrumentation Research Laboratory. Here, Bill was responsible for a small computer laboratory for biomedical applications of mass spectrometry. This laboratory in conjunction with several chemists, and the Department of inherited rare diseases in the medical school made significant inroads in identifying inherited rare diseases from the gas chromatograph, mass spectrometer data generated from blood and urine samples of sick children. His significant accomplishment was to complete a prototype program initiated by Dr. R. Geoff Dromey called CLEANUP. This program \"extracted representative spectra from GC/MS data,\" and was later used by the EPA to detect water pollutants. From 1970 to 1975 he worked at NASA Ames Research Center where he wrote, as a part of the Pioneer 10/11 mission control operating system, both the telemetry monitoring and real time display of the images of Jupiter. After his stint at Stanford he worked for 10 years at Sun Microsystems. At Sun as the CTO of Project JXTA he filed 40 US Patents, and along with Rita Yu Chen, designed and implemented the JXTA security solutions. In 2002 he along with Jeff Altman, then a contributor to the JXTA Open Source community, initiated the effort to establish the Internet Research Task Force Peer-to-Peer working group. The working group was created in 2003. Bill was the working group chair until 2005. As Chief Scientist at Peerouette, Inc., he filed 2 US and 2 European Union Patents. He has so far been granted 20 US Patents 4 of\n",
            "---\n",
            "ATIM may refer to: Announcement Traffic Indication Message, a control message in 802.11 wireless communication protocol Association of Translators and Interpreters of Manitoba Advanced Tissue Management application, a biobank management application.\n",
            "---\n",
            "DXing, taken from DX, the telegraphic shorthand for \"distance\" or \"distant\", is the hobby of receiving and identifying distant radio or television signals, or making two-way radio contact with distant stations in amateur radio, citizens band radio or other two-way radio communications. Many DXers also attempt to obtain written verifications of reception or contact, sometimes referred to as \"QSLs\" or \"veries\". The practice of DXing arose during the early days of radio broadcasting. Listeners would mail \"reception reports\" to radio broadcasting stations in hopes of getting a written acknowledgement or a QSL card that served to officially verify they had heard a distant station. Collecting these cards became popular with radio listeners in the 1920s and 1930s, and reception reports were often used by early broadcasters to gauge the effectiveness of their transmissions. Although international shortwave broadcasts are on the decline, DXing remains popular among dedicated shortwave listeners. The pursuit of two-way contact between distant amateur radio operators is also a significant activity within the amateur radio hobby. Types AM radio DX Early radio listeners, often using home made crystal sets and long wire antennas, found radio stations few and far between. With the broadcast bands uncrowded, signals of the most powerful stations could be heard over hundreds of miles, but weaker signals required more precise tuning or better receiving gear. By the 1950s, and continuing through the mid-1970s, many of the most powerful North American \"clear channel\" stations such as KDKA, WLW, WGY, CKLW, CHUM, WABC, WJR, WLS, WKBW, KFI, KAAY, KSL and a host of border blasters from Mexico pumped out Top 40 music played by popular disc jockeys. As most smaller, local AM radio stations had to sign off at night, the big 50 kW stations had loyal listeners hundreds of miles away. The popularity of DXing the medium-wave band has diminished as the popular music formats quickly migrated to the clearer, though less propagating, FM radio beginning in the 1970s. Meanwhile, the MW band in the United States was getting more and more crowded with new stations and existing stations receiving FCC authorization to operate, with low power, at night—this largely peaked in the conservative talk radio boom of the 1990s, and especially since the 2010s, the AM band has gone into decline. In Canada, the decline came sooner as AM stations began moving to FM beginning in the 1980s and continuing through today. A limited number of music stations, including WSM in the United States, CFZM in Canada and—on weekends—WABC still program music on their clear-channel signals. Outside of the Americas and Australia, most AM radio broadcasting was in the form of synchronous networks of government-operated stations, operating with hundreds, even thousands of kilowatts of power. Still, the lower powered stations and occasional trans-oceanic signal were popular DX targets. Shortwave DX Especially during wartime and times of conflict, reception of international broadcasters, whose signals propagate around the world on the shortwave bands has been popular with both casual listeners and DXing hobbyists. With the rise\n",
            "---\n",
            "The White House Communications Agency , originally known as the White House Signal Corps and then the White House Signal Detachment , was officially formed by the United States Department of War on March 25, 1942 under President Franklin D. Roosevelt. The organization was created to provide secure normal, secret, and emergency communications requirements in support of the president. The organization provided mobile radio, Teletype, telegraph, telephone and cryptographic aides in the White House and at \"Shangri-La\" . The organizational mission was to provide a premier communication system that would enable the president to lead the nation effectively. Reorganization In 1954, during the Eisenhower administration, the WHSD was reorganized under the Office of the Chief Signal Officer, Army Signal Corps as a Class II unit and renamed the White House Army Signal Agency . In 1962, WHASA was discontinued by order of the United States secretary of defense under President John F. Kennedy. Its duties were transferred to the auspices of the Defense Communications Agency under the operational control of the White House Military Office, and reestablished as the White House Communications Agency. Role WHCA has played an unremarked, but significant role in many historical events, including: World War II, the Korean War, the Vietnam War, Panama and Guatemala, Operation Just Cause, Operations Desert Shield and Desert Storm, and Operation Restore Hope in Somalia. WHCA was also a key player in documenting the assassination of President John F. Kennedy and the attempted assassinations of presidents Gerald Ford and Ronald Reagan. Richard Nixon awarded the agency the Presidential Unit Citation in recognition of their performance during his 1972 visit to China. Organization The White House Communications Agency is composed of Army, Air Force, Navy, Coast Guard, and Marine Corps personnel. The agency evolved over the past 60 years from a small team of 32 personnel working out of the basement of the White House to a thousand-person self-supporting joint service command. Headquarters for WHCA is at Joint Base Anacostia–Bolling and consists of six staff elements and seven organizational units. WHCA also has supporting detachments in Washington, D.C., and various locations throughout the United States. WHCA is organized into functional areas, each with its own mission in support of the total WHCA mission of presidential support. Members The White House Communications Agency is a joint military unit. It has members from each branch of service: United States Air Force , United States Army , United States Coast Guard , United States Marine Corps , and the United States Navy . They are stringently vetted before being admitted. After meritorious service of 365 days, typically, its uniformed service members are awarded the Presidential Service Badge. WHCA also maintains many civilian employees throughout the agency and satellite locations. References External links disa.mil, Defense Information Systems Agency whitehousecommsagency.mil, White House Communications Agency White House Military Office Government agencies established in 1942 1942 establishments in the United States\n",
            "---\n",
            "A balloon satellite, sometimes referred to as a \"satelloon\", is inflated with gas after it has been put into orbit. Echo 1 and Echo 2 balloon satellites The first flying body of this type was Echo 1, which was launched into a high orbit on August 12, 1960, by the United States. It originally had a spherical shape measuring , with a thin metal-coated plastic shell made of Mylar. It served for testing as a \"passive\" communication and geodetic satellite. One of the first radio contacts using the satellite was successful at a distance of nearly . By the time Echo 1 burned up in 1968, the measurements of its orbit by several dozen earth stations had improved our knowledge of the precise shape of the planet by nearly a factor of ten. Its successor was the similarly built Echo 2 . This satellite circled the Earth about lower, not at an angle of 47° like that of Echo 1, but in a polar orbit with an average angle of 81°. This enabled radio contact and measurements to be made at higher latitudes. Taking part in the Echo orbit checks to analyze disturbances in its orbit and in the Earth's gravitational field were thirty to fifty professional earth stations, as well as around two hundred amateur astronomers across the planet in \"Moonwatch\" stations; these contributed around half of all sightings. Range of radio waves, visibility The Pythagorean theorem allows us to calculate easily how far a satellite is visible at such a great height. It can be determined that a satellite in a orbit rises and sets when the horizontal distance is . However, the atmosphere causes this figure to vary slightly. Thus if two radio stations are apart and the satellite's orbit goes between them, they may be able to receive each other's reflected radio signals if the signals are strong enough. Optical visibility is, however, lower than that of radio waves, because the satellite must be illuminated by the sun the observer needs a dark sky the brightness of a sphere depends on the angle between the incident light and the observer the brightness of a sphere is much reduced as it approaches the horizon, as atmospheric extinction swallows up as much as 90% of the light Despite this there is no problem observing a flying body such as Echo 1 for precise purposes of satellite geodesy, down to a 20° elevation, which corresponds to a distance of . In theory this means that distances of up to between measuring points can be \"bridged\", and in practice this can be accomplished at up to . For visual and photographic observation of bright satellites and balloons, and regarding their geodetic use, see Echo 1 and Pageos for further information. Other balloon satellites For special testing purposes two or three satellites of the Explorer series were constructed as balloons . Echo 1 was an acknowledged success of radio engineering, but the passive principle of telecommunications was soon replaced by active\n",
            "---\n"
          ]
        }
      ],
      "source": [
        "for doc in context:\n",
        "    print(doc[\"metadata\"][\"text\"], end='\\n---\\n')"
      ]
    },
    {
      "cell_type": "markdown",
      "metadata": {
        "id": "bH-K7WHR9z8m"
      },
      "source": [
        "In this case, the answer looks correct. If we ask a question and no relevant contexts are retrieved, the generator will typically return nonsensical or false answers, like with this question about COVID-19:"
      ]
    },
    {
      "cell_type": "code",
      "execution_count": 49,
      "metadata": {
        "colab": {
          "base_uri": "https://localhost:8080/"
        },
        "id": "T1naD6pRlmWd",
        "outputId": "a1fca1fc-1254-4c2d-87f5-5d635834f181"
      },
      "outputs": [
        {
          "output_type": "stream",
          "name": "stdout",
          "text": [
            "('COVID-19 is a virus that infects humans. It is not a virus that infects '\n",
            " 'animals. It is a virus that infects humans. It is not a virus that infect')\n"
          ]
        }
      ],
      "source": [
        "query = \"where did COVID-19 originate?\"\n",
        "context = query_pinecone(query, top_k=3)\n",
        "query = format_query(query, context)\n",
        "generate_answer(query)"
      ]
    },
    {
      "cell_type": "code",
      "execution_count": 50,
      "metadata": {
        "colab": {
          "base_uri": "https://localhost:8080/"
        },
        "id": "W3gX5xQY-jKJ",
        "outputId": "c550aa4e-f2b6-4ab8-ea36-41d0c132f373",
        "collapsed": true
      },
      "outputs": [
        {
          "output_type": "stream",
          "name": "stdout",
          "text": [
            "Tioman virus is a paramyxovirus first isolated from the urine of island fruit bats on Tioman Island, Malaysia in 2000. The virus was discovered during efforts to identify the natural host of Nipah virus which was responsible for a large outbreak of encephalitic illness in humans and pigs in Malaysia and Singapore in 1998–99. Taxonomy Tioman virus is antigenically related to Menangle virus which is also harboured by Pteropid fruit bats and caused an outbreak of foetal deformities in pigs in Australia in 1997. Clinical importance Although there is no evidence that Tioman virus can cause illness in humans or animals, its close relationship to other disease-causing paramyxoviruses suggests the possibility that it may cause disease upon crossing the species barrier. The recent emergence of a number of zoonotic bat-borne viruses in the Asia-Pacific region also demonstrates that conditions are increasingly favouring this type of event. References Rubulaviruses\n",
            "---\n",
            "DRV may refer to: Darunavir, an antiretroviral drug , which inhibits the viral protease Democratic Republic of Vietnam , i.e. North Vietnam, a socialist country that existed from 1945 to 1976 Deutscher Radfahrer-Verband, the cycling unit of the Nazi Sports Office Deutscher Rugby-Verband, Dietary Reference Values, the UK's Department of Health's nutritional intake recommendations\n",
            "---\n",
            "Phocine morbillivirus, formerly phocine distemper virus , is a paramyxovirus of the genus Morbillivirus that is pathogenic for pinniped species, particularly seals. Clinical signs include laboured breathing, fever and nervous symptoms. PDV was first identified in 1988 as the cause of death of 18,000 harbor seals and 300 grey seals along the northern European coast. In 2002, an epizootic of PDV along the North Sea coast resulted in the deaths of 21,700 seals, estimated to be 51% of the population. Antibodies to PDV have been found in a number of carnivorous mammal species in the Western North Atlantic, including polar bears, and the Atlantic walrus. The suddenness of the emergence of PDV and related viruses in aquatic mammals has implicated environmental changes as the cause. Pollutants have been posited as contributors by interfering with the ability of animals to mount a defense against infection. Alternatively, climate change and overfishing may have forced aquatic species that naturally harbour the viruses into new areas, exposing immunologically susceptible populations. References Morbilliviruses Pinniped diseases Animal viral diseases\n",
            "---\n"
          ]
        }
      ],
      "source": [
        "for doc in context:\n",
        "    print(doc[\"metadata\"][\"text\"], end='\\n---\\n')"
      ]
    },
    {
      "cell_type": "markdown",
      "metadata": {
        "id": "yCUqB_MrAABI"
      },
      "source": [
        "Let’s finish with a final few questions."
      ]
    },
    {
      "cell_type": "code",
      "execution_count": 51,
      "metadata": {
        "colab": {
          "base_uri": "https://localhost:8080/"
        },
        "id": "F_oWypShW_rk",
        "outputId": "3150adfd-b0d3-4d15-e9ff-a59461c62b0e",
        "collapsed": true
      },
      "outputs": [
        {
          "output_type": "stream",
          "name": "stdout",
          "text": [
            "('The War of Currents is a term used to describe a series of events that '\n",
            " 'occurred in the late 19th and early 20th centuries. The most famous of these '\n",
            " 'events was the Battle of')\n"
          ]
        }
      ],
      "source": [
        "query = \"what was the war of currents?\"\n",
        "context = query_pinecone(query, top_k=5)\n",
        "query = format_query(query, context)\n",
        "generate_answer(query)"
      ]
    },
    {
      "cell_type": "code",
      "execution_count": 52,
      "metadata": {
        "colab": {
          "base_uri": "https://localhost:8080/"
        },
        "id": "bJ1-OsmT0duI",
        "outputId": "bbae748b-9e1e-4323-8884-65cda7d73151",
        "collapsed": true
      },
      "outputs": [
        {
          "output_type": "stream",
          "name": "stdout",
          "text": [
            "('The first person to go to the moon was Neil Armstrong, who landed on the '\n",
            " 'moon in 1969. He was the first man to walk on the moon.')\n"
          ]
        }
      ],
      "source": [
        "query = \"who was the first person on the moon?\"\n",
        "context = query_pinecone(query, top_k=10)\n",
        "query = format_query(query, context)\n",
        "generate_answer(query)"
      ]
    },
    {
      "cell_type": "code",
      "execution_count": 53,
      "metadata": {
        "colab": {
          "base_uri": "https://localhost:8080/"
        },
        "id": "JU6DH-ah1g1t",
        "outputId": "9a017307-aba4-4759-f531-357956604a81",
        "collapsed": true
      },
      "outputs": [
        {
          "output_type": "stream",
          "name": "stdout",
          "text": [
            "('The Space Shuttle was the most expensive project in the history of NASA. It '\n",
            " 'cost about $2.5 billion to build, and it was launched in 1969. The Space '\n",
            " 'Shuttle was the first')\n"
          ]
        }
      ],
      "source": [
        "query = \"what was NASAs most expensive project?\"\n",
        "context = query_pinecone(query, top_k=3)\n",
        "query = format_query(query, context)\n",
        "generate_answer(query)"
      ]
    },
    {
      "cell_type": "markdown",
      "metadata": {
        "id": "K-cQPSkG9cFY"
      },
      "source": [
        "As we can see, the model can generate some decent answers."
      ]
    },
    {
      "cell_type": "markdown",
      "metadata": {
        "id": "IhGUJ2w9zoeH"
      },
      "source": [
        "#### Add a few more questions"
      ]
    },
    {
      "cell_type": "code",
      "execution_count": 74,
      "metadata": {
        "id": "Fq1y80oLzoeH"
      },
      "outputs": [],
      "source": [
        "import io\n",
        "import sys\n",
        "\n",
        "def ask(question, top_k=5, min_score=0.3):\n",
        "    print(f\"\\n Question: {question}\\n{'-'*80}\")\n",
        "\n",
        "    # Retrieve top matches from Pinecone\n",
        "    context = query_pinecone(question, top_k=top_k)\n",
        "    filtered_context = [doc for doc in context if doc.get('score', 0) >= min_score]\n",
        "\n",
        "    if not filtered_context:\n",
        "        print(\"\\n No relevant contexts found above the score threshold.\")\n",
        "        return\n",
        "\n",
        "    # Format query for generator\n",
        "    formatted_query = format_query(question, filtered_context)\n",
        "\n",
        "    # Capture printed output from generate_answer()\n",
        "    buffer = io.StringIO()\n",
        "    sys_stdout = sys.stdout\n",
        "    sys.stdout = buffer\n",
        "    try:\n",
        "        raw_answer = generate_answer(formatted_query)\n",
        "    finally:\n",
        "        sys.stdout = sys_stdout\n",
        "    printed_output = buffer.getvalue().strip()\n",
        "\n",
        "    # Prefer returned value or captured print\n",
        "    answer = raw_answer or printed_output\n",
        "\n",
        "    # Clean repetition\n",
        "    if isinstance(answer, (tuple, list)):\n",
        "        answer = answer[0]\n",
        "    if not isinstance(answer, str):\n",
        "        answer = str(answer)\n",
        "    words = answer.split()\n",
        "    clean_answer = \" \".join(dict.fromkeys(words))\n",
        "\n",
        "    # Print only the clean generated answer (inside function)\n",
        "    print(f\"\\n Generated Answer:\\n{clean_answer}\\n\")"
      ]
    },
    {
      "cell_type": "code",
      "source": [
        "query = \"What causes earthquakes?\"\n",
        "context = query_pinecone(query, top_k=3)\n",
        "query = format_query(query, context)\n",
        "generate_answer(query)"
      ],
      "metadata": {
        "id": "LdCSQN3EdnSr",
        "outputId": "9f3ed3d7-12ec-4e84-a892-eb36651b09d8",
        "colab": {
          "base_uri": "https://localhost:8080/"
        }
      },
      "execution_count": 63,
      "outputs": [
        {
          "output_type": "stream",
          "name": "stdout",
          "text": [
            "(\"I'm not a geologist, but I do have a degree in seismology. I'm not sure if \"\n",
            " \"this is what you're looking for, but I can give you a general idea\")\n"
          ]
        }
      ]
    },
    {
      "cell_type": "code",
      "source": [
        "ask(\"What is artificial intelligence?\")"
      ],
      "metadata": {
        "id": "GXuDtYK7fiyB",
        "outputId": "23dbd131-96d2-46ba-a1b5-d4567253676a",
        "colab": {
          "base_uri": "https://localhost:8080/"
        }
      },
      "execution_count": 75,
      "outputs": [
        {
          "output_type": "stream",
          "name": "stdout",
          "text": [
            "\n",
            " Question: What is artificial intelligence?\n",
            "--------------------------------------------------------------------------------\n",
            "\n",
            " Generated Answer:\n",
            "('Artificial intelligence is the ability of a computer to learn and adapt ' 'its environment. It its 'environment. a')\n",
            "\n"
          ]
        }
      ]
    },
    {
      "cell_type": "code",
      "source": [
        "ask (\"What is the difference between AI and ML?\")"
      ],
      "metadata": {
        "id": "QypJGwGmpJmj",
        "outputId": "624a11a2-9c2f-4f47-f1e0-3444a226c18e",
        "colab": {
          "base_uri": "https://localhost:8080/"
        }
      },
      "execution_count": 82,
      "outputs": [
        {
          "output_type": "stream",
          "name": "stdout",
          "text": [
            "\n",
            " Question: What is the difference between AI and ML?\n",
            "--------------------------------------------------------------------------------\n",
            "\n",
            " Generated Answer:\n",
            "('AI is the process of making a computer do something. ML ' 'making something.')\n",
            "\n"
          ]
        }
      ]
    },
    {
      "cell_type": "code",
      "source": [
        "ask (\"How does machine learning work?\")"
      ],
      "metadata": {
        "id": "prtgNLcwpdGu",
        "outputId": "2584e82d-9e6d-4991-8363-14a0a838737d",
        "colab": {
          "base_uri": "https://localhost:8080/"
        }
      },
      "execution_count": 83,
      "outputs": [
        {
          "output_type": "stream",
          "name": "stdout",
          "text": [
            "\n",
            " Question: How does machine learning work?\n",
            "--------------------------------------------------------------------------------\n",
            "\n",
            " No relevant contexts found above the score threshold.\n"
          ]
        }
      ]
    },
    {
      "cell_type": "code",
      "source": [
        "ask(\"When was the first car invented?\")"
      ],
      "metadata": {
        "id": "_W7Qr9PYp6za",
        "outputId": "ac2c75b8-55e7-4f5e-f6f5-031a16757de0",
        "colab": {
          "base_uri": "https://localhost:8080/"
        }
      },
      "execution_count": 85,
      "outputs": [
        {
          "output_type": "stream",
          "name": "stdout",
          "text": [
            "\n",
            " Question: When was the first car invented?\n",
            "--------------------------------------------------------------------------------\n",
            "\n",
            " Generated Answer:\n",
            "('The first car was invented in the early 19th century. The ' 'probably a bicycle. bicycle late 18th 'The in')\n",
            "\n"
          ]
        }
      ]
    },
    {
      "cell_type": "code",
      "source": [
        "ask (\"what is consciousness?\")"
      ],
      "metadata": {
        "id": "voWMRdFEqImg",
        "outputId": "158b136f-79db-4ff5-8434-c55289cb17c6",
        "colab": {
          "base_uri": "https://localhost:8080/"
        }
      },
      "execution_count": 86,
      "outputs": [
        {
          "output_type": "stream",
          "name": "stdout",
          "text": [
            "\n",
            " Question: what is consciousness?\n",
            "--------------------------------------------------------------------------------\n",
            "\n",
            " Generated Answer:\n",
            "(\"I'm not sure if this is what you're looking for, but I'll give it a shot. \" \"Consciousness the ability to think. It's physical thing, it's\")\n",
            "\n"
          ]
        }
      ]
    },
    {
      "cell_type": "code",
      "source": [
        "ask (\"How does AI improve customer experience?\")"
      ],
      "metadata": {
        "id": "dDcMdjDZqjy4",
        "outputId": "365ebf7e-a0b6-4811-9031-234385bf4268",
        "colab": {
          "base_uri": "https://localhost:8080/"
        }
      },
      "execution_count": 87,
      "outputs": [
        {
          "output_type": "stream",
          "name": "stdout",
          "text": [
            "\n",
            " Question: How does AI improve customer experience?\n",
            "--------------------------------------------------------------------------------\n",
            "\n",
            " No relevant contexts found above the score threshold.\n"
          ]
        }
      ]
    }
  ],
  "metadata": {
    "accelerator": "GPU",
    "colab": {
      "gpuType": "T4",
      "provenance": [],
      "include_colab_link": true
    },
    "kernelspec": {
      "display_name": "Python 3 (ipykernel)",
      "language": "python",
      "name": "python3"
    },
    "language_info": {
      "codemirror_mode": {
        "name": "ipython",
        "version": 3
      },
      "file_extension": ".py",
      "mimetype": "text/x-python",
      "name": "python",
      "nbconvert_exporter": "python",
      "pygments_lexer": "ipython3",
      "version": "3.11.8"
    },
    "widgets": {
      "application/vnd.jupyter.widget-state+json": {
        "3f85b9b9cbb04ea8b091a5690c094dd7": {
          "model_module": "@jupyter-widgets/controls",
          "model_name": "HBoxModel",
          "model_module_version": "1.5.0",
          "state": {
            "_dom_classes": [],
            "_model_module": "@jupyter-widgets/controls",
            "_model_module_version": "1.5.0",
            "_model_name": "HBoxModel",
            "_view_count": null,
            "_view_module": "@jupyter-widgets/controls",
            "_view_module_version": "1.5.0",
            "_view_name": "HBoxView",
            "box_style": "",
            "children": [
              "IPY_MODEL_94202915edff45ec8030839594d9d27e",
              "IPY_MODEL_fbd285a42cc44199b5ea49d79999570a",
              "IPY_MODEL_ed61a4bd780e418eb97980dd88834bd9"
            ],
            "layout": "IPY_MODEL_7636479ef1ac4f7bad28a1f6698f11d7"
          }
        },
        "94202915edff45ec8030839594d9d27e": {
          "model_module": "@jupyter-widgets/controls",
          "model_name": "HTMLModel",
          "model_module_version": "1.5.0",
          "state": {
            "_dom_classes": [],
            "_model_module": "@jupyter-widgets/controls",
            "_model_module_version": "1.5.0",
            "_model_name": "HTMLModel",
            "_view_count": null,
            "_view_module": "@jupyter-widgets/controls",
            "_view_module_version": "1.5.0",
            "_view_name": "HTMLView",
            "description": "",
            "description_tooltip": null,
            "layout": "IPY_MODEL_d58f2c154192478c8815165b77ed8a97",
            "placeholder": "​",
            "style": "IPY_MODEL_dd62cf82321e495f871c2e424a9c1236",
            "value": "Resolving data files: 100%"
          }
        },
        "fbd285a42cc44199b5ea49d79999570a": {
          "model_module": "@jupyter-widgets/controls",
          "model_name": "FloatProgressModel",
          "model_module_version": "1.5.0",
          "state": {
            "_dom_classes": [],
            "_model_module": "@jupyter-widgets/controls",
            "_model_module_version": "1.5.0",
            "_model_name": "FloatProgressModel",
            "_view_count": null,
            "_view_module": "@jupyter-widgets/controls",
            "_view_module_version": "1.5.0",
            "_view_name": "ProgressView",
            "bar_style": "success",
            "description": "",
            "description_tooltip": null,
            "layout": "IPY_MODEL_d3f2e209e5614a58aafd046190f37323",
            "max": 41,
            "min": 0,
            "orientation": "horizontal",
            "style": "IPY_MODEL_9fc6071d793c455da2e07fc875b6c5ad",
            "value": 41
          }
        },
        "ed61a4bd780e418eb97980dd88834bd9": {
          "model_module": "@jupyter-widgets/controls",
          "model_name": "HTMLModel",
          "model_module_version": "1.5.0",
          "state": {
            "_dom_classes": [],
            "_model_module": "@jupyter-widgets/controls",
            "_model_module_version": "1.5.0",
            "_model_name": "HTMLModel",
            "_view_count": null,
            "_view_module": "@jupyter-widgets/controls",
            "_view_module_version": "1.5.0",
            "_view_name": "HTMLView",
            "description": "",
            "description_tooltip": null,
            "layout": "IPY_MODEL_337c120a3a0646738446907274e8855f",
            "placeholder": "​",
            "style": "IPY_MODEL_f71b361c40a7451ea398567e5814e40a",
            "value": " 41/41 [00:00&lt;00:00, 3862.94it/s]"
          }
        },
        "7636479ef1ac4f7bad28a1f6698f11d7": {
          "model_module": "@jupyter-widgets/base",
          "model_name": "LayoutModel",
          "model_module_version": "1.2.0",
          "state": {
            "_model_module": "@jupyter-widgets/base",
            "_model_module_version": "1.2.0",
            "_model_name": "LayoutModel",
            "_view_count": null,
            "_view_module": "@jupyter-widgets/base",
            "_view_module_version": "1.2.0",
            "_view_name": "LayoutView",
            "align_content": null,
            "align_items": null,
            "align_self": null,
            "border": null,
            "bottom": null,
            "display": null,
            "flex": null,
            "flex_flow": null,
            "grid_area": null,
            "grid_auto_columns": null,
            "grid_auto_flow": null,
            "grid_auto_rows": null,
            "grid_column": null,
            "grid_gap": null,
            "grid_row": null,
            "grid_template_areas": null,
            "grid_template_columns": null,
            "grid_template_rows": null,
            "height": null,
            "justify_content": null,
            "justify_items": null,
            "left": null,
            "margin": null,
            "max_height": null,
            "max_width": null,
            "min_height": null,
            "min_width": null,
            "object_fit": null,
            "object_position": null,
            "order": null,
            "overflow": null,
            "overflow_x": null,
            "overflow_y": null,
            "padding": null,
            "right": null,
            "top": null,
            "visibility": null,
            "width": null
          }
        },
        "d58f2c154192478c8815165b77ed8a97": {
          "model_module": "@jupyter-widgets/base",
          "model_name": "LayoutModel",
          "model_module_version": "1.2.0",
          "state": {
            "_model_module": "@jupyter-widgets/base",
            "_model_module_version": "1.2.0",
            "_model_name": "LayoutModel",
            "_view_count": null,
            "_view_module": "@jupyter-widgets/base",
            "_view_module_version": "1.2.0",
            "_view_name": "LayoutView",
            "align_content": null,
            "align_items": null,
            "align_self": null,
            "border": null,
            "bottom": null,
            "display": null,
            "flex": null,
            "flex_flow": null,
            "grid_area": null,
            "grid_auto_columns": null,
            "grid_auto_flow": null,
            "grid_auto_rows": null,
            "grid_column": null,
            "grid_gap": null,
            "grid_row": null,
            "grid_template_areas": null,
            "grid_template_columns": null,
            "grid_template_rows": null,
            "height": null,
            "justify_content": null,
            "justify_items": null,
            "left": null,
            "margin": null,
            "max_height": null,
            "max_width": null,
            "min_height": null,
            "min_width": null,
            "object_fit": null,
            "object_position": null,
            "order": null,
            "overflow": null,
            "overflow_x": null,
            "overflow_y": null,
            "padding": null,
            "right": null,
            "top": null,
            "visibility": null,
            "width": null
          }
        },
        "dd62cf82321e495f871c2e424a9c1236": {
          "model_module": "@jupyter-widgets/controls",
          "model_name": "DescriptionStyleModel",
          "model_module_version": "1.5.0",
          "state": {
            "_model_module": "@jupyter-widgets/controls",
            "_model_module_version": "1.5.0",
            "_model_name": "DescriptionStyleModel",
            "_view_count": null,
            "_view_module": "@jupyter-widgets/base",
            "_view_module_version": "1.2.0",
            "_view_name": "StyleView",
            "description_width": ""
          }
        },
        "d3f2e209e5614a58aafd046190f37323": {
          "model_module": "@jupyter-widgets/base",
          "model_name": "LayoutModel",
          "model_module_version": "1.2.0",
          "state": {
            "_model_module": "@jupyter-widgets/base",
            "_model_module_version": "1.2.0",
            "_model_name": "LayoutModel",
            "_view_count": null,
            "_view_module": "@jupyter-widgets/base",
            "_view_module_version": "1.2.0",
            "_view_name": "LayoutView",
            "align_content": null,
            "align_items": null,
            "align_self": null,
            "border": null,
            "bottom": null,
            "display": null,
            "flex": null,
            "flex_flow": null,
            "grid_area": null,
            "grid_auto_columns": null,
            "grid_auto_flow": null,
            "grid_auto_rows": null,
            "grid_column": null,
            "grid_gap": null,
            "grid_row": null,
            "grid_template_areas": null,
            "grid_template_columns": null,
            "grid_template_rows": null,
            "height": null,
            "justify_content": null,
            "justify_items": null,
            "left": null,
            "margin": null,
            "max_height": null,
            "max_width": null,
            "min_height": null,
            "min_width": null,
            "object_fit": null,
            "object_position": null,
            "order": null,
            "overflow": null,
            "overflow_x": null,
            "overflow_y": null,
            "padding": null,
            "right": null,
            "top": null,
            "visibility": null,
            "width": null
          }
        },
        "9fc6071d793c455da2e07fc875b6c5ad": {
          "model_module": "@jupyter-widgets/controls",
          "model_name": "ProgressStyleModel",
          "model_module_version": "1.5.0",
          "state": {
            "_model_module": "@jupyter-widgets/controls",
            "_model_module_version": "1.5.0",
            "_model_name": "ProgressStyleModel",
            "_view_count": null,
            "_view_module": "@jupyter-widgets/base",
            "_view_module_version": "1.2.0",
            "_view_name": "StyleView",
            "bar_color": null,
            "description_width": ""
          }
        },
        "337c120a3a0646738446907274e8855f": {
          "model_module": "@jupyter-widgets/base",
          "model_name": "LayoutModel",
          "model_module_version": "1.2.0",
          "state": {
            "_model_module": "@jupyter-widgets/base",
            "_model_module_version": "1.2.0",
            "_model_name": "LayoutModel",
            "_view_count": null,
            "_view_module": "@jupyter-widgets/base",
            "_view_module_version": "1.2.0",
            "_view_name": "LayoutView",
            "align_content": null,
            "align_items": null,
            "align_self": null,
            "border": null,
            "bottom": null,
            "display": null,
            "flex": null,
            "flex_flow": null,
            "grid_area": null,
            "grid_auto_columns": null,
            "grid_auto_flow": null,
            "grid_auto_rows": null,
            "grid_column": null,
            "grid_gap": null,
            "grid_row": null,
            "grid_template_areas": null,
            "grid_template_columns": null,
            "grid_template_rows": null,
            "height": null,
            "justify_content": null,
            "justify_items": null,
            "left": null,
            "margin": null,
            "max_height": null,
            "max_width": null,
            "min_height": null,
            "min_width": null,
            "object_fit": null,
            "object_position": null,
            "order": null,
            "overflow": null,
            "overflow_x": null,
            "overflow_y": null,
            "padding": null,
            "right": null,
            "top": null,
            "visibility": null,
            "width": null
          }
        },
        "f71b361c40a7451ea398567e5814e40a": {
          "model_module": "@jupyter-widgets/controls",
          "model_name": "DescriptionStyleModel",
          "model_module_version": "1.5.0",
          "state": {
            "_model_module": "@jupyter-widgets/controls",
            "_model_module_version": "1.5.0",
            "_model_name": "DescriptionStyleModel",
            "_view_count": null,
            "_view_module": "@jupyter-widgets/base",
            "_view_module_version": "1.2.0",
            "_view_name": "StyleView",
            "description_width": ""
          }
        },
        "1ba6226eecc540efae97f1d749b3dab6": {
          "model_module": "@jupyter-widgets/controls",
          "model_name": "HBoxModel",
          "model_module_version": "1.5.0",
          "state": {
            "_dom_classes": [],
            "_model_module": "@jupyter-widgets/controls",
            "_model_module_version": "1.5.0",
            "_model_name": "HBoxModel",
            "_view_count": null,
            "_view_module": "@jupyter-widgets/controls",
            "_view_module_version": "1.5.0",
            "_view_name": "HBoxView",
            "box_style": "",
            "children": [
              "IPY_MODEL_2b72224480da43bca6687649c6c4f23d",
              "IPY_MODEL_b317dabc5ee04bffb546efc5e2599b68",
              "IPY_MODEL_b6bd054d48c244a08c40014a2b7b12b4"
            ],
            "layout": "IPY_MODEL_e16da492aba040d6866c94f3d55fd9bb"
          }
        },
        "2b72224480da43bca6687649c6c4f23d": {
          "model_module": "@jupyter-widgets/controls",
          "model_name": "HTMLModel",
          "model_module_version": "1.5.0",
          "state": {
            "_dom_classes": [],
            "_model_module": "@jupyter-widgets/controls",
            "_model_module_version": "1.5.0",
            "_model_name": "HTMLModel",
            "_view_count": null,
            "_view_module": "@jupyter-widgets/controls",
            "_view_module_version": "1.5.0",
            "_view_name": "HTMLView",
            "description": "",
            "description_tooltip": null,
            "layout": "IPY_MODEL_b8804c9a693b44f1a89758a64158e9af",
            "placeholder": "​",
            "style": "IPY_MODEL_84fb8c0c26cb484fba5c9da25cc1286c",
            "value": "100%"
          }
        },
        "b317dabc5ee04bffb546efc5e2599b68": {
          "model_module": "@jupyter-widgets/controls",
          "model_name": "FloatProgressModel",
          "model_module_version": "1.5.0",
          "state": {
            "_dom_classes": [],
            "_model_module": "@jupyter-widgets/controls",
            "_model_module_version": "1.5.0",
            "_model_name": "FloatProgressModel",
            "_view_count": null,
            "_view_module": "@jupyter-widgets/controls",
            "_view_module_version": "1.5.0",
            "_view_name": "ProgressView",
            "bar_style": "success",
            "description": "",
            "description_tooltip": null,
            "layout": "IPY_MODEL_c8bae10026984903bdacb27194ca2e93",
            "max": 5000,
            "min": 0,
            "orientation": "horizontal",
            "style": "IPY_MODEL_a3062ddac98c4d8293a39e3c3ce089ce",
            "value": 5000
          }
        },
        "b6bd054d48c244a08c40014a2b7b12b4": {
          "model_module": "@jupyter-widgets/controls",
          "model_name": "HTMLModel",
          "model_module_version": "1.5.0",
          "state": {
            "_dom_classes": [],
            "_model_module": "@jupyter-widgets/controls",
            "_model_module_version": "1.5.0",
            "_model_name": "HTMLModel",
            "_view_count": null,
            "_view_module": "@jupyter-widgets/controls",
            "_view_module_version": "1.5.0",
            "_view_name": "HTMLView",
            "description": "",
            "description_tooltip": null,
            "layout": "IPY_MODEL_adea05f832b248febefba1521c75cd47",
            "placeholder": "​",
            "style": "IPY_MODEL_646ac1dfa8e84e44b4b8eec38b3d9ce5",
            "value": " 5000/5000 [00:00&lt;00:00, 170865.51it/s]"
          }
        },
        "e16da492aba040d6866c94f3d55fd9bb": {
          "model_module": "@jupyter-widgets/base",
          "model_name": "LayoutModel",
          "model_module_version": "1.2.0",
          "state": {
            "_model_module": "@jupyter-widgets/base",
            "_model_module_version": "1.2.0",
            "_model_name": "LayoutModel",
            "_view_count": null,
            "_view_module": "@jupyter-widgets/base",
            "_view_module_version": "1.2.0",
            "_view_name": "LayoutView",
            "align_content": null,
            "align_items": null,
            "align_self": null,
            "border": null,
            "bottom": null,
            "display": null,
            "flex": null,
            "flex_flow": null,
            "grid_area": null,
            "grid_auto_columns": null,
            "grid_auto_flow": null,
            "grid_auto_rows": null,
            "grid_column": null,
            "grid_gap": null,
            "grid_row": null,
            "grid_template_areas": null,
            "grid_template_columns": null,
            "grid_template_rows": null,
            "height": null,
            "justify_content": null,
            "justify_items": null,
            "left": null,
            "margin": null,
            "max_height": null,
            "max_width": null,
            "min_height": null,
            "min_width": null,
            "object_fit": null,
            "object_position": null,
            "order": null,
            "overflow": null,
            "overflow_x": null,
            "overflow_y": null,
            "padding": null,
            "right": null,
            "top": null,
            "visibility": null,
            "width": null
          }
        },
        "b8804c9a693b44f1a89758a64158e9af": {
          "model_module": "@jupyter-widgets/base",
          "model_name": "LayoutModel",
          "model_module_version": "1.2.0",
          "state": {
            "_model_module": "@jupyter-widgets/base",
            "_model_module_version": "1.2.0",
            "_model_name": "LayoutModel",
            "_view_count": null,
            "_view_module": "@jupyter-widgets/base",
            "_view_module_version": "1.2.0",
            "_view_name": "LayoutView",
            "align_content": null,
            "align_items": null,
            "align_self": null,
            "border": null,
            "bottom": null,
            "display": null,
            "flex": null,
            "flex_flow": null,
            "grid_area": null,
            "grid_auto_columns": null,
            "grid_auto_flow": null,
            "grid_auto_rows": null,
            "grid_column": null,
            "grid_gap": null,
            "grid_row": null,
            "grid_template_areas": null,
            "grid_template_columns": null,
            "grid_template_rows": null,
            "height": null,
            "justify_content": null,
            "justify_items": null,
            "left": null,
            "margin": null,
            "max_height": null,
            "max_width": null,
            "min_height": null,
            "min_width": null,
            "object_fit": null,
            "object_position": null,
            "order": null,
            "overflow": null,
            "overflow_x": null,
            "overflow_y": null,
            "padding": null,
            "right": null,
            "top": null,
            "visibility": null,
            "width": null
          }
        },
        "84fb8c0c26cb484fba5c9da25cc1286c": {
          "model_module": "@jupyter-widgets/controls",
          "model_name": "DescriptionStyleModel",
          "model_module_version": "1.5.0",
          "state": {
            "_model_module": "@jupyter-widgets/controls",
            "_model_module_version": "1.5.0",
            "_model_name": "DescriptionStyleModel",
            "_view_count": null,
            "_view_module": "@jupyter-widgets/base",
            "_view_module_version": "1.2.0",
            "_view_name": "StyleView",
            "description_width": ""
          }
        },
        "c8bae10026984903bdacb27194ca2e93": {
          "model_module": "@jupyter-widgets/base",
          "model_name": "LayoutModel",
          "model_module_version": "1.2.0",
          "state": {
            "_model_module": "@jupyter-widgets/base",
            "_model_module_version": "1.2.0",
            "_model_name": "LayoutModel",
            "_view_count": null,
            "_view_module": "@jupyter-widgets/base",
            "_view_module_version": "1.2.0",
            "_view_name": "LayoutView",
            "align_content": null,
            "align_items": null,
            "align_self": null,
            "border": null,
            "bottom": null,
            "display": null,
            "flex": null,
            "flex_flow": null,
            "grid_area": null,
            "grid_auto_columns": null,
            "grid_auto_flow": null,
            "grid_auto_rows": null,
            "grid_column": null,
            "grid_gap": null,
            "grid_row": null,
            "grid_template_areas": null,
            "grid_template_columns": null,
            "grid_template_rows": null,
            "height": null,
            "justify_content": null,
            "justify_items": null,
            "left": null,
            "margin": null,
            "max_height": null,
            "max_width": null,
            "min_height": null,
            "min_width": null,
            "object_fit": null,
            "object_position": null,
            "order": null,
            "overflow": null,
            "overflow_x": null,
            "overflow_y": null,
            "padding": null,
            "right": null,
            "top": null,
            "visibility": null,
            "width": null
          }
        },
        "a3062ddac98c4d8293a39e3c3ce089ce": {
          "model_module": "@jupyter-widgets/controls",
          "model_name": "ProgressStyleModel",
          "model_module_version": "1.5.0",
          "state": {
            "_model_module": "@jupyter-widgets/controls",
            "_model_module_version": "1.5.0",
            "_model_name": "ProgressStyleModel",
            "_view_count": null,
            "_view_module": "@jupyter-widgets/base",
            "_view_module_version": "1.2.0",
            "_view_name": "StyleView",
            "bar_color": null,
            "description_width": ""
          }
        },
        "adea05f832b248febefba1521c75cd47": {
          "model_module": "@jupyter-widgets/base",
          "model_name": "LayoutModel",
          "model_module_version": "1.2.0",
          "state": {
            "_model_module": "@jupyter-widgets/base",
            "_model_module_version": "1.2.0",
            "_model_name": "LayoutModel",
            "_view_count": null,
            "_view_module": "@jupyter-widgets/base",
            "_view_module_version": "1.2.0",
            "_view_name": "LayoutView",
            "align_content": null,
            "align_items": null,
            "align_self": null,
            "border": null,
            "bottom": null,
            "display": null,
            "flex": null,
            "flex_flow": null,
            "grid_area": null,
            "grid_auto_columns": null,
            "grid_auto_flow": null,
            "grid_auto_rows": null,
            "grid_column": null,
            "grid_gap": null,
            "grid_row": null,
            "grid_template_areas": null,
            "grid_template_columns": null,
            "grid_template_rows": null,
            "height": null,
            "justify_content": null,
            "justify_items": null,
            "left": null,
            "margin": null,
            "max_height": null,
            "max_width": null,
            "min_height": null,
            "min_width": null,
            "object_fit": null,
            "object_position": null,
            "order": null,
            "overflow": null,
            "overflow_x": null,
            "overflow_y": null,
            "padding": null,
            "right": null,
            "top": null,
            "visibility": null,
            "width": null
          }
        },
        "646ac1dfa8e84e44b4b8eec38b3d9ce5": {
          "model_module": "@jupyter-widgets/controls",
          "model_name": "DescriptionStyleModel",
          "model_module_version": "1.5.0",
          "state": {
            "_model_module": "@jupyter-widgets/controls",
            "_model_module_version": "1.5.0",
            "_model_name": "DescriptionStyleModel",
            "_view_count": null,
            "_view_module": "@jupyter-widgets/base",
            "_view_module_version": "1.2.0",
            "_view_name": "StyleView",
            "description_width": ""
          }
        },
        "c7f60ca852184a91b1bd1828d3bf5ba9": {
          "model_module": "@jupyter-widgets/controls",
          "model_name": "HBoxModel",
          "model_module_version": "1.5.0",
          "state": {
            "_dom_classes": [],
            "_model_module": "@jupyter-widgets/controls",
            "_model_module_version": "1.5.0",
            "_model_name": "HBoxModel",
            "_view_count": null,
            "_view_module": "@jupyter-widgets/controls",
            "_view_module_version": "1.5.0",
            "_view_name": "HBoxView",
            "box_style": "",
            "children": [
              "IPY_MODEL_9c253e001098415d8da150280c72264b",
              "IPY_MODEL_1cb250c15ea946eda136ea929f45593f",
              "IPY_MODEL_c35d3f53f0834e959da81a4eedd8ac0c"
            ],
            "layout": "IPY_MODEL_eda230dcf3f5462a8136830f82d0bc23"
          }
        },
        "9c253e001098415d8da150280c72264b": {
          "model_module": "@jupyter-widgets/controls",
          "model_name": "HTMLModel",
          "model_module_version": "1.5.0",
          "state": {
            "_dom_classes": [],
            "_model_module": "@jupyter-widgets/controls",
            "_model_module_version": "1.5.0",
            "_model_name": "HTMLModel",
            "_view_count": null,
            "_view_module": "@jupyter-widgets/controls",
            "_view_module_version": "1.5.0",
            "_view_name": "HTMLView",
            "description": "",
            "description_tooltip": null,
            "layout": "IPY_MODEL_b29a79ae93964e46b4b104bb001f126f",
            "placeholder": "​",
            "style": "IPY_MODEL_471b73a1de124cd890af1846830fac1d",
            "value": "100%"
          }
        },
        "1cb250c15ea946eda136ea929f45593f": {
          "model_module": "@jupyter-widgets/controls",
          "model_name": "FloatProgressModel",
          "model_module_version": "1.5.0",
          "state": {
            "_dom_classes": [],
            "_model_module": "@jupyter-widgets/controls",
            "_model_module_version": "1.5.0",
            "_model_name": "FloatProgressModel",
            "_view_count": null,
            "_view_module": "@jupyter-widgets/controls",
            "_view_module_version": "1.5.0",
            "_view_name": "ProgressView",
            "bar_style": "success",
            "description": "",
            "description_tooltip": null,
            "layout": "IPY_MODEL_b5014cc575a142509dc3b17bb3cfd57d",
            "max": 50,
            "min": 0,
            "orientation": "horizontal",
            "style": "IPY_MODEL_78bec154663d4bc097c660884da60651",
            "value": 50
          }
        },
        "c35d3f53f0834e959da81a4eedd8ac0c": {
          "model_module": "@jupyter-widgets/controls",
          "model_name": "HTMLModel",
          "model_module_version": "1.5.0",
          "state": {
            "_dom_classes": [],
            "_model_module": "@jupyter-widgets/controls",
            "_model_module_version": "1.5.0",
            "_model_name": "HTMLModel",
            "_view_count": null,
            "_view_module": "@jupyter-widgets/controls",
            "_view_module_version": "1.5.0",
            "_view_name": "HTMLView",
            "description": "",
            "description_tooltip": null,
            "layout": "IPY_MODEL_43d4dc5383f14a46870aa9b02d87f30c",
            "placeholder": "​",
            "style": "IPY_MODEL_7936fc9ff57c4efebd03dffde1f4b9a9",
            "value": " 50/50 [00:17&lt;00:00,  3.10it/s]"
          }
        },
        "eda230dcf3f5462a8136830f82d0bc23": {
          "model_module": "@jupyter-widgets/base",
          "model_name": "LayoutModel",
          "model_module_version": "1.2.0",
          "state": {
            "_model_module": "@jupyter-widgets/base",
            "_model_module_version": "1.2.0",
            "_model_name": "LayoutModel",
            "_view_count": null,
            "_view_module": "@jupyter-widgets/base",
            "_view_module_version": "1.2.0",
            "_view_name": "LayoutView",
            "align_content": null,
            "align_items": null,
            "align_self": null,
            "border": null,
            "bottom": null,
            "display": null,
            "flex": null,
            "flex_flow": null,
            "grid_area": null,
            "grid_auto_columns": null,
            "grid_auto_flow": null,
            "grid_auto_rows": null,
            "grid_column": null,
            "grid_gap": null,
            "grid_row": null,
            "grid_template_areas": null,
            "grid_template_columns": null,
            "grid_template_rows": null,
            "height": null,
            "justify_content": null,
            "justify_items": null,
            "left": null,
            "margin": null,
            "max_height": null,
            "max_width": null,
            "min_height": null,
            "min_width": null,
            "object_fit": null,
            "object_position": null,
            "order": null,
            "overflow": null,
            "overflow_x": null,
            "overflow_y": null,
            "padding": null,
            "right": null,
            "top": null,
            "visibility": null,
            "width": null
          }
        },
        "b29a79ae93964e46b4b104bb001f126f": {
          "model_module": "@jupyter-widgets/base",
          "model_name": "LayoutModel",
          "model_module_version": "1.2.0",
          "state": {
            "_model_module": "@jupyter-widgets/base",
            "_model_module_version": "1.2.0",
            "_model_name": "LayoutModel",
            "_view_count": null,
            "_view_module": "@jupyter-widgets/base",
            "_view_module_version": "1.2.0",
            "_view_name": "LayoutView",
            "align_content": null,
            "align_items": null,
            "align_self": null,
            "border": null,
            "bottom": null,
            "display": null,
            "flex": null,
            "flex_flow": null,
            "grid_area": null,
            "grid_auto_columns": null,
            "grid_auto_flow": null,
            "grid_auto_rows": null,
            "grid_column": null,
            "grid_gap": null,
            "grid_row": null,
            "grid_template_areas": null,
            "grid_template_columns": null,
            "grid_template_rows": null,
            "height": null,
            "justify_content": null,
            "justify_items": null,
            "left": null,
            "margin": null,
            "max_height": null,
            "max_width": null,
            "min_height": null,
            "min_width": null,
            "object_fit": null,
            "object_position": null,
            "order": null,
            "overflow": null,
            "overflow_x": null,
            "overflow_y": null,
            "padding": null,
            "right": null,
            "top": null,
            "visibility": null,
            "width": null
          }
        },
        "471b73a1de124cd890af1846830fac1d": {
          "model_module": "@jupyter-widgets/controls",
          "model_name": "DescriptionStyleModel",
          "model_module_version": "1.5.0",
          "state": {
            "_model_module": "@jupyter-widgets/controls",
            "_model_module_version": "1.5.0",
            "_model_name": "DescriptionStyleModel",
            "_view_count": null,
            "_view_module": "@jupyter-widgets/base",
            "_view_module_version": "1.2.0",
            "_view_name": "StyleView",
            "description_width": ""
          }
        },
        "b5014cc575a142509dc3b17bb3cfd57d": {
          "model_module": "@jupyter-widgets/base",
          "model_name": "LayoutModel",
          "model_module_version": "1.2.0",
          "state": {
            "_model_module": "@jupyter-widgets/base",
            "_model_module_version": "1.2.0",
            "_model_name": "LayoutModel",
            "_view_count": null,
            "_view_module": "@jupyter-widgets/base",
            "_view_module_version": "1.2.0",
            "_view_name": "LayoutView",
            "align_content": null,
            "align_items": null,
            "align_self": null,
            "border": null,
            "bottom": null,
            "display": null,
            "flex": null,
            "flex_flow": null,
            "grid_area": null,
            "grid_auto_columns": null,
            "grid_auto_flow": null,
            "grid_auto_rows": null,
            "grid_column": null,
            "grid_gap": null,
            "grid_row": null,
            "grid_template_areas": null,
            "grid_template_columns": null,
            "grid_template_rows": null,
            "height": null,
            "justify_content": null,
            "justify_items": null,
            "left": null,
            "margin": null,
            "max_height": null,
            "max_width": null,
            "min_height": null,
            "min_width": null,
            "object_fit": null,
            "object_position": null,
            "order": null,
            "overflow": null,
            "overflow_x": null,
            "overflow_y": null,
            "padding": null,
            "right": null,
            "top": null,
            "visibility": null,
            "width": null
          }
        },
        "78bec154663d4bc097c660884da60651": {
          "model_module": "@jupyter-widgets/controls",
          "model_name": "ProgressStyleModel",
          "model_module_version": "1.5.0",
          "state": {
            "_model_module": "@jupyter-widgets/controls",
            "_model_module_version": "1.5.0",
            "_model_name": "ProgressStyleModel",
            "_view_count": null,
            "_view_module": "@jupyter-widgets/base",
            "_view_module_version": "1.2.0",
            "_view_name": "StyleView",
            "bar_color": null,
            "description_width": ""
          }
        },
        "43d4dc5383f14a46870aa9b02d87f30c": {
          "model_module": "@jupyter-widgets/base",
          "model_name": "LayoutModel",
          "model_module_version": "1.2.0",
          "state": {
            "_model_module": "@jupyter-widgets/base",
            "_model_module_version": "1.2.0",
            "_model_name": "LayoutModel",
            "_view_count": null,
            "_view_module": "@jupyter-widgets/base",
            "_view_module_version": "1.2.0",
            "_view_name": "LayoutView",
            "align_content": null,
            "align_items": null,
            "align_self": null,
            "border": null,
            "bottom": null,
            "display": null,
            "flex": null,
            "flex_flow": null,
            "grid_area": null,
            "grid_auto_columns": null,
            "grid_auto_flow": null,
            "grid_auto_rows": null,
            "grid_column": null,
            "grid_gap": null,
            "grid_row": null,
            "grid_template_areas": null,
            "grid_template_columns": null,
            "grid_template_rows": null,
            "height": null,
            "justify_content": null,
            "justify_items": null,
            "left": null,
            "margin": null,
            "max_height": null,
            "max_width": null,
            "min_height": null,
            "min_width": null,
            "object_fit": null,
            "object_position": null,
            "order": null,
            "overflow": null,
            "overflow_x": null,
            "overflow_y": null,
            "padding": null,
            "right": null,
            "top": null,
            "visibility": null,
            "width": null
          }
        },
        "7936fc9ff57c4efebd03dffde1f4b9a9": {
          "model_module": "@jupyter-widgets/controls",
          "model_name": "DescriptionStyleModel",
          "model_module_version": "1.5.0",
          "state": {
            "_model_module": "@jupyter-widgets/controls",
            "_model_module_version": "1.5.0",
            "_model_name": "DescriptionStyleModel",
            "_view_count": null,
            "_view_module": "@jupyter-widgets/base",
            "_view_module_version": "1.2.0",
            "_view_name": "StyleView",
            "description_width": ""
          }
        },
        "a76e032e3cc14ba4b362339790754b71": {
          "model_module": "@jupyter-widgets/controls",
          "model_name": "HBoxModel",
          "model_module_version": "1.5.0",
          "state": {
            "_dom_classes": [],
            "_model_module": "@jupyter-widgets/controls",
            "_model_module_version": "1.5.0",
            "_model_name": "HBoxModel",
            "_view_count": null,
            "_view_module": "@jupyter-widgets/controls",
            "_view_module_version": "1.5.0",
            "_view_name": "HBoxView",
            "box_style": "",
            "children": [
              "IPY_MODEL_1e704211a9f84eaa9b5a3eb70b79f27b",
              "IPY_MODEL_b8fc773baee44cb5b4392d6285d4ec93",
              "IPY_MODEL_61f4bc5ab16642e39329ab3c059e5a63"
            ],
            "layout": "IPY_MODEL_cf33db5c0d5c4e1989886594caebd4b5"
          }
        },
        "1e704211a9f84eaa9b5a3eb70b79f27b": {
          "model_module": "@jupyter-widgets/controls",
          "model_name": "HTMLModel",
          "model_module_version": "1.5.0",
          "state": {
            "_dom_classes": [],
            "_model_module": "@jupyter-widgets/controls",
            "_model_module_version": "1.5.0",
            "_model_name": "HTMLModel",
            "_view_count": null,
            "_view_module": "@jupyter-widgets/controls",
            "_view_module_version": "1.5.0",
            "_view_name": "HTMLView",
            "description": "",
            "description_tooltip": null,
            "layout": "IPY_MODEL_92bf45f4ba7b4dd8944b1bc0db6468bd",
            "placeholder": "​",
            "style": "IPY_MODEL_69754647f6f3483799573353dfe5dbdc",
            "value": "tokenizer_config.json: 100%"
          }
        },
        "b8fc773baee44cb5b4392d6285d4ec93": {
          "model_module": "@jupyter-widgets/controls",
          "model_name": "FloatProgressModel",
          "model_module_version": "1.5.0",
          "state": {
            "_dom_classes": [],
            "_model_module": "@jupyter-widgets/controls",
            "_model_module_version": "1.5.0",
            "_model_name": "FloatProgressModel",
            "_view_count": null,
            "_view_module": "@jupyter-widgets/controls",
            "_view_module_version": "1.5.0",
            "_view_name": "ProgressView",
            "bar_style": "success",
            "description": "",
            "description_tooltip": null,
            "layout": "IPY_MODEL_a2262bd012fa4c178c963a265ae1b8c6",
            "max": 27,
            "min": 0,
            "orientation": "horizontal",
            "style": "IPY_MODEL_62250a51b02b4d2cb8810f42a36a9eb9",
            "value": 27
          }
        },
        "61f4bc5ab16642e39329ab3c059e5a63": {
          "model_module": "@jupyter-widgets/controls",
          "model_name": "HTMLModel",
          "model_module_version": "1.5.0",
          "state": {
            "_dom_classes": [],
            "_model_module": "@jupyter-widgets/controls",
            "_model_module_version": "1.5.0",
            "_model_name": "HTMLModel",
            "_view_count": null,
            "_view_module": "@jupyter-widgets/controls",
            "_view_module_version": "1.5.0",
            "_view_name": "HTMLView",
            "description": "",
            "description_tooltip": null,
            "layout": "IPY_MODEL_9998f7dd38f6405da3b23d1f41fe1c1b",
            "placeholder": "​",
            "style": "IPY_MODEL_63e17f7a94174bb59e5150d6ac9468e6",
            "value": " 27.0/27.0 [00:00&lt;00:00, 611B/s]"
          }
        },
        "cf33db5c0d5c4e1989886594caebd4b5": {
          "model_module": "@jupyter-widgets/base",
          "model_name": "LayoutModel",
          "model_module_version": "1.2.0",
          "state": {
            "_model_module": "@jupyter-widgets/base",
            "_model_module_version": "1.2.0",
            "_model_name": "LayoutModel",
            "_view_count": null,
            "_view_module": "@jupyter-widgets/base",
            "_view_module_version": "1.2.0",
            "_view_name": "LayoutView",
            "align_content": null,
            "align_items": null,
            "align_self": null,
            "border": null,
            "bottom": null,
            "display": null,
            "flex": null,
            "flex_flow": null,
            "grid_area": null,
            "grid_auto_columns": null,
            "grid_auto_flow": null,
            "grid_auto_rows": null,
            "grid_column": null,
            "grid_gap": null,
            "grid_row": null,
            "grid_template_areas": null,
            "grid_template_columns": null,
            "grid_template_rows": null,
            "height": null,
            "justify_content": null,
            "justify_items": null,
            "left": null,
            "margin": null,
            "max_height": null,
            "max_width": null,
            "min_height": null,
            "min_width": null,
            "object_fit": null,
            "object_position": null,
            "order": null,
            "overflow": null,
            "overflow_x": null,
            "overflow_y": null,
            "padding": null,
            "right": null,
            "top": null,
            "visibility": null,
            "width": null
          }
        },
        "92bf45f4ba7b4dd8944b1bc0db6468bd": {
          "model_module": "@jupyter-widgets/base",
          "model_name": "LayoutModel",
          "model_module_version": "1.2.0",
          "state": {
            "_model_module": "@jupyter-widgets/base",
            "_model_module_version": "1.2.0",
            "_model_name": "LayoutModel",
            "_view_count": null,
            "_view_module": "@jupyter-widgets/base",
            "_view_module_version": "1.2.0",
            "_view_name": "LayoutView",
            "align_content": null,
            "align_items": null,
            "align_self": null,
            "border": null,
            "bottom": null,
            "display": null,
            "flex": null,
            "flex_flow": null,
            "grid_area": null,
            "grid_auto_columns": null,
            "grid_auto_flow": null,
            "grid_auto_rows": null,
            "grid_column": null,
            "grid_gap": null,
            "grid_row": null,
            "grid_template_areas": null,
            "grid_template_columns": null,
            "grid_template_rows": null,
            "height": null,
            "justify_content": null,
            "justify_items": null,
            "left": null,
            "margin": null,
            "max_height": null,
            "max_width": null,
            "min_height": null,
            "min_width": null,
            "object_fit": null,
            "object_position": null,
            "order": null,
            "overflow": null,
            "overflow_x": null,
            "overflow_y": null,
            "padding": null,
            "right": null,
            "top": null,
            "visibility": null,
            "width": null
          }
        },
        "69754647f6f3483799573353dfe5dbdc": {
          "model_module": "@jupyter-widgets/controls",
          "model_name": "DescriptionStyleModel",
          "model_module_version": "1.5.0",
          "state": {
            "_model_module": "@jupyter-widgets/controls",
            "_model_module_version": "1.5.0",
            "_model_name": "DescriptionStyleModel",
            "_view_count": null,
            "_view_module": "@jupyter-widgets/base",
            "_view_module_version": "1.2.0",
            "_view_name": "StyleView",
            "description_width": ""
          }
        },
        "a2262bd012fa4c178c963a265ae1b8c6": {
          "model_module": "@jupyter-widgets/base",
          "model_name": "LayoutModel",
          "model_module_version": "1.2.0",
          "state": {
            "_model_module": "@jupyter-widgets/base",
            "_model_module_version": "1.2.0",
            "_model_name": "LayoutModel",
            "_view_count": null,
            "_view_module": "@jupyter-widgets/base",
            "_view_module_version": "1.2.0",
            "_view_name": "LayoutView",
            "align_content": null,
            "align_items": null,
            "align_self": null,
            "border": null,
            "bottom": null,
            "display": null,
            "flex": null,
            "flex_flow": null,
            "grid_area": null,
            "grid_auto_columns": null,
            "grid_auto_flow": null,
            "grid_auto_rows": null,
            "grid_column": null,
            "grid_gap": null,
            "grid_row": null,
            "grid_template_areas": null,
            "grid_template_columns": null,
            "grid_template_rows": null,
            "height": null,
            "justify_content": null,
            "justify_items": null,
            "left": null,
            "margin": null,
            "max_height": null,
            "max_width": null,
            "min_height": null,
            "min_width": null,
            "object_fit": null,
            "object_position": null,
            "order": null,
            "overflow": null,
            "overflow_x": null,
            "overflow_y": null,
            "padding": null,
            "right": null,
            "top": null,
            "visibility": null,
            "width": null
          }
        },
        "62250a51b02b4d2cb8810f42a36a9eb9": {
          "model_module": "@jupyter-widgets/controls",
          "model_name": "ProgressStyleModel",
          "model_module_version": "1.5.0",
          "state": {
            "_model_module": "@jupyter-widgets/controls",
            "_model_module_version": "1.5.0",
            "_model_name": "ProgressStyleModel",
            "_view_count": null,
            "_view_module": "@jupyter-widgets/base",
            "_view_module_version": "1.2.0",
            "_view_name": "StyleView",
            "bar_color": null,
            "description_width": ""
          }
        },
        "9998f7dd38f6405da3b23d1f41fe1c1b": {
          "model_module": "@jupyter-widgets/base",
          "model_name": "LayoutModel",
          "model_module_version": "1.2.0",
          "state": {
            "_model_module": "@jupyter-widgets/base",
            "_model_module_version": "1.2.0",
            "_model_name": "LayoutModel",
            "_view_count": null,
            "_view_module": "@jupyter-widgets/base",
            "_view_module_version": "1.2.0",
            "_view_name": "LayoutView",
            "align_content": null,
            "align_items": null,
            "align_self": null,
            "border": null,
            "bottom": null,
            "display": null,
            "flex": null,
            "flex_flow": null,
            "grid_area": null,
            "grid_auto_columns": null,
            "grid_auto_flow": null,
            "grid_auto_rows": null,
            "grid_column": null,
            "grid_gap": null,
            "grid_row": null,
            "grid_template_areas": null,
            "grid_template_columns": null,
            "grid_template_rows": null,
            "height": null,
            "justify_content": null,
            "justify_items": null,
            "left": null,
            "margin": null,
            "max_height": null,
            "max_width": null,
            "min_height": null,
            "min_width": null,
            "object_fit": null,
            "object_position": null,
            "order": null,
            "overflow": null,
            "overflow_x": null,
            "overflow_y": null,
            "padding": null,
            "right": null,
            "top": null,
            "visibility": null,
            "width": null
          }
        },
        "63e17f7a94174bb59e5150d6ac9468e6": {
          "model_module": "@jupyter-widgets/controls",
          "model_name": "DescriptionStyleModel",
          "model_module_version": "1.5.0",
          "state": {
            "_model_module": "@jupyter-widgets/controls",
            "_model_module_version": "1.5.0",
            "_model_name": "DescriptionStyleModel",
            "_view_count": null,
            "_view_module": "@jupyter-widgets/base",
            "_view_module_version": "1.2.0",
            "_view_name": "StyleView",
            "description_width": ""
          }
        },
        "c8f4c78034094e83821934bbdf3604d8": {
          "model_module": "@jupyter-widgets/controls",
          "model_name": "HBoxModel",
          "model_module_version": "1.5.0",
          "state": {
            "_dom_classes": [],
            "_model_module": "@jupyter-widgets/controls",
            "_model_module_version": "1.5.0",
            "_model_name": "HBoxModel",
            "_view_count": null,
            "_view_module": "@jupyter-widgets/controls",
            "_view_module_version": "1.5.0",
            "_view_name": "HBoxView",
            "box_style": "",
            "children": [
              "IPY_MODEL_15b6510f9af9447ca308ddf3d8386f47",
              "IPY_MODEL_3f2d197745b64b698f49b9ec4c184472",
              "IPY_MODEL_4826615a6b9e4707a187d04fa7f3ac40"
            ],
            "layout": "IPY_MODEL_1cf0eee2e78c4fcaae726fcb38b27dbe"
          }
        },
        "15b6510f9af9447ca308ddf3d8386f47": {
          "model_module": "@jupyter-widgets/controls",
          "model_name": "HTMLModel",
          "model_module_version": "1.5.0",
          "state": {
            "_dom_classes": [],
            "_model_module": "@jupyter-widgets/controls",
            "_model_module_version": "1.5.0",
            "_model_name": "HTMLModel",
            "_view_count": null,
            "_view_module": "@jupyter-widgets/controls",
            "_view_module_version": "1.5.0",
            "_view_name": "HTMLView",
            "description": "",
            "description_tooltip": null,
            "layout": "IPY_MODEL_fb4493e0a31a41588f5218cc219016ed",
            "placeholder": "​",
            "style": "IPY_MODEL_fd0e893e452a4e6b92a52382529782dd",
            "value": "vocab.json: "
          }
        },
        "3f2d197745b64b698f49b9ec4c184472": {
          "model_module": "@jupyter-widgets/controls",
          "model_name": "FloatProgressModel",
          "model_module_version": "1.5.0",
          "state": {
            "_dom_classes": [],
            "_model_module": "@jupyter-widgets/controls",
            "_model_module_version": "1.5.0",
            "_model_name": "FloatProgressModel",
            "_view_count": null,
            "_view_module": "@jupyter-widgets/controls",
            "_view_module_version": "1.5.0",
            "_view_name": "ProgressView",
            "bar_style": "success",
            "description": "",
            "description_tooltip": null,
            "layout": "IPY_MODEL_d10bbc4753d943c2890682dfdd636625",
            "max": 1,
            "min": 0,
            "orientation": "horizontal",
            "style": "IPY_MODEL_2557cfd707de407e8d5499dc45b8fc1f",
            "value": 1
          }
        },
        "4826615a6b9e4707a187d04fa7f3ac40": {
          "model_module": "@jupyter-widgets/controls",
          "model_name": "HTMLModel",
          "model_module_version": "1.5.0",
          "state": {
            "_dom_classes": [],
            "_model_module": "@jupyter-widgets/controls",
            "_model_module_version": "1.5.0",
            "_model_name": "HTMLModel",
            "_view_count": null,
            "_view_module": "@jupyter-widgets/controls",
            "_view_module_version": "1.5.0",
            "_view_name": "HTMLView",
            "description": "",
            "description_tooltip": null,
            "layout": "IPY_MODEL_796629fe035b4b16a5823623b8092695",
            "placeholder": "​",
            "style": "IPY_MODEL_08bc1032070a4d0c8260a32c77840c72",
            "value": " 899k/? [00:00&lt;00:00, 8.96MB/s]"
          }
        },
        "1cf0eee2e78c4fcaae726fcb38b27dbe": {
          "model_module": "@jupyter-widgets/base",
          "model_name": "LayoutModel",
          "model_module_version": "1.2.0",
          "state": {
            "_model_module": "@jupyter-widgets/base",
            "_model_module_version": "1.2.0",
            "_model_name": "LayoutModel",
            "_view_count": null,
            "_view_module": "@jupyter-widgets/base",
            "_view_module_version": "1.2.0",
            "_view_name": "LayoutView",
            "align_content": null,
            "align_items": null,
            "align_self": null,
            "border": null,
            "bottom": null,
            "display": null,
            "flex": null,
            "flex_flow": null,
            "grid_area": null,
            "grid_auto_columns": null,
            "grid_auto_flow": null,
            "grid_auto_rows": null,
            "grid_column": null,
            "grid_gap": null,
            "grid_row": null,
            "grid_template_areas": null,
            "grid_template_columns": null,
            "grid_template_rows": null,
            "height": null,
            "justify_content": null,
            "justify_items": null,
            "left": null,
            "margin": null,
            "max_height": null,
            "max_width": null,
            "min_height": null,
            "min_width": null,
            "object_fit": null,
            "object_position": null,
            "order": null,
            "overflow": null,
            "overflow_x": null,
            "overflow_y": null,
            "padding": null,
            "right": null,
            "top": null,
            "visibility": null,
            "width": null
          }
        },
        "fb4493e0a31a41588f5218cc219016ed": {
          "model_module": "@jupyter-widgets/base",
          "model_name": "LayoutModel",
          "model_module_version": "1.2.0",
          "state": {
            "_model_module": "@jupyter-widgets/base",
            "_model_module_version": "1.2.0",
            "_model_name": "LayoutModel",
            "_view_count": null,
            "_view_module": "@jupyter-widgets/base",
            "_view_module_version": "1.2.0",
            "_view_name": "LayoutView",
            "align_content": null,
            "align_items": null,
            "align_self": null,
            "border": null,
            "bottom": null,
            "display": null,
            "flex": null,
            "flex_flow": null,
            "grid_area": null,
            "grid_auto_columns": null,
            "grid_auto_flow": null,
            "grid_auto_rows": null,
            "grid_column": null,
            "grid_gap": null,
            "grid_row": null,
            "grid_template_areas": null,
            "grid_template_columns": null,
            "grid_template_rows": null,
            "height": null,
            "justify_content": null,
            "justify_items": null,
            "left": null,
            "margin": null,
            "max_height": null,
            "max_width": null,
            "min_height": null,
            "min_width": null,
            "object_fit": null,
            "object_position": null,
            "order": null,
            "overflow": null,
            "overflow_x": null,
            "overflow_y": null,
            "padding": null,
            "right": null,
            "top": null,
            "visibility": null,
            "width": null
          }
        },
        "fd0e893e452a4e6b92a52382529782dd": {
          "model_module": "@jupyter-widgets/controls",
          "model_name": "DescriptionStyleModel",
          "model_module_version": "1.5.0",
          "state": {
            "_model_module": "@jupyter-widgets/controls",
            "_model_module_version": "1.5.0",
            "_model_name": "DescriptionStyleModel",
            "_view_count": null,
            "_view_module": "@jupyter-widgets/base",
            "_view_module_version": "1.2.0",
            "_view_name": "StyleView",
            "description_width": ""
          }
        },
        "d10bbc4753d943c2890682dfdd636625": {
          "model_module": "@jupyter-widgets/base",
          "model_name": "LayoutModel",
          "model_module_version": "1.2.0",
          "state": {
            "_model_module": "@jupyter-widgets/base",
            "_model_module_version": "1.2.0",
            "_model_name": "LayoutModel",
            "_view_count": null,
            "_view_module": "@jupyter-widgets/base",
            "_view_module_version": "1.2.0",
            "_view_name": "LayoutView",
            "align_content": null,
            "align_items": null,
            "align_self": null,
            "border": null,
            "bottom": null,
            "display": null,
            "flex": null,
            "flex_flow": null,
            "grid_area": null,
            "grid_auto_columns": null,
            "grid_auto_flow": null,
            "grid_auto_rows": null,
            "grid_column": null,
            "grid_gap": null,
            "grid_row": null,
            "grid_template_areas": null,
            "grid_template_columns": null,
            "grid_template_rows": null,
            "height": null,
            "justify_content": null,
            "justify_items": null,
            "left": null,
            "margin": null,
            "max_height": null,
            "max_width": null,
            "min_height": null,
            "min_width": null,
            "object_fit": null,
            "object_position": null,
            "order": null,
            "overflow": null,
            "overflow_x": null,
            "overflow_y": null,
            "padding": null,
            "right": null,
            "top": null,
            "visibility": null,
            "width": "20px"
          }
        },
        "2557cfd707de407e8d5499dc45b8fc1f": {
          "model_module": "@jupyter-widgets/controls",
          "model_name": "ProgressStyleModel",
          "model_module_version": "1.5.0",
          "state": {
            "_model_module": "@jupyter-widgets/controls",
            "_model_module_version": "1.5.0",
            "_model_name": "ProgressStyleModel",
            "_view_count": null,
            "_view_module": "@jupyter-widgets/base",
            "_view_module_version": "1.2.0",
            "_view_name": "StyleView",
            "bar_color": null,
            "description_width": ""
          }
        },
        "796629fe035b4b16a5823623b8092695": {
          "model_module": "@jupyter-widgets/base",
          "model_name": "LayoutModel",
          "model_module_version": "1.2.0",
          "state": {
            "_model_module": "@jupyter-widgets/base",
            "_model_module_version": "1.2.0",
            "_model_name": "LayoutModel",
            "_view_count": null,
            "_view_module": "@jupyter-widgets/base",
            "_view_module_version": "1.2.0",
            "_view_name": "LayoutView",
            "align_content": null,
            "align_items": null,
            "align_self": null,
            "border": null,
            "bottom": null,
            "display": null,
            "flex": null,
            "flex_flow": null,
            "grid_area": null,
            "grid_auto_columns": null,
            "grid_auto_flow": null,
            "grid_auto_rows": null,
            "grid_column": null,
            "grid_gap": null,
            "grid_row": null,
            "grid_template_areas": null,
            "grid_template_columns": null,
            "grid_template_rows": null,
            "height": null,
            "justify_content": null,
            "justify_items": null,
            "left": null,
            "margin": null,
            "max_height": null,
            "max_width": null,
            "min_height": null,
            "min_width": null,
            "object_fit": null,
            "object_position": null,
            "order": null,
            "overflow": null,
            "overflow_x": null,
            "overflow_y": null,
            "padding": null,
            "right": null,
            "top": null,
            "visibility": null,
            "width": null
          }
        },
        "08bc1032070a4d0c8260a32c77840c72": {
          "model_module": "@jupyter-widgets/controls",
          "model_name": "DescriptionStyleModel",
          "model_module_version": "1.5.0",
          "state": {
            "_model_module": "@jupyter-widgets/controls",
            "_model_module_version": "1.5.0",
            "_model_name": "DescriptionStyleModel",
            "_view_count": null,
            "_view_module": "@jupyter-widgets/base",
            "_view_module_version": "1.2.0",
            "_view_name": "StyleView",
            "description_width": ""
          }
        },
        "61e7888a6f874ecb801d6329d57c2228": {
          "model_module": "@jupyter-widgets/controls",
          "model_name": "HBoxModel",
          "model_module_version": "1.5.0",
          "state": {
            "_dom_classes": [],
            "_model_module": "@jupyter-widgets/controls",
            "_model_module_version": "1.5.0",
            "_model_name": "HBoxModel",
            "_view_count": null,
            "_view_module": "@jupyter-widgets/controls",
            "_view_module_version": "1.5.0",
            "_view_name": "HBoxView",
            "box_style": "",
            "children": [
              "IPY_MODEL_3011d9b48a2142759c3958237b2254cb",
              "IPY_MODEL_bec79c0f20d9449c8215df5410735e31",
              "IPY_MODEL_c3b949d2332e4099b2c15a11c10f21bf"
            ],
            "layout": "IPY_MODEL_e88bbfcfdbcd4a6c81d1149f901075e2"
          }
        },
        "3011d9b48a2142759c3958237b2254cb": {
          "model_module": "@jupyter-widgets/controls",
          "model_name": "HTMLModel",
          "model_module_version": "1.5.0",
          "state": {
            "_dom_classes": [],
            "_model_module": "@jupyter-widgets/controls",
            "_model_module_version": "1.5.0",
            "_model_name": "HTMLModel",
            "_view_count": null,
            "_view_module": "@jupyter-widgets/controls",
            "_view_module_version": "1.5.0",
            "_view_name": "HTMLView",
            "description": "",
            "description_tooltip": null,
            "layout": "IPY_MODEL_10a381dc2ec2472da12b849dbfbc101f",
            "placeholder": "​",
            "style": "IPY_MODEL_e522f86d0b3846e798e0f37a50f8dc4c",
            "value": "merges.txt: "
          }
        },
        "bec79c0f20d9449c8215df5410735e31": {
          "model_module": "@jupyter-widgets/controls",
          "model_name": "FloatProgressModel",
          "model_module_version": "1.5.0",
          "state": {
            "_dom_classes": [],
            "_model_module": "@jupyter-widgets/controls",
            "_model_module_version": "1.5.0",
            "_model_name": "FloatProgressModel",
            "_view_count": null,
            "_view_module": "@jupyter-widgets/controls",
            "_view_module_version": "1.5.0",
            "_view_name": "ProgressView",
            "bar_style": "success",
            "description": "",
            "description_tooltip": null,
            "layout": "IPY_MODEL_61663f7ff17a4db1b825adb8dc0a7cbc",
            "max": 1,
            "min": 0,
            "orientation": "horizontal",
            "style": "IPY_MODEL_33e2d893adfb42dfa149ebaf0ecdf6dc",
            "value": 1
          }
        },
        "c3b949d2332e4099b2c15a11c10f21bf": {
          "model_module": "@jupyter-widgets/controls",
          "model_name": "HTMLModel",
          "model_module_version": "1.5.0",
          "state": {
            "_dom_classes": [],
            "_model_module": "@jupyter-widgets/controls",
            "_model_module_version": "1.5.0",
            "_model_name": "HTMLModel",
            "_view_count": null,
            "_view_module": "@jupyter-widgets/controls",
            "_view_module_version": "1.5.0",
            "_view_name": "HTMLView",
            "description": "",
            "description_tooltip": null,
            "layout": "IPY_MODEL_d7276470f73d447d94dcaa5541c3994d",
            "placeholder": "​",
            "style": "IPY_MODEL_83a61568087344c89aaf6c6b0b1c20cf",
            "value": " 456k/? [00:00&lt;00:00, 9.09MB/s]"
          }
        },
        "e88bbfcfdbcd4a6c81d1149f901075e2": {
          "model_module": "@jupyter-widgets/base",
          "model_name": "LayoutModel",
          "model_module_version": "1.2.0",
          "state": {
            "_model_module": "@jupyter-widgets/base",
            "_model_module_version": "1.2.0",
            "_model_name": "LayoutModel",
            "_view_count": null,
            "_view_module": "@jupyter-widgets/base",
            "_view_module_version": "1.2.0",
            "_view_name": "LayoutView",
            "align_content": null,
            "align_items": null,
            "align_self": null,
            "border": null,
            "bottom": null,
            "display": null,
            "flex": null,
            "flex_flow": null,
            "grid_area": null,
            "grid_auto_columns": null,
            "grid_auto_flow": null,
            "grid_auto_rows": null,
            "grid_column": null,
            "grid_gap": null,
            "grid_row": null,
            "grid_template_areas": null,
            "grid_template_columns": null,
            "grid_template_rows": null,
            "height": null,
            "justify_content": null,
            "justify_items": null,
            "left": null,
            "margin": null,
            "max_height": null,
            "max_width": null,
            "min_height": null,
            "min_width": null,
            "object_fit": null,
            "object_position": null,
            "order": null,
            "overflow": null,
            "overflow_x": null,
            "overflow_y": null,
            "padding": null,
            "right": null,
            "top": null,
            "visibility": null,
            "width": null
          }
        },
        "10a381dc2ec2472da12b849dbfbc101f": {
          "model_module": "@jupyter-widgets/base",
          "model_name": "LayoutModel",
          "model_module_version": "1.2.0",
          "state": {
            "_model_module": "@jupyter-widgets/base",
            "_model_module_version": "1.2.0",
            "_model_name": "LayoutModel",
            "_view_count": null,
            "_view_module": "@jupyter-widgets/base",
            "_view_module_version": "1.2.0",
            "_view_name": "LayoutView",
            "align_content": null,
            "align_items": null,
            "align_self": null,
            "border": null,
            "bottom": null,
            "display": null,
            "flex": null,
            "flex_flow": null,
            "grid_area": null,
            "grid_auto_columns": null,
            "grid_auto_flow": null,
            "grid_auto_rows": null,
            "grid_column": null,
            "grid_gap": null,
            "grid_row": null,
            "grid_template_areas": null,
            "grid_template_columns": null,
            "grid_template_rows": null,
            "height": null,
            "justify_content": null,
            "justify_items": null,
            "left": null,
            "margin": null,
            "max_height": null,
            "max_width": null,
            "min_height": null,
            "min_width": null,
            "object_fit": null,
            "object_position": null,
            "order": null,
            "overflow": null,
            "overflow_x": null,
            "overflow_y": null,
            "padding": null,
            "right": null,
            "top": null,
            "visibility": null,
            "width": null
          }
        },
        "e522f86d0b3846e798e0f37a50f8dc4c": {
          "model_module": "@jupyter-widgets/controls",
          "model_name": "DescriptionStyleModel",
          "model_module_version": "1.5.0",
          "state": {
            "_model_module": "@jupyter-widgets/controls",
            "_model_module_version": "1.5.0",
            "_model_name": "DescriptionStyleModel",
            "_view_count": null,
            "_view_module": "@jupyter-widgets/base",
            "_view_module_version": "1.2.0",
            "_view_name": "StyleView",
            "description_width": ""
          }
        },
        "61663f7ff17a4db1b825adb8dc0a7cbc": {
          "model_module": "@jupyter-widgets/base",
          "model_name": "LayoutModel",
          "model_module_version": "1.2.0",
          "state": {
            "_model_module": "@jupyter-widgets/base",
            "_model_module_version": "1.2.0",
            "_model_name": "LayoutModel",
            "_view_count": null,
            "_view_module": "@jupyter-widgets/base",
            "_view_module_version": "1.2.0",
            "_view_name": "LayoutView",
            "align_content": null,
            "align_items": null,
            "align_self": null,
            "border": null,
            "bottom": null,
            "display": null,
            "flex": null,
            "flex_flow": null,
            "grid_area": null,
            "grid_auto_columns": null,
            "grid_auto_flow": null,
            "grid_auto_rows": null,
            "grid_column": null,
            "grid_gap": null,
            "grid_row": null,
            "grid_template_areas": null,
            "grid_template_columns": null,
            "grid_template_rows": null,
            "height": null,
            "justify_content": null,
            "justify_items": null,
            "left": null,
            "margin": null,
            "max_height": null,
            "max_width": null,
            "min_height": null,
            "min_width": null,
            "object_fit": null,
            "object_position": null,
            "order": null,
            "overflow": null,
            "overflow_x": null,
            "overflow_y": null,
            "padding": null,
            "right": null,
            "top": null,
            "visibility": null,
            "width": "20px"
          }
        },
        "33e2d893adfb42dfa149ebaf0ecdf6dc": {
          "model_module": "@jupyter-widgets/controls",
          "model_name": "ProgressStyleModel",
          "model_module_version": "1.5.0",
          "state": {
            "_model_module": "@jupyter-widgets/controls",
            "_model_module_version": "1.5.0",
            "_model_name": "ProgressStyleModel",
            "_view_count": null,
            "_view_module": "@jupyter-widgets/base",
            "_view_module_version": "1.2.0",
            "_view_name": "StyleView",
            "bar_color": null,
            "description_width": ""
          }
        },
        "d7276470f73d447d94dcaa5541c3994d": {
          "model_module": "@jupyter-widgets/base",
          "model_name": "LayoutModel",
          "model_module_version": "1.2.0",
          "state": {
            "_model_module": "@jupyter-widgets/base",
            "_model_module_version": "1.2.0",
            "_model_name": "LayoutModel",
            "_view_count": null,
            "_view_module": "@jupyter-widgets/base",
            "_view_module_version": "1.2.0",
            "_view_name": "LayoutView",
            "align_content": null,
            "align_items": null,
            "align_self": null,
            "border": null,
            "bottom": null,
            "display": null,
            "flex": null,
            "flex_flow": null,
            "grid_area": null,
            "grid_auto_columns": null,
            "grid_auto_flow": null,
            "grid_auto_rows": null,
            "grid_column": null,
            "grid_gap": null,
            "grid_row": null,
            "grid_template_areas": null,
            "grid_template_columns": null,
            "grid_template_rows": null,
            "height": null,
            "justify_content": null,
            "justify_items": null,
            "left": null,
            "margin": null,
            "max_height": null,
            "max_width": null,
            "min_height": null,
            "min_width": null,
            "object_fit": null,
            "object_position": null,
            "order": null,
            "overflow": null,
            "overflow_x": null,
            "overflow_y": null,
            "padding": null,
            "right": null,
            "top": null,
            "visibility": null,
            "width": null
          }
        },
        "83a61568087344c89aaf6c6b0b1c20cf": {
          "model_module": "@jupyter-widgets/controls",
          "model_name": "DescriptionStyleModel",
          "model_module_version": "1.5.0",
          "state": {
            "_model_module": "@jupyter-widgets/controls",
            "_model_module_version": "1.5.0",
            "_model_name": "DescriptionStyleModel",
            "_view_count": null,
            "_view_module": "@jupyter-widgets/base",
            "_view_module_version": "1.2.0",
            "_view_name": "StyleView",
            "description_width": ""
          }
        },
        "0915e28209ad490e90893e9f9615314f": {
          "model_module": "@jupyter-widgets/controls",
          "model_name": "HBoxModel",
          "model_module_version": "1.5.0",
          "state": {
            "_dom_classes": [],
            "_model_module": "@jupyter-widgets/controls",
            "_model_module_version": "1.5.0",
            "_model_name": "HBoxModel",
            "_view_count": null,
            "_view_module": "@jupyter-widgets/controls",
            "_view_module_version": "1.5.0",
            "_view_name": "HBoxView",
            "box_style": "",
            "children": [
              "IPY_MODEL_db32a24d50dc44ecb9e0c9e3fd75736f",
              "IPY_MODEL_a5451048b87249ae827b3f540101d2d3",
              "IPY_MODEL_8eae5d5fea73490291999d225cc431a7"
            ],
            "layout": "IPY_MODEL_2535b7d697c34c4584ebe77c8037dfe7"
          }
        },
        "db32a24d50dc44ecb9e0c9e3fd75736f": {
          "model_module": "@jupyter-widgets/controls",
          "model_name": "HTMLModel",
          "model_module_version": "1.5.0",
          "state": {
            "_dom_classes": [],
            "_model_module": "@jupyter-widgets/controls",
            "_model_module_version": "1.5.0",
            "_model_name": "HTMLModel",
            "_view_count": null,
            "_view_module": "@jupyter-widgets/controls",
            "_view_module_version": "1.5.0",
            "_view_name": "HTMLView",
            "description": "",
            "description_tooltip": null,
            "layout": "IPY_MODEL_eb6c06f991804a25a584c91353527bab",
            "placeholder": "​",
            "style": "IPY_MODEL_3a5604cd08714467b20fb70d3f121470",
            "value": "tokenizer.json: "
          }
        },
        "a5451048b87249ae827b3f540101d2d3": {
          "model_module": "@jupyter-widgets/controls",
          "model_name": "FloatProgressModel",
          "model_module_version": "1.5.0",
          "state": {
            "_dom_classes": [],
            "_model_module": "@jupyter-widgets/controls",
            "_model_module_version": "1.5.0",
            "_model_name": "FloatProgressModel",
            "_view_count": null,
            "_view_module": "@jupyter-widgets/controls",
            "_view_module_version": "1.5.0",
            "_view_name": "ProgressView",
            "bar_style": "success",
            "description": "",
            "description_tooltip": null,
            "layout": "IPY_MODEL_d3600fbf762a4953b23ce790772f8c8e",
            "max": 1,
            "min": 0,
            "orientation": "horizontal",
            "style": "IPY_MODEL_6bf6215e04f445e3968a2bf9bb201a85",
            "value": 1
          }
        },
        "8eae5d5fea73490291999d225cc431a7": {
          "model_module": "@jupyter-widgets/controls",
          "model_name": "HTMLModel",
          "model_module_version": "1.5.0",
          "state": {
            "_dom_classes": [],
            "_model_module": "@jupyter-widgets/controls",
            "_model_module_version": "1.5.0",
            "_model_name": "HTMLModel",
            "_view_count": null,
            "_view_module": "@jupyter-widgets/controls",
            "_view_module_version": "1.5.0",
            "_view_name": "HTMLView",
            "description": "",
            "description_tooltip": null,
            "layout": "IPY_MODEL_59aea0355408465b921ef770c0a0621c",
            "placeholder": "​",
            "style": "IPY_MODEL_2feae75227a247c3805b811b0c13b4c0",
            "value": " 1.36M/? [00:00&lt;00:00, 6.83MB/s]"
          }
        },
        "2535b7d697c34c4584ebe77c8037dfe7": {
          "model_module": "@jupyter-widgets/base",
          "model_name": "LayoutModel",
          "model_module_version": "1.2.0",
          "state": {
            "_model_module": "@jupyter-widgets/base",
            "_model_module_version": "1.2.0",
            "_model_name": "LayoutModel",
            "_view_count": null,
            "_view_module": "@jupyter-widgets/base",
            "_view_module_version": "1.2.0",
            "_view_name": "LayoutView",
            "align_content": null,
            "align_items": null,
            "align_self": null,
            "border": null,
            "bottom": null,
            "display": null,
            "flex": null,
            "flex_flow": null,
            "grid_area": null,
            "grid_auto_columns": null,
            "grid_auto_flow": null,
            "grid_auto_rows": null,
            "grid_column": null,
            "grid_gap": null,
            "grid_row": null,
            "grid_template_areas": null,
            "grid_template_columns": null,
            "grid_template_rows": null,
            "height": null,
            "justify_content": null,
            "justify_items": null,
            "left": null,
            "margin": null,
            "max_height": null,
            "max_width": null,
            "min_height": null,
            "min_width": null,
            "object_fit": null,
            "object_position": null,
            "order": null,
            "overflow": null,
            "overflow_x": null,
            "overflow_y": null,
            "padding": null,
            "right": null,
            "top": null,
            "visibility": null,
            "width": null
          }
        },
        "eb6c06f991804a25a584c91353527bab": {
          "model_module": "@jupyter-widgets/base",
          "model_name": "LayoutModel",
          "model_module_version": "1.2.0",
          "state": {
            "_model_module": "@jupyter-widgets/base",
            "_model_module_version": "1.2.0",
            "_model_name": "LayoutModel",
            "_view_count": null,
            "_view_module": "@jupyter-widgets/base",
            "_view_module_version": "1.2.0",
            "_view_name": "LayoutView",
            "align_content": null,
            "align_items": null,
            "align_self": null,
            "border": null,
            "bottom": null,
            "display": null,
            "flex": null,
            "flex_flow": null,
            "grid_area": null,
            "grid_auto_columns": null,
            "grid_auto_flow": null,
            "grid_auto_rows": null,
            "grid_column": null,
            "grid_gap": null,
            "grid_row": null,
            "grid_template_areas": null,
            "grid_template_columns": null,
            "grid_template_rows": null,
            "height": null,
            "justify_content": null,
            "justify_items": null,
            "left": null,
            "margin": null,
            "max_height": null,
            "max_width": null,
            "min_height": null,
            "min_width": null,
            "object_fit": null,
            "object_position": null,
            "order": null,
            "overflow": null,
            "overflow_x": null,
            "overflow_y": null,
            "padding": null,
            "right": null,
            "top": null,
            "visibility": null,
            "width": null
          }
        },
        "3a5604cd08714467b20fb70d3f121470": {
          "model_module": "@jupyter-widgets/controls",
          "model_name": "DescriptionStyleModel",
          "model_module_version": "1.5.0",
          "state": {
            "_model_module": "@jupyter-widgets/controls",
            "_model_module_version": "1.5.0",
            "_model_name": "DescriptionStyleModel",
            "_view_count": null,
            "_view_module": "@jupyter-widgets/base",
            "_view_module_version": "1.2.0",
            "_view_name": "StyleView",
            "description_width": ""
          }
        },
        "d3600fbf762a4953b23ce790772f8c8e": {
          "model_module": "@jupyter-widgets/base",
          "model_name": "LayoutModel",
          "model_module_version": "1.2.0",
          "state": {
            "_model_module": "@jupyter-widgets/base",
            "_model_module_version": "1.2.0",
            "_model_name": "LayoutModel",
            "_view_count": null,
            "_view_module": "@jupyter-widgets/base",
            "_view_module_version": "1.2.0",
            "_view_name": "LayoutView",
            "align_content": null,
            "align_items": null,
            "align_self": null,
            "border": null,
            "bottom": null,
            "display": null,
            "flex": null,
            "flex_flow": null,
            "grid_area": null,
            "grid_auto_columns": null,
            "grid_auto_flow": null,
            "grid_auto_rows": null,
            "grid_column": null,
            "grid_gap": null,
            "grid_row": null,
            "grid_template_areas": null,
            "grid_template_columns": null,
            "grid_template_rows": null,
            "height": null,
            "justify_content": null,
            "justify_items": null,
            "left": null,
            "margin": null,
            "max_height": null,
            "max_width": null,
            "min_height": null,
            "min_width": null,
            "object_fit": null,
            "object_position": null,
            "order": null,
            "overflow": null,
            "overflow_x": null,
            "overflow_y": null,
            "padding": null,
            "right": null,
            "top": null,
            "visibility": null,
            "width": "20px"
          }
        },
        "6bf6215e04f445e3968a2bf9bb201a85": {
          "model_module": "@jupyter-widgets/controls",
          "model_name": "ProgressStyleModel",
          "model_module_version": "1.5.0",
          "state": {
            "_model_module": "@jupyter-widgets/controls",
            "_model_module_version": "1.5.0",
            "_model_name": "ProgressStyleModel",
            "_view_count": null,
            "_view_module": "@jupyter-widgets/base",
            "_view_module_version": "1.2.0",
            "_view_name": "StyleView",
            "bar_color": null,
            "description_width": ""
          }
        },
        "59aea0355408465b921ef770c0a0621c": {
          "model_module": "@jupyter-widgets/base",
          "model_name": "LayoutModel",
          "model_module_version": "1.2.0",
          "state": {
            "_model_module": "@jupyter-widgets/base",
            "_model_module_version": "1.2.0",
            "_model_name": "LayoutModel",
            "_view_count": null,
            "_view_module": "@jupyter-widgets/base",
            "_view_module_version": "1.2.0",
            "_view_name": "LayoutView",
            "align_content": null,
            "align_items": null,
            "align_self": null,
            "border": null,
            "bottom": null,
            "display": null,
            "flex": null,
            "flex_flow": null,
            "grid_area": null,
            "grid_auto_columns": null,
            "grid_auto_flow": null,
            "grid_auto_rows": null,
            "grid_column": null,
            "grid_gap": null,
            "grid_row": null,
            "grid_template_areas": null,
            "grid_template_columns": null,
            "grid_template_rows": null,
            "height": null,
            "justify_content": null,
            "justify_items": null,
            "left": null,
            "margin": null,
            "max_height": null,
            "max_width": null,
            "min_height": null,
            "min_width": null,
            "object_fit": null,
            "object_position": null,
            "order": null,
            "overflow": null,
            "overflow_x": null,
            "overflow_y": null,
            "padding": null,
            "right": null,
            "top": null,
            "visibility": null,
            "width": null
          }
        },
        "2feae75227a247c3805b811b0c13b4c0": {
          "model_module": "@jupyter-widgets/controls",
          "model_name": "DescriptionStyleModel",
          "model_module_version": "1.5.0",
          "state": {
            "_model_module": "@jupyter-widgets/controls",
            "_model_module_version": "1.5.0",
            "_model_name": "DescriptionStyleModel",
            "_view_count": null,
            "_view_module": "@jupyter-widgets/base",
            "_view_module_version": "1.2.0",
            "_view_name": "StyleView",
            "description_width": ""
          }
        },
        "9bae28f9a40e468cbb46367e793af5ea": {
          "model_module": "@jupyter-widgets/controls",
          "model_name": "HBoxModel",
          "model_module_version": "1.5.0",
          "state": {
            "_dom_classes": [],
            "_model_module": "@jupyter-widgets/controls",
            "_model_module_version": "1.5.0",
            "_model_name": "HBoxModel",
            "_view_count": null,
            "_view_module": "@jupyter-widgets/controls",
            "_view_module_version": "1.5.0",
            "_view_name": "HBoxView",
            "box_style": "",
            "children": [
              "IPY_MODEL_efbf91faf1c841c092b22b4dda1a58ff",
              "IPY_MODEL_eebba4fd18984bf59829e7a61d94713a",
              "IPY_MODEL_6ddb533627904f5f978c21d010ebf0b9"
            ],
            "layout": "IPY_MODEL_a51fbb58410a4af1ae0e3461df736f1e"
          }
        },
        "efbf91faf1c841c092b22b4dda1a58ff": {
          "model_module": "@jupyter-widgets/controls",
          "model_name": "HTMLModel",
          "model_module_version": "1.5.0",
          "state": {
            "_dom_classes": [],
            "_model_module": "@jupyter-widgets/controls",
            "_model_module_version": "1.5.0",
            "_model_name": "HTMLModel",
            "_view_count": null,
            "_view_module": "@jupyter-widgets/controls",
            "_view_module_version": "1.5.0",
            "_view_name": "HTMLView",
            "description": "",
            "description_tooltip": null,
            "layout": "IPY_MODEL_0ac37ac2f82c4e2da04945688af41b0b",
            "placeholder": "​",
            "style": "IPY_MODEL_53e5ecafee9247bf975f8cab8eb3380a",
            "value": "config.json: "
          }
        },
        "eebba4fd18984bf59829e7a61d94713a": {
          "model_module": "@jupyter-widgets/controls",
          "model_name": "FloatProgressModel",
          "model_module_version": "1.5.0",
          "state": {
            "_dom_classes": [],
            "_model_module": "@jupyter-widgets/controls",
            "_model_module_version": "1.5.0",
            "_model_name": "FloatProgressModel",
            "_view_count": null,
            "_view_module": "@jupyter-widgets/controls",
            "_view_module_version": "1.5.0",
            "_view_name": "ProgressView",
            "bar_style": "success",
            "description": "",
            "description_tooltip": null,
            "layout": "IPY_MODEL_701e98b2ea124b1b8084bdf58c598d3c",
            "max": 1,
            "min": 0,
            "orientation": "horizontal",
            "style": "IPY_MODEL_4e52562cb74b4db78c66246c0d8b8a2e",
            "value": 1
          }
        },
        "6ddb533627904f5f978c21d010ebf0b9": {
          "model_module": "@jupyter-widgets/controls",
          "model_name": "HTMLModel",
          "model_module_version": "1.5.0",
          "state": {
            "_dom_classes": [],
            "_model_module": "@jupyter-widgets/controls",
            "_model_module_version": "1.5.0",
            "_model_name": "HTMLModel",
            "_view_count": null,
            "_view_module": "@jupyter-widgets/controls",
            "_view_module_version": "1.5.0",
            "_view_name": "HTMLView",
            "description": "",
            "description_tooltip": null,
            "layout": "IPY_MODEL_00acffa4113f456cbe32ab2941c9736b",
            "placeholder": "​",
            "style": "IPY_MODEL_021c8036b76f4e4a8602aed8907b9a56",
            "value": " 1.32k/? [00:00&lt;00:00, 125kB/s]"
          }
        },
        "a51fbb58410a4af1ae0e3461df736f1e": {
          "model_module": "@jupyter-widgets/base",
          "model_name": "LayoutModel",
          "model_module_version": "1.2.0",
          "state": {
            "_model_module": "@jupyter-widgets/base",
            "_model_module_version": "1.2.0",
            "_model_name": "LayoutModel",
            "_view_count": null,
            "_view_module": "@jupyter-widgets/base",
            "_view_module_version": "1.2.0",
            "_view_name": "LayoutView",
            "align_content": null,
            "align_items": null,
            "align_self": null,
            "border": null,
            "bottom": null,
            "display": null,
            "flex": null,
            "flex_flow": null,
            "grid_area": null,
            "grid_auto_columns": null,
            "grid_auto_flow": null,
            "grid_auto_rows": null,
            "grid_column": null,
            "grid_gap": null,
            "grid_row": null,
            "grid_template_areas": null,
            "grid_template_columns": null,
            "grid_template_rows": null,
            "height": null,
            "justify_content": null,
            "justify_items": null,
            "left": null,
            "margin": null,
            "max_height": null,
            "max_width": null,
            "min_height": null,
            "min_width": null,
            "object_fit": null,
            "object_position": null,
            "order": null,
            "overflow": null,
            "overflow_x": null,
            "overflow_y": null,
            "padding": null,
            "right": null,
            "top": null,
            "visibility": null,
            "width": null
          }
        },
        "0ac37ac2f82c4e2da04945688af41b0b": {
          "model_module": "@jupyter-widgets/base",
          "model_name": "LayoutModel",
          "model_module_version": "1.2.0",
          "state": {
            "_model_module": "@jupyter-widgets/base",
            "_model_module_version": "1.2.0",
            "_model_name": "LayoutModel",
            "_view_count": null,
            "_view_module": "@jupyter-widgets/base",
            "_view_module_version": "1.2.0",
            "_view_name": "LayoutView",
            "align_content": null,
            "align_items": null,
            "align_self": null,
            "border": null,
            "bottom": null,
            "display": null,
            "flex": null,
            "flex_flow": null,
            "grid_area": null,
            "grid_auto_columns": null,
            "grid_auto_flow": null,
            "grid_auto_rows": null,
            "grid_column": null,
            "grid_gap": null,
            "grid_row": null,
            "grid_template_areas": null,
            "grid_template_columns": null,
            "grid_template_rows": null,
            "height": null,
            "justify_content": null,
            "justify_items": null,
            "left": null,
            "margin": null,
            "max_height": null,
            "max_width": null,
            "min_height": null,
            "min_width": null,
            "object_fit": null,
            "object_position": null,
            "order": null,
            "overflow": null,
            "overflow_x": null,
            "overflow_y": null,
            "padding": null,
            "right": null,
            "top": null,
            "visibility": null,
            "width": null
          }
        },
        "53e5ecafee9247bf975f8cab8eb3380a": {
          "model_module": "@jupyter-widgets/controls",
          "model_name": "DescriptionStyleModel",
          "model_module_version": "1.5.0",
          "state": {
            "_model_module": "@jupyter-widgets/controls",
            "_model_module_version": "1.5.0",
            "_model_name": "DescriptionStyleModel",
            "_view_count": null,
            "_view_module": "@jupyter-widgets/base",
            "_view_module_version": "1.2.0",
            "_view_name": "StyleView",
            "description_width": ""
          }
        },
        "701e98b2ea124b1b8084bdf58c598d3c": {
          "model_module": "@jupyter-widgets/base",
          "model_name": "LayoutModel",
          "model_module_version": "1.2.0",
          "state": {
            "_model_module": "@jupyter-widgets/base",
            "_model_module_version": "1.2.0",
            "_model_name": "LayoutModel",
            "_view_count": null,
            "_view_module": "@jupyter-widgets/base",
            "_view_module_version": "1.2.0",
            "_view_name": "LayoutView",
            "align_content": null,
            "align_items": null,
            "align_self": null,
            "border": null,
            "bottom": null,
            "display": null,
            "flex": null,
            "flex_flow": null,
            "grid_area": null,
            "grid_auto_columns": null,
            "grid_auto_flow": null,
            "grid_auto_rows": null,
            "grid_column": null,
            "grid_gap": null,
            "grid_row": null,
            "grid_template_areas": null,
            "grid_template_columns": null,
            "grid_template_rows": null,
            "height": null,
            "justify_content": null,
            "justify_items": null,
            "left": null,
            "margin": null,
            "max_height": null,
            "max_width": null,
            "min_height": null,
            "min_width": null,
            "object_fit": null,
            "object_position": null,
            "order": null,
            "overflow": null,
            "overflow_x": null,
            "overflow_y": null,
            "padding": null,
            "right": null,
            "top": null,
            "visibility": null,
            "width": "20px"
          }
        },
        "4e52562cb74b4db78c66246c0d8b8a2e": {
          "model_module": "@jupyter-widgets/controls",
          "model_name": "ProgressStyleModel",
          "model_module_version": "1.5.0",
          "state": {
            "_model_module": "@jupyter-widgets/controls",
            "_model_module_version": "1.5.0",
            "_model_name": "ProgressStyleModel",
            "_view_count": null,
            "_view_module": "@jupyter-widgets/base",
            "_view_module_version": "1.2.0",
            "_view_name": "StyleView",
            "bar_color": null,
            "description_width": ""
          }
        },
        "00acffa4113f456cbe32ab2941c9736b": {
          "model_module": "@jupyter-widgets/base",
          "model_name": "LayoutModel",
          "model_module_version": "1.2.0",
          "state": {
            "_model_module": "@jupyter-widgets/base",
            "_model_module_version": "1.2.0",
            "_model_name": "LayoutModel",
            "_view_count": null,
            "_view_module": "@jupyter-widgets/base",
            "_view_module_version": "1.2.0",
            "_view_name": "LayoutView",
            "align_content": null,
            "align_items": null,
            "align_self": null,
            "border": null,
            "bottom": null,
            "display": null,
            "flex": null,
            "flex_flow": null,
            "grid_area": null,
            "grid_auto_columns": null,
            "grid_auto_flow": null,
            "grid_auto_rows": null,
            "grid_column": null,
            "grid_gap": null,
            "grid_row": null,
            "grid_template_areas": null,
            "grid_template_columns": null,
            "grid_template_rows": null,
            "height": null,
            "justify_content": null,
            "justify_items": null,
            "left": null,
            "margin": null,
            "max_height": null,
            "max_width": null,
            "min_height": null,
            "min_width": null,
            "object_fit": null,
            "object_position": null,
            "order": null,
            "overflow": null,
            "overflow_x": null,
            "overflow_y": null,
            "padding": null,
            "right": null,
            "top": null,
            "visibility": null,
            "width": null
          }
        },
        "021c8036b76f4e4a8602aed8907b9a56": {
          "model_module": "@jupyter-widgets/controls",
          "model_name": "DescriptionStyleModel",
          "model_module_version": "1.5.0",
          "state": {
            "_model_module": "@jupyter-widgets/controls",
            "_model_module_version": "1.5.0",
            "_model_name": "DescriptionStyleModel",
            "_view_count": null,
            "_view_module": "@jupyter-widgets/base",
            "_view_module_version": "1.2.0",
            "_view_name": "StyleView",
            "description_width": ""
          }
        },
        "144c79c244d44ebdbd5bda935458ad0c": {
          "model_module": "@jupyter-widgets/controls",
          "model_name": "HBoxModel",
          "model_module_version": "1.5.0",
          "state": {
            "_dom_classes": [],
            "_model_module": "@jupyter-widgets/controls",
            "_model_module_version": "1.5.0",
            "_model_name": "HBoxModel",
            "_view_count": null,
            "_view_module": "@jupyter-widgets/controls",
            "_view_module_version": "1.5.0",
            "_view_name": "HBoxView",
            "box_style": "",
            "children": [
              "IPY_MODEL_438f2ff2c1a0497d912ac19ac3416c49",
              "IPY_MODEL_91e1f6a2aad24c23a38468c523a1dacb",
              "IPY_MODEL_da64b0f5933247679f6fa2671a822a44"
            ],
            "layout": "IPY_MODEL_9e08a14044d84a98af4751a5366ac517"
          }
        },
        "438f2ff2c1a0497d912ac19ac3416c49": {
          "model_module": "@jupyter-widgets/controls",
          "model_name": "HTMLModel",
          "model_module_version": "1.5.0",
          "state": {
            "_dom_classes": [],
            "_model_module": "@jupyter-widgets/controls",
            "_model_module_version": "1.5.0",
            "_model_name": "HTMLModel",
            "_view_count": null,
            "_view_module": "@jupyter-widgets/controls",
            "_view_module_version": "1.5.0",
            "_view_name": "HTMLView",
            "description": "",
            "description_tooltip": null,
            "layout": "IPY_MODEL_7c2f31af7a0c483ab50eb3d91778d151",
            "placeholder": "​",
            "style": "IPY_MODEL_16d55203dc5b4fc498d687a694622012",
            "value": "model.safetensors: 100%"
          }
        },
        "91e1f6a2aad24c23a38468c523a1dacb": {
          "model_module": "@jupyter-widgets/controls",
          "model_name": "FloatProgressModel",
          "model_module_version": "1.5.0",
          "state": {
            "_dom_classes": [],
            "_model_module": "@jupyter-widgets/controls",
            "_model_module_version": "1.5.0",
            "_model_name": "FloatProgressModel",
            "_view_count": null,
            "_view_module": "@jupyter-widgets/controls",
            "_view_module_version": "1.5.0",
            "_view_name": "ProgressView",
            "bar_style": "success",
            "description": "",
            "description_tooltip": null,
            "layout": "IPY_MODEL_0c9d88051cc84c6ab074f12d39eb0b0d",
            "max": 1625426996,
            "min": 0,
            "orientation": "horizontal",
            "style": "IPY_MODEL_8e28a71b1ace4250a2d9dac1771d9ce3",
            "value": 1625426996
          }
        },
        "da64b0f5933247679f6fa2671a822a44": {
          "model_module": "@jupyter-widgets/controls",
          "model_name": "HTMLModel",
          "model_module_version": "1.5.0",
          "state": {
            "_dom_classes": [],
            "_model_module": "@jupyter-widgets/controls",
            "_model_module_version": "1.5.0",
            "_model_name": "HTMLModel",
            "_view_count": null,
            "_view_module": "@jupyter-widgets/controls",
            "_view_module_version": "1.5.0",
            "_view_name": "HTMLView",
            "description": "",
            "description_tooltip": null,
            "layout": "IPY_MODEL_e2b9b153982f4193b757d9a8e0c6f1ad",
            "placeholder": "​",
            "style": "IPY_MODEL_61ce99b2fe00403695ab1ac178b1a6cb",
            "value": " 1.63G/1.63G [02:22&lt;00:00, 5.97MB/s]"
          }
        },
        "9e08a14044d84a98af4751a5366ac517": {
          "model_module": "@jupyter-widgets/base",
          "model_name": "LayoutModel",
          "model_module_version": "1.2.0",
          "state": {
            "_model_module": "@jupyter-widgets/base",
            "_model_module_version": "1.2.0",
            "_model_name": "LayoutModel",
            "_view_count": null,
            "_view_module": "@jupyter-widgets/base",
            "_view_module_version": "1.2.0",
            "_view_name": "LayoutView",
            "align_content": null,
            "align_items": null,
            "align_self": null,
            "border": null,
            "bottom": null,
            "display": null,
            "flex": null,
            "flex_flow": null,
            "grid_area": null,
            "grid_auto_columns": null,
            "grid_auto_flow": null,
            "grid_auto_rows": null,
            "grid_column": null,
            "grid_gap": null,
            "grid_row": null,
            "grid_template_areas": null,
            "grid_template_columns": null,
            "grid_template_rows": null,
            "height": null,
            "justify_content": null,
            "justify_items": null,
            "left": null,
            "margin": null,
            "max_height": null,
            "max_width": null,
            "min_height": null,
            "min_width": null,
            "object_fit": null,
            "object_position": null,
            "order": null,
            "overflow": null,
            "overflow_x": null,
            "overflow_y": null,
            "padding": null,
            "right": null,
            "top": null,
            "visibility": null,
            "width": null
          }
        },
        "7c2f31af7a0c483ab50eb3d91778d151": {
          "model_module": "@jupyter-widgets/base",
          "model_name": "LayoutModel",
          "model_module_version": "1.2.0",
          "state": {
            "_model_module": "@jupyter-widgets/base",
            "_model_module_version": "1.2.0",
            "_model_name": "LayoutModel",
            "_view_count": null,
            "_view_module": "@jupyter-widgets/base",
            "_view_module_version": "1.2.0",
            "_view_name": "LayoutView",
            "align_content": null,
            "align_items": null,
            "align_self": null,
            "border": null,
            "bottom": null,
            "display": null,
            "flex": null,
            "flex_flow": null,
            "grid_area": null,
            "grid_auto_columns": null,
            "grid_auto_flow": null,
            "grid_auto_rows": null,
            "grid_column": null,
            "grid_gap": null,
            "grid_row": null,
            "grid_template_areas": null,
            "grid_template_columns": null,
            "grid_template_rows": null,
            "height": null,
            "justify_content": null,
            "justify_items": null,
            "left": null,
            "margin": null,
            "max_height": null,
            "max_width": null,
            "min_height": null,
            "min_width": null,
            "object_fit": null,
            "object_position": null,
            "order": null,
            "overflow": null,
            "overflow_x": null,
            "overflow_y": null,
            "padding": null,
            "right": null,
            "top": null,
            "visibility": null,
            "width": null
          }
        },
        "16d55203dc5b4fc498d687a694622012": {
          "model_module": "@jupyter-widgets/controls",
          "model_name": "DescriptionStyleModel",
          "model_module_version": "1.5.0",
          "state": {
            "_model_module": "@jupyter-widgets/controls",
            "_model_module_version": "1.5.0",
            "_model_name": "DescriptionStyleModel",
            "_view_count": null,
            "_view_module": "@jupyter-widgets/base",
            "_view_module_version": "1.2.0",
            "_view_name": "StyleView",
            "description_width": ""
          }
        },
        "0c9d88051cc84c6ab074f12d39eb0b0d": {
          "model_module": "@jupyter-widgets/base",
          "model_name": "LayoutModel",
          "model_module_version": "1.2.0",
          "state": {
            "_model_module": "@jupyter-widgets/base",
            "_model_module_version": "1.2.0",
            "_model_name": "LayoutModel",
            "_view_count": null,
            "_view_module": "@jupyter-widgets/base",
            "_view_module_version": "1.2.0",
            "_view_name": "LayoutView",
            "align_content": null,
            "align_items": null,
            "align_self": null,
            "border": null,
            "bottom": null,
            "display": null,
            "flex": null,
            "flex_flow": null,
            "grid_area": null,
            "grid_auto_columns": null,
            "grid_auto_flow": null,
            "grid_auto_rows": null,
            "grid_column": null,
            "grid_gap": null,
            "grid_row": null,
            "grid_template_areas": null,
            "grid_template_columns": null,
            "grid_template_rows": null,
            "height": null,
            "justify_content": null,
            "justify_items": null,
            "left": null,
            "margin": null,
            "max_height": null,
            "max_width": null,
            "min_height": null,
            "min_width": null,
            "object_fit": null,
            "object_position": null,
            "order": null,
            "overflow": null,
            "overflow_x": null,
            "overflow_y": null,
            "padding": null,
            "right": null,
            "top": null,
            "visibility": null,
            "width": null
          }
        },
        "8e28a71b1ace4250a2d9dac1771d9ce3": {
          "model_module": "@jupyter-widgets/controls",
          "model_name": "ProgressStyleModel",
          "model_module_version": "1.5.0",
          "state": {
            "_model_module": "@jupyter-widgets/controls",
            "_model_module_version": "1.5.0",
            "_model_name": "ProgressStyleModel",
            "_view_count": null,
            "_view_module": "@jupyter-widgets/base",
            "_view_module_version": "1.2.0",
            "_view_name": "StyleView",
            "bar_color": null,
            "description_width": ""
          }
        },
        "e2b9b153982f4193b757d9a8e0c6f1ad": {
          "model_module": "@jupyter-widgets/base",
          "model_name": "LayoutModel",
          "model_module_version": "1.2.0",
          "state": {
            "_model_module": "@jupyter-widgets/base",
            "_model_module_version": "1.2.0",
            "_model_name": "LayoutModel",
            "_view_count": null,
            "_view_module": "@jupyter-widgets/base",
            "_view_module_version": "1.2.0",
            "_view_name": "LayoutView",
            "align_content": null,
            "align_items": null,
            "align_self": null,
            "border": null,
            "bottom": null,
            "display": null,
            "flex": null,
            "flex_flow": null,
            "grid_area": null,
            "grid_auto_columns": null,
            "grid_auto_flow": null,
            "grid_auto_rows": null,
            "grid_column": null,
            "grid_gap": null,
            "grid_row": null,
            "grid_template_areas": null,
            "grid_template_columns": null,
            "grid_template_rows": null,
            "height": null,
            "justify_content": null,
            "justify_items": null,
            "left": null,
            "margin": null,
            "max_height": null,
            "max_width": null,
            "min_height": null,
            "min_width": null,
            "object_fit": null,
            "object_position": null,
            "order": null,
            "overflow": null,
            "overflow_x": null,
            "overflow_y": null,
            "padding": null,
            "right": null,
            "top": null,
            "visibility": null,
            "width": null
          }
        },
        "61ce99b2fe00403695ab1ac178b1a6cb": {
          "model_module": "@jupyter-widgets/controls",
          "model_name": "DescriptionStyleModel",
          "model_module_version": "1.5.0",
          "state": {
            "_model_module": "@jupyter-widgets/controls",
            "_model_module_version": "1.5.0",
            "_model_name": "DescriptionStyleModel",
            "_view_count": null,
            "_view_module": "@jupyter-widgets/base",
            "_view_module_version": "1.2.0",
            "_view_name": "StyleView",
            "description_width": ""
          }
        }
      }
    }
  },
  "nbformat": 4,
  "nbformat_minor": 0
}